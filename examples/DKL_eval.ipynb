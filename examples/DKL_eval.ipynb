{
 "cells": [
  {
   "cell_type": "code",
   "execution_count": 1,
   "metadata": {
    "pycharm": {
     "is_executing": false
    }
   },
   "outputs": [],
   "source": [
    "'''This script shows the effects of increasing latent dimensionality in VAEs.\n",
    "\n",
    " #Reference\n",
    "\n",
    " - Auto-Encoding Variational Bayes\n",
    "   https://arxiv.org/abs/1312.6114\n",
    "'''\n",
    "import os,sys\n",
    "os.environ[\"CUDA_DEVICE_ORDER\"] = \"PCI_BUS_ID\"   # see issue #152\n",
    "os.environ[\"CUDA_VISIBLE_DEVICES\"] = \"\"\n",
    "\n",
    "import random\n",
    "import numpy as np\n",
    "import vae_tools.metrics as metrics"
   ]
  },
  {
   "cell_type": "code",
   "execution_count": 2,
   "metadata": {
    "pycharm": {
     "is_executing": false
    }
   },
   "outputs": [
    {
     "name": "stdout",
     "text": [
      "2.0\n"
     ],
     "output_type": "stream"
    }
   ],
   "source": [
    "mean1 = 0\n",
    "mean2 = 2\n",
    "log_var1 = 0\n",
    "log_var2 = 0\n",
    "print(metrics.kl_loss(mean1, mean2, log_var1, log_var2))"
   ]
  },
  {
   "cell_type": "code",
   "execution_count": 3,
   "metadata": {
    "pycharm": {
     "is_executing": false
    }
   },
   "outputs": [],
   "source": [
    "#print(2.*np.log(sigma))"
   ]
  },
  {
   "cell_type": "code",
   "execution_count": 4,
   "metadata": {
    "pycharm": {
     "is_executing": false
    }
   },
   "outputs": [
    {
     "evalue": "name 'mu' is not defined",
     "ename": "NameError",
     "traceback": [
      "\u001b[0;31m---------------------------------------------------------------------------\u001b[0m",
      "\u001b[0;31mNameError\u001b[0m                                 Traceback (most recent call last)",
      "\u001b[0;32m<ipython-input-4-d939be512c64>\u001b[0m in \u001b[0;36m<module>\u001b[0;34m()\u001b[0m\n\u001b[1;32m      1\u001b[0m \u001b[0;34m\u001b[0m\u001b[0m\n\u001b[1;32m      2\u001b[0m \u001b[0;31m#print(dkl)\u001b[0m\u001b[0;34m\u001b[0m\u001b[0;34m\u001b[0m\u001b[0m\n\u001b[0;32m----> 3\u001b[0;31m \u001b[0mprint\u001b[0m\u001b[0;34m(\u001b[0m\u001b[0mnp\u001b[0m\u001b[0;34m.\u001b[0m\u001b[0mmax\u001b[0m\u001b[0;34m(\u001b[0m\u001b[0mmu\u001b[0m\u001b[0;34m)\u001b[0m\u001b[0;34m)\u001b[0m\u001b[0;34m\u001b[0m\u001b[0m\n\u001b[0m",
      "\u001b[0;31mNameError\u001b[0m: name 'mu' is not defined"
     ],
     "output_type": "error"
    }
   ],
   "source": [
    "#print(dkl)\n",
    "print(np.max(mu))"
   ]
  },
  {
   "cell_type": "code",
   "execution_count": null,
   "metadata": {
    "pycharm": {
     "is_executing": false
    }
   },
   "outputs": [],
   "source": []
  },
  {
   "cell_type": "code",
   "execution_count": null,
   "metadata": {
    "pycharm": {
     "is_executing": false
    }
   },
   "outputs": [],
   "source": [
    "mu_min = -2.\n",
    "mu_max = 2.\n",
    "sigma_min = .2\n",
    "sigma_max = 3.\n",
    "delta = 0.1\n",
    "\n",
    "sigma =  list(np.linspace(sigma_min, sigma_max, int((sigma_max - sigma_min) / delta)))\n",
    "mu = list(np.linspace(mu_min, mu_max, int((mu_max - mu_min) / delta)))\n",
    "\n",
    "Sigma, Mu = np.meshgrid(sigma, mu)\n",
    "\n",
    "dkl_orig = metrics.kl_loss(mean1, np.ravel(Mu), log_var1, 2.*np.log(np.ravel(Sigma)))\n",
    "Dkl_orig = dkl_orig.reshape(Sigma.shape)\n",
    "dkl_rev = metrics.kl_loss(np.ravel(Mu), mean1, 2.*np.log(np.ravel(Sigma)), log_var1)\n",
    "Dkl_rev = dkl_rev.reshape(Sigma.shape)\n",
    "\n",
    "from mpl_toolkits.mplot3d import Axes3D  \n",
    "# Axes3D import has side effects, it enables using projection='3d' in add_subplot\n",
    "import matplotlib.pyplot as plt\n",
    "from matplotlib import cm\n",
    "fig = plt.figure(figsize=(10,4), dpi=155)\n",
    "ax = fig.add_subplot(131, projection='3d')\n",
    "ax.plot_surface(Mu, Sigma, np.log(Dkl_orig), cmap=cm.jet, linewidth=0.1)\n",
    "ax.set_xlabel('mu')\n",
    "ax.set_ylabel('sigma')\n",
    "ax.set_zlabel('ln(dkl_orig)')\n",
    "ax = fig.add_subplot(132, projection='3d')\n",
    "ax.plot_surface(Mu, Sigma, np.log(Dkl_rev), cmap=cm.jet, linewidth=0.1)\n",
    "ax.set_xlabel('mu')\n",
    "ax.set_ylabel('sigma')\n",
    "ax.set_zlabel('ln(dkl_rev)')\n",
    "ax = fig.add_subplot(133, projection='3d')\n",
    "ax.plot_surface(Mu, Sigma, np.log(np.abs(Dkl_rev - Dkl_orig)), cmap=cm.jet, linewidth=0.1)\n",
    "ax.set_xlabel('mu')\n",
    "ax.set_ylabel('sigma')\n",
    "ax.set_zlabel('ln(dkl_rev + dkl_orig)')\n",
    "\n",
    "\n",
    "plt.show()"
   ]
  },
  {
   "cell_type": "code",
   "execution_count": null,
   "metadata": {
    "pycharm": {
     "is_executing": false
    }
   },
   "outputs": [],
   "source": [
    "dkl_rev"
   ]
  },
  {
   "cell_type": "code",
   "execution_count": null,
   "metadata": {
    "pycharm": {
     "is_executing": false
    }
   },
   "outputs": [],
   "source": []
  }
 ],
 "metadata": {
  "kernelspec": {
   "name": "pycharm-cddc943f",
   "language": "python",
   "display_name": "PyCharm (notebooks)"
  },
  "language_info": {
   "codemirror_mode": {
    "name": "ipython",
    "version": 3
   },
   "file_extension": ".py",
   "mimetype": "text/x-python",
   "name": "python",
   "nbconvert_exporter": "python",
   "pygments_lexer": "ipython3",
   "version": "3.5.2"
  },
  "varInspector": {
   "cols": {
    "lenName": 16,
    "lenType": 16,
    "lenVar": 40
   },
   "kernels_config": {
    "python": {
     "delete_cmd_postfix": "",
     "delete_cmd_prefix": "del ",
     "library": "var_list.py",
     "varRefreshCmd": "print(var_dic_list())"
    },
    "r": {
     "delete_cmd_postfix": ") ",
     "delete_cmd_prefix": "rm(",
     "library": "var_list.r",
     "varRefreshCmd": "cat(var_dic_list()) "
    }
   },
   "types_to_exclude": [
    "module",
    "function",
    "builtin_function_or_method",
    "instance",
    "_Feature"
   ],
   "window_display": false
  }
 },
 "nbformat": 4,
 "nbformat_minor": 2
}