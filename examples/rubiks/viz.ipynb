{
 "cells": [
  {
   "cell_type": "code",
   "execution_count": 0,
   "metadata": {
    "collapsed": true
   },
   "outputs": [],
   "source": []
  },
  {
   "cell_type": "code",
   "execution_count": 1,
   "outputs": [
    {
     "name": "stdout",
     "output_type": "stream",
     "text": [
      "python version:  3.5.2\n",
      "keras version: 2.2.4-tf\n",
      "tensorflow version: 2.0.3\n",
      "matplotlib uses:  module://ipykernel.pylab.backend_inline\n",
      "No GPUs available\n"
     ]
    }
   ],
   "source": [
    "import vae_tools.sanity\n",
    "import vae_tools.viz\n",
    "import vae_tools.callbacks\n",
    "from vae_tools.mmvae import MmVae, ReconstructionLoss\n",
    "vae_tools.sanity.check()\n",
    "import tensorflow as tf\n",
    "from tensorflow.keras.utils import to_categorical\n",
    "from tensorflow import keras\n",
    "from tensorflow.keras.layers import Input, Dense, Lambda, Layer\n",
    "from tensorflow.keras.datasets import mnist\n",
    "import numpy as np\n",
    "from scipy.stats import norm, multivariate_normal\n",
    "from scipy import stats\n",
    "# Set the seed for reproducible results\n",
    "import vae_tools.sampling\n",
    "import vae_tools.loader\n",
    "\n",
    "import pickle\n",
    "\n",
    "# Matplotlib\n",
    "from matplotlib import rc\n",
    "rc('font',**{'family':'serif','serif':['Computer Modern Roman']})\n",
    "rc('text', usetex=True)\n",
    "rc('text.latex', preamble=r'\\usepackage{amsmath}')\n",
    "import matplotlib\n",
    "import matplotlib.pyplot as plt\n"
   ],
   "metadata": {
    "collapsed": false,
    "pycharm": {
     "name": "#%%\n"
    }
   }
  },
  {
   "cell_type": "code",
   "execution_count": 9,
   "outputs": [
    {
     "data": {
      "image/png": "[encoded data removed]",
      "text/plain": "<Figure size 432x288 with 1 Axes>"
     },
     "metadata": {},
     "output_type": "display_data"
    }
   ],
   "source": [
    "# ICM\n",
    "\n",
    "import pickle\n",
    "\n",
    "with open('icm.p', 'rb') as h:\n",
    "    d = pickle.load(h)\n",
    "\n",
    "#c = np.concatenate(((pose_pitch_yaw - np.min(pose_pitch_yaw, axis=0)) / np.max(pose_pitch_yaw, axis=0), np.zeros((num_data,1))), axis=1)\n",
    "#plt.scatter(X_train_feat[:,0], X_train_feat[:,1], c=c)\n",
    "cmap = plt.get_cmap(\"tab10\")\n",
    "_, idxs =  np.where(d['a'] == .5)\n",
    "plt.scatter(d['z'][:,0], d['z'][:,1], c=[cmap(idx) for idx in idxs])\n",
    "plt.title('Learned Latent Representation')\n",
    "plt.show()"
   ],
   "metadata": {
    "collapsed": false,
    "pycharm": {
     "name": "#%%\n"
    }
   }
  },
  {
   "cell_type": "code",
   "execution_count": 6,
   "outputs": [
    {
     "name": "stdout",
     "output_type": "stream",
     "text": [
      "[1 0 2 ... 0 1 0]\n"
     ]
    }
   ],
   "source": [
    "_, idxs =  np.where(d['a'] >= 1.)\n",
    "cmap = plt.get_cmap(\"tab10\")\n",
    "print(i)\n"
   ],
   "metadata": {
    "collapsed": false,
    "pycharm": {
     "name": "#%%\n"
    }
   }
  }
 ],
 "metadata": {
  "kernelspec": {
   "display_name": "Python 3",
   "language": "python",
   "name": "python3"
  },
  "language_info": {
   "codemirror_mode": {
    "name": "ipython",
    "version": 2
   },
   "file_extension": ".py",
   "mimetype": "text/x-python",
   "name": "python",
   "nbconvert_exporter": "python",
   "pygments_lexer": "ipython2",
   "version": "2.7.6"
  }
 },
 "nbformat": 4,
 "nbformat_minor": 0
}