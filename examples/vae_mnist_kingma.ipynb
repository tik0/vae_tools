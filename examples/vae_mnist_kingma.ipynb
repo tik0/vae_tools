{
 "cells": [
  {
   "cell_type": "markdown",
   "metadata": {},
   "source": [
    "# This script demonstrates how to optimize a variational autoencoder with keras-tuner"
   ]
  },
  {
   "cell_type": "code",
   "execution_count": 28,
   "metadata": {},
   "outputs": [
    {
     "name": "stdout",
     "output_type": "stream",
     "text": [
      "python version:  3.5.2\n",
      "keras version: 2.2.4-tf\n",
      "tensorflow version: 2.0.2\n",
      "matplotlib uses:  module://ipykernel.pylab.backend_inline\n",
      "No GPUs available\n"
     ]
    }
   ],
   "source": [
    "# VAE\n",
    "import vae_tools # Always import first to define if keras or tf.kreas should be used\n",
    "import vae_tools.sanity\n",
    "import vae_tools.sampling\n",
    "vae_tools.sampling.set_seed(0)\n",
    "from vae_tools.mmvae import MmVae, ReconstructionLoss\n",
    "vae_tools.sanity.check()\n",
    "\n",
    "# DL\n",
    "from tensorflow.keras.layers import Input, Dense, Lambda, Layer\n",
    "from tensorflow.keras.optimizers import Adam, Nadam, RMSprop\n",
    "from tensorflow.keras.datasets import mnist\n",
    "\n",
    "# Hypertuning\n",
    "from kerastuner.tuners import RandomSearch, Hyperband\n",
    "import kerastuner as kt\n",
    "from kerastuner import HyperModel\n",
    "\n",
    "# Math\n",
    "import numpy as np"
   ]
  },
  {
   "cell_type": "code",
   "execution_count": 29,
   "metadata": {},
   "outputs": [],
   "source": [
    "# Get the MNIST digits\n",
    "(x_train, y_train), (x_test, y_test) = mnist.load_data()\n",
    "x_train = x_train.astype('float32') / 255.\n",
    "x_test = x_test.astype('float32') / 255.\n",
    "x_train = x_train.reshape((len(x_train), np.prod(x_train.shape[1:])))\n",
    "x_test = x_test.reshape((len(x_test), np.prod(x_test.shape[1:])))\n",
    "\n",
    "# Cut down data set\n",
    "x_train = x_train[:10,:]\n",
    "y_train = y_train[:10]\n",
    "x_test = x_test[:10,:]\n",
    "y_test = y_test[:10]"
   ]
  },
  {
   "cell_type": "code",
   "execution_count": 30,
   "metadata": {
    "scrolled": true
   },
   "outputs": [],
   "source": [
    "# Define the network and parameter structure\n",
    "\n",
    "def lr_normalizer(lr, optimizer):\n",
    "    \"\"\"Assuming a default learning rate 1, rescales the learning rate\n",
    "    such that learning rates amongst different optimizers are more or less\n",
    "    equivalent.\n",
    "    Parameters\n",
    "    ----------\n",
    "    lr : float\n",
    "        The learning rate.\n",
    "    optimizer : keras optimizer\n",
    "        The optimizer. For example, Adagrad, Adam, RMSprop.\n",
    "    \"\"\"\n",
    "\n",
    "    from tensorflow.keras.optimizers import SGD, Adam, Adadelta, Adagrad, Adamax, RMSprop\n",
    "    from tensorflow.keras.optimizers import Nadam\n",
    "\n",
    "    if optimizer == Adadelta:\n",
    "        pass\n",
    "    elif optimizer == SGD or optimizer == Adagrad:\n",
    "        lr /= 100.0\n",
    "    elif optimizer == Adam or optimizer == RMSprop:\n",
    "        lr /= 1000.0\n",
    "    elif optimizer == Adamax or optimizer == Nadam:\n",
    "        lr /= 500.0\n",
    "    else:\n",
    "        raise ValueError(str(optimizer) + \" is not supported by lr_normalizer\")\n",
    "    return lr\n",
    "\n",
    "img_rows, img_cols, img_chns = 28, 28, 1\n",
    "original_dim = img_rows * img_cols * img_chns\n",
    "class VaeHyperModel(HyperModel):\n",
    "\n",
    "    def __init__(self, optimizer):\n",
    "        super().__init__()\n",
    "        self.optimizer = optimizer\n",
    "\n",
    "    def build(self, hp):\n",
    "        self.p = {'lr': hp.Fixed('lr', 1.),\n",
    "             'intermediate_dim': hp.Choice('intermediate_dim', [64, 128, 256], ordered = True),\n",
    "             'activation': hp.Choice('activation', ['relu', 'elu'], ordered = False),\n",
    "             'batch_size': hp.Int('batch_size', 1024, 2048, 1024),\n",
    "             'epochs': hp.Int('epochs', 10, 20, 10),\n",
    "             'beta': hp.Choice('beta', [0.01, 1.0], ordered = True),\n",
    "             'reconstruction_loss_metrics': hp.Choice('reconstruction_loss_metrics', [ReconstructionLoss.MSE]),\n",
    "             'z_dim': hp.Fixed('z_dim', 2)}\n",
    "        #vae_tools.sampling.set_seed(0)\n",
    "        encoder = [[\n",
    "            Input(shape=(original_dim,)),\n",
    "            Dense(self.p['intermediate_dim'], activation=self.p['activation']),\n",
    "            Dense(int(self.p['intermediate_dim']/2), activation=self.p['activation'])\n",
    "        ]]\n",
    "\n",
    "        decoder = [[\n",
    "            Dense(int(self.p['intermediate_dim']/2), activation=self.p['activation']),\n",
    "            Dense(self.p['intermediate_dim'], activation=self.p['activation']),\n",
    "            Dense(original_dim, activation='sigmoid')\n",
    "        ]]\n",
    "\n",
    "        vae_obj = MmVae(self.p['z_dim'], encoder, decoder, [original_dim], self.p['beta'],\n",
    "                        reconstruction_loss_metrics = [self.p['reconstruction_loss_metrics']], name='Vae')\n",
    "\n",
    "        vae_model = vae_obj.get_model()\n",
    "        vae_model.compile(optimizer=self.optimizer(lr_normalizer(self.p['lr'], self.optimizer)), loss=None)\n",
    "        return vae_model\n"
   ]
  },
  {
   "cell_type": "code",
   "execution_count": 31,
   "metadata": {
    "scrolled": true,
    "pycharm": {
     "name": "#%%\n"
    }
   },
   "outputs": [
    {
     "name": "stdout",
     "output_type": "stream",
     "text": [
      "WARNING:tensorflow:Output loss_reconstruction_0_0 missing from loss dictionary. We assume this was done on purpose. The fit and evaluate APIs will not be expecting any data to be passed to loss_reconstruction_0_0.\n",
      "WARNING:tensorflow:Output loss_prior_0 missing from loss dictionary. We assume this was done on purpose. The fit and evaluate APIs will not be expecting any data to be passed to loss_prior_0.\n",
      "WARNING:tensorflow:Output loss_reconstruction_0_0 missing from loss dictionary. We assume this was done on purpose. The fit and evaluate APIs will not be expecting any data to be passed to loss_reconstruction_0_0.\n",
      "WARNING:tensorflow:Output loss_prior_0 missing from loss dictionary. We assume this was done on purpose. The fit and evaluate APIs will not be expecting any data to be passed to loss_prior_0.\n",
      "Train on 10 samples, validate on 10 samples\n",
      "Epoch 1/3\n",
      "WARNING:tensorflow:Gradients do not exist for variables ['Variable:0', 'Variable:0'] when minimizing the loss.\n",
      "WARNING:tensorflow:Gradients do not exist for variables ['Variable:0', 'Variable:0'] when minimizing the loss.\n",
      "10/10 [==============================] - 1s 100ms/sample - loss: 543.6970 - loss_reconstruction_0_0: 543.6954 - loss_prior_0: 0.0016 - val_loss: 542.3751 - val_loss_reconstruction_0_0: 542.3732 - val_loss_prior_0: 0.0019\n",
      "Epoch 2/3\n",
      "10/10 [==============================] - 0s 4ms/sample - loss: 542.3937 - loss_reconstruction_0_0: 542.3921 - loss_prior_0: 0.0017 - val_loss: 540.7828 - val_loss_reconstruction_0_0: 540.7810 - val_loss_prior_0: 0.0018\n",
      "Epoch 3/3\n",
      "10/10 [==============================] - 0s 4ms/sample - loss: 540.9553 - loss_reconstruction_0_0: 540.9534 - loss_prior_0: 0.0019 - val_loss: 539.5323 - val_loss_reconstruction_0_0: 539.5306 - val_loss_prior_0: 0.0017\n",
      "WARNING:tensorflow:Output loss_reconstruction_0_0 missing from loss dictionary. We assume this was done on purpose. The fit and evaluate APIs will not be expecting any data to be passed to loss_reconstruction_0_0.\n",
      "WARNING:tensorflow:Output loss_prior_0 missing from loss dictionary. We assume this was done on purpose. The fit and evaluate APIs will not be expecting any data to be passed to loss_prior_0.\n",
      "Train on 10 samples, validate on 10 samples\n",
      "Epoch 1/3\n",
      "WARNING:tensorflow:Gradients do not exist for variables ['Variable:0', 'Variable:0'] when minimizing the loss.\n",
      "WARNING:tensorflow:Gradients do not exist for variables ['Variable:0', 'Variable:0'] when minimizing the loss.\n",
      "10/10 [==============================] - 1s 89ms/sample - loss: 544.4296 - loss_reconstruction_0_0: 544.4261 - loss_prior_0: 0.0035 - val_loss: 545.3251 - val_loss_reconstruction_0_0: 545.3203 - val_loss_prior_0: 0.0048\n",
      "Epoch 2/3\n",
      "10/10 [==============================] - 0s 2ms/sample - loss: 548.1755 - loss_reconstruction_0_0: 548.1669 - loss_prior_0: 0.0086 - val_loss: 542.3777 - val_loss_reconstruction_0_0: 542.3706 - val_loss_prior_0: 0.0071\n",
      "Epoch 3/3\n",
      "10/10 [==============================] - 0s 7ms/sample - loss: 541.7839 - loss_reconstruction_0_0: 541.7749 - loss_prior_0: 0.0090 - val_loss: 539.3631 - val_loss_reconstruction_0_0: 539.3400 - val_loss_prior_0: 0.0231\n",
      "WARNING:tensorflow:Output loss_reconstruction_0_0 missing from loss dictionary. We assume this was done on purpose. The fit and evaluate APIs will not be expecting any data to be passed to loss_reconstruction_0_0.\n",
      "WARNING:tensorflow:Output loss_prior_0 missing from loss dictionary. We assume this was done on purpose. The fit and evaluate APIs will not be expecting any data to be passed to loss_prior_0.\n",
      "Train on 10 samples, validate on 10 samples\n",
      "Epoch 1/3\n",
      "WARNING:tensorflow:Gradients do not exist for variables ['Variable:0', 'Variable:0'] when minimizing the loss.\n",
      "WARNING:tensorflow:Gradients do not exist for variables ['Variable:0', 'Variable:0'] when minimizing the loss.\n",
      "10/10 [==============================] - 1s 94ms/sample - loss: 544.3193 - loss_reconstruction_0_0: 544.0724 - loss_prior_0: 0.2469 - val_loss: 544.5226 - val_loss_reconstruction_0_0: 543.9611 - val_loss_prior_0: 0.5616\n",
      "Epoch 2/3\n",
      "10/10 [==============================] - 0s 2ms/sample - loss: 544.4769 - loss_reconstruction_0_0: 543.9512 - loss_prior_0: 0.5257 - val_loss: 542.6223 - val_loss_reconstruction_0_0: 541.9803 - val_loss_prior_0: 0.6419\n",
      "Epoch 3/3\n",
      "10/10 [==============================] - 0s 5ms/sample - loss: 542.9811 - loss_reconstruction_0_0: 542.3505 - loss_prior_0: 0.6306 - val_loss: 542.6123 - val_loss_reconstruction_0_0: 541.8508 - val_loss_prior_0: 0.7615\n",
      "WARNING:tensorflow:Output loss_reconstruction_0_0 missing from loss dictionary. We assume this was done on purpose. The fit and evaluate APIs will not be expecting any data to be passed to loss_reconstruction_0_0.\n",
      "WARNING:tensorflow:Output loss_prior_0 missing from loss dictionary. We assume this was done on purpose. The fit and evaluate APIs will not be expecting any data to be passed to loss_prior_0.\n",
      "Train on 10 samples, validate on 10 samples\n",
      "Epoch 1/3\n",
      "WARNING:tensorflow:Gradients do not exist for variables ['Variable:0', 'Variable:0'] when minimizing the loss.\n",
      "WARNING:tensorflow:Gradients do not exist for variables ['Variable:0', 'Variable:0'] when minimizing the loss.\n",
      "10/10 [==============================] - 1s 98ms/sample - loss: 544.9615 - loss_reconstruction_0_0: 544.9576 - loss_prior_0: 0.0038 - val_loss: 541.3331 - val_loss_reconstruction_0_0: 541.3281 - val_loss_prior_0: 0.0050\n",
      "Epoch 2/3\n",
      "10/10 [==============================] - 0s 5ms/sample - loss: 541.5744 - loss_reconstruction_0_0: 541.5698 - loss_prior_0: 0.0046 - val_loss: 533.6797 - val_loss_reconstruction_0_0: 533.6675 - val_loss_prior_0: 0.0123\n",
      "Epoch 3/3\n",
      "10/10 [==============================] - 0s 5ms/sample - loss: 536.4140 - loss_reconstruction_0_0: 536.4030 - loss_prior_0: 0.0110 - val_loss: 526.3701 - val_loss_reconstruction_0_0: 526.3431 - val_loss_prior_0: 0.0269\n",
      "WARNING:tensorflow:Output loss_reconstruction_0_0 missing from loss dictionary. We assume this was done on purpose. The fit and evaluate APIs will not be expecting any data to be passed to loss_reconstruction_0_0.\n",
      "WARNING:tensorflow:Output loss_prior_0 missing from loss dictionary. We assume this was done on purpose. The fit and evaluate APIs will not be expecting any data to be passed to loss_prior_0.\n",
      "Train on 10 samples, validate on 10 samples\n",
      "Epoch 1/3\n",
      "WARNING:tensorflow:Gradients do not exist for variables ['Variable:0', 'Variable:0'] when minimizing the loss.\n",
      "WARNING:tensorflow:Gradients do not exist for variables ['Variable:0', 'Variable:0'] when minimizing the loss.\n",
      "10/10 [==============================] - 1s 99ms/sample - loss: 544.9909 - loss_reconstruction_0_0: 544.9851 - loss_prior_0: 0.0058 - val_loss: 544.0063 - val_loss_reconstruction_0_0: 544.0034 - val_loss_prior_0: 0.0030\n",
      "Epoch 2/3\n",
      "10/10 [==============================] - 0s 4ms/sample - loss: 543.3934 - loss_reconstruction_0_0: 543.3904 - loss_prior_0: 0.0029 - val_loss: 541.4406 - val_loss_reconstruction_0_0: 541.4373 - val_loss_prior_0: 0.0033\n",
      "Epoch 3/3\n",
      "10/10 [==============================] - 0s 2ms/sample - loss: 543.7270 - loss_reconstruction_0_0: 543.7234 - loss_prior_0: 0.0035 - val_loss: 540.0685 - val_loss_reconstruction_0_0: 540.0634 - val_loss_prior_0: 0.0051\n",
      "WARNING:tensorflow:Output loss_reconstruction_0_0 missing from loss dictionary. We assume this was done on purpose. The fit and evaluate APIs will not be expecting any data to be passed to loss_reconstruction_0_0.\n",
      "WARNING:tensorflow:Output loss_prior_0 missing from loss dictionary. We assume this was done on purpose. The fit and evaluate APIs will not be expecting any data to be passed to loss_prior_0.\n",
      "Train on 10 samples, validate on 10 samples\n",
      "Epoch 1/3\n",
      "WARNING:tensorflow:Gradients do not exist for variables ['Variable:0', 'Variable:0'] when minimizing the loss.\n",
      "WARNING:tensorflow:Gradients do not exist for variables ['Variable:0', 'Variable:0'] when minimizing the loss.\n",
      "10/10 [==============================] - 1s 89ms/sample - loss: 543.9937 - loss_reconstruction_0_0: 543.9904 - loss_prior_0: 0.0032 - val_loss: 547.9402 - val_loss_reconstruction_0_0: 547.9339 - val_loss_prior_0: 0.0064\n",
      "Epoch 2/3\n",
      "10/10 [==============================] - 0s 3ms/sample - loss: 544.5031 - loss_reconstruction_0_0: 544.4972 - loss_prior_0: 0.0059 - val_loss: 544.1505 - val_loss_reconstruction_0_0: 544.1458 - val_loss_prior_0: 0.0046\n",
      "Epoch 3/3\n",
      "10/10 [==============================] - 0s 2ms/sample - loss: 544.1340 - loss_reconstruction_0_0: 544.1295 - loss_prior_0: 0.0044 - val_loss: 542.4370 - val_loss_reconstruction_0_0: 542.4304 - val_loss_prior_0: 0.0066\n",
      "WARNING:tensorflow:Output loss_reconstruction_0_0 missing from loss dictionary. We assume this was done on purpose. The fit and evaluate APIs will not be expecting any data to be passed to loss_reconstruction_0_0.\n",
      "WARNING:tensorflow:Output loss_prior_0 missing from loss dictionary. We assume this was done on purpose. The fit and evaluate APIs will not be expecting any data to be passed to loss_prior_0.\n",
      "Train on 10 samples, validate on 10 samples\n",
      "Epoch 1/3\n",
      "WARNING:tensorflow:Gradients do not exist for variables ['Variable:0', 'Variable:0'] when minimizing the loss.\n",
      "WARNING:tensorflow:Gradients do not exist for variables ['Variable:0', 'Variable:0'] when minimizing the loss.\n",
      "10/10 [==============================] - 1s 90ms/sample - loss: 544.1080 - loss_reconstruction_0_0: 544.1042 - loss_prior_0: 0.0038 - val_loss: 545.2527 - val_loss_reconstruction_0_0: 545.2485 - val_loss_prior_0: 0.0043\n",
      "Epoch 2/3\n",
      "10/10 [==============================] - 0s 4ms/sample - loss: 543.8897 - loss_reconstruction_0_0: 543.8849 - loss_prior_0: 0.0048 - val_loss: 542.3504 - val_loss_reconstruction_0_0: 542.3472 - val_loss_prior_0: 0.0032\n",
      "Epoch 3/3\n",
      "10/10 [==============================] - 0s 5ms/sample - loss: 541.8190 - loss_reconstruction_0_0: 541.8132 - loss_prior_0: 0.0058 - val_loss: 539.8364 - val_loss_reconstruction_0_0: 539.8299 - val_loss_prior_0: 0.0064\n",
      "WARNING:tensorflow:Output loss_reconstruction_0_0 missing from loss dictionary. We assume this was done on purpose. The fit and evaluate APIs will not be expecting any data to be passed to loss_reconstruction_0_0.\n",
      "WARNING:tensorflow:Output loss_prior_0 missing from loss dictionary. We assume this was done on purpose. The fit and evaluate APIs will not be expecting any data to be passed to loss_prior_0.\n",
      "Train on 10 samples, validate on 10 samples\n",
      "Epoch 1/3\n",
      "WARNING:tensorflow:Gradients do not exist for variables ['Variable:0', 'Variable:0'] when minimizing the loss.\n",
      "WARNING:tensorflow:Gradients do not exist for variables ['Variable:0', 'Variable:0'] when minimizing the loss.\n",
      "10/10 [==============================] - 1s 104ms/sample - loss: 544.4824 - loss_reconstruction_0_0: 544.1747 - loss_prior_0: 0.3077 - val_loss: 547.4267 - val_loss_reconstruction_0_0: 546.6605 - val_loss_prior_0: 0.7662\n",
      "Epoch 2/3\n",
      "10/10 [==============================] - 0s 3ms/sample - loss: 546.4684 - loss_reconstruction_0_0: 545.8371 - loss_prior_0: 0.6314 - val_loss: 538.6597 - val_loss_reconstruction_0_0: 537.7010 - val_loss_prior_0: 0.9588\n",
      "Epoch 3/3\n",
      "10/10 [==============================] - 0s 6ms/sample - loss: 537.8151 - loss_reconstruction_0_0: 536.7516 - loss_prior_0: 1.0635 - val_loss: 528.8336 - val_loss_reconstruction_0_0: 526.0688 - val_loss_prior_0: 2.7647\n",
      "WARNING:tensorflow:Output loss_reconstruction_0_0 missing from loss dictionary. We assume this was done on purpose. The fit and evaluate APIs will not be expecting any data to be passed to loss_reconstruction_0_0.\n",
      "WARNING:tensorflow:Output loss_prior_0 missing from loss dictionary. We assume this was done on purpose. The fit and evaluate APIs will not be expecting any data to be passed to loss_prior_0.\n",
      "Train on 10 samples, validate on 10 samples\n",
      "Epoch 1/3\n",
      "WARNING:tensorflow:Gradients do not exist for variables ['Variable:0', 'Variable:0'] when minimizing the loss.\n",
      "WARNING:tensorflow:Gradients do not exist for variables ['Variable:0', 'Variable:0'] when minimizing the loss.\n",
      "10/10 [==============================] - 1s 99ms/sample - loss: 544.8786 - loss_reconstruction_0_0: 544.8756 - loss_prior_0: 0.0030 - val_loss: 543.3527 - val_loss_reconstruction_0_0: 543.3513 - val_loss_prior_0: 0.0014\n",
      "Epoch 2/3\n",
      "10/10 [==============================] - 0s 4ms/sample - loss: 543.5424 - loss_reconstruction_0_0: 543.5410 - loss_prior_0: 0.0014 - val_loss: 543.7545 - val_loss_reconstruction_0_0: 543.7526 - val_loss_prior_0: 0.0020\n",
      "Epoch 3/3\n",
      "10/10 [==============================] - 0s 5ms/sample - loss: 542.8077 - loss_reconstruction_0_0: 542.8065 - loss_prior_0: 0.0012 - val_loss: 541.2687 - val_loss_reconstruction_0_0: 541.2649 - val_loss_prior_0: 0.0039\n",
      "WARNING:tensorflow:Output loss_reconstruction_0_0 missing from loss dictionary. We assume this was done on purpose. The fit and evaluate APIs will not be expecting any data to be passed to loss_reconstruction_0_0.\n",
      "WARNING:tensorflow:Output loss_prior_0 missing from loss dictionary. We assume this was done on purpose. The fit and evaluate APIs will not be expecting any data to be passed to loss_prior_0.\n",
      "Train on 10 samples, validate on 10 samples\n",
      "Epoch 1/3\n",
      "WARNING:tensorflow:Gradients do not exist for variables ['Variable:0', 'Variable:0'] when minimizing the loss.\n",
      "WARNING:tensorflow:Gradients do not exist for variables ['Variable:0', 'Variable:0'] when minimizing the loss.\n",
      "10/10 [==============================] - 2s 187ms/sample - loss: 544.4852 - loss_reconstruction_0_0: 544.2830 - loss_prior_0: 0.2021 - val_loss: 541.3614 - val_loss_reconstruction_0_0: 541.2410 - val_loss_prior_0: 0.1204\n",
      "Epoch 2/3\n",
      "10/10 [==============================] - 0s 4ms/sample - loss: 541.6555 - loss_reconstruction_0_0: 541.5715 - loss_prior_0: 0.0840 - val_loss: 539.4753 - val_loss_reconstruction_0_0: 539.3047 - val_loss_prior_0: 0.1706\n",
      "Epoch 3/3\n",
      "10/10 [==============================] - 0s 4ms/sample - loss: 538.4078 - loss_reconstruction_0_0: 538.2318 - loss_prior_0: 0.1760 - val_loss: 537.4019 - val_loss_reconstruction_0_0: 537.1428 - val_loss_prior_0: 0.2591\n",
      "WARNING:tensorflow:Output loss_reconstruction_0_0 missing from loss dictionary. We assume this was done on purpose. The fit and evaluate APIs will not be expecting any data to be passed to loss_reconstruction_0_0.\n",
      "WARNING:tensorflow:Output loss_prior_0 missing from loss dictionary. We assume this was done on purpose. The fit and evaluate APIs will not be expecting any data to be passed to loss_prior_0.\n",
      "Train on 10 samples, validate on 10 samples\n",
      "Epoch 1/3\n",
      "WARNING:tensorflow:Gradients do not exist for variables ['Variable:0', 'Variable:0'] when minimizing the loss.\n",
      "WARNING:tensorflow:Gradients do not exist for variables ['Variable:0', 'Variable:0'] when minimizing the loss.\n",
      "10/10 [==============================] - 1s 107ms/sample - loss: 544.0358 - loss_reconstruction_0_0: 544.0349 - loss_prior_0: 8.4815e-04 - val_loss: 542.0804 - val_loss_reconstruction_0_0: 542.0793 - val_loss_prior_0: 0.0010\n",
      "Epoch 2/3\n",
      "10/10 [==============================] - 0s 4ms/sample - loss: 542.5346 - loss_reconstruction_0_0: 542.5337 - loss_prior_0: 9.2181e-04 - val_loss: 540.7290 - val_loss_reconstruction_0_0: 540.7281 - val_loss_prior_0: 8.7497e-04\n",
      "Epoch 3/3\n",
      "10/10 [==============================] - 0s 5ms/sample - loss: 539.8884 - loss_reconstruction_0_0: 539.8875 - loss_prior_0: 9.8811e-04 - val_loss: 537.9587 - val_loss_reconstruction_0_0: 537.9579 - val_loss_prior_0: 8.2641e-04\n",
      "WARNING:tensorflow:Output loss_reconstruction_0_0 missing from loss dictionary. We assume this was done on purpose. The fit and evaluate APIs will not be expecting any data to be passed to loss_reconstruction_0_0.\n",
      "WARNING:tensorflow:Output loss_prior_0 missing from loss dictionary. We assume this was done on purpose. The fit and evaluate APIs will not be expecting any data to be passed to loss_prior_0.\n",
      "Train on 10 samples, validate on 10 samples\n",
      "Epoch 1/3\n",
      "WARNING:tensorflow:Gradients do not exist for variables ['Variable:0', 'Variable:0'] when minimizing the loss.\n",
      "WARNING:tensorflow:Gradients do not exist for variables ['Variable:0', 'Variable:0'] when minimizing the loss.\n",
      "10/10 [==============================] - 1s 107ms/sample - loss: 545.1580 - loss_reconstruction_0_0: 544.5825 - loss_prior_0: 0.5755 - val_loss: 548.9383 - val_loss_reconstruction_0_0: 548.2341 - val_loss_prior_0: 0.7041\n",
      "Epoch 2/3\n",
      "10/10 [==============================] - 0s 2ms/sample - loss: 550.4700 - loss_reconstruction_0_0: 549.8499 - loss_prior_0: 0.6202 - val_loss: 540.8649 - val_loss_reconstruction_0_0: 540.3320 - val_loss_prior_0: 0.5329\n",
      "Epoch 3/3\n",
      "10/10 [==============================] - 0s 5ms/sample - loss: 539.3177 - loss_reconstruction_0_0: 538.6698 - loss_prior_0: 0.6479 - val_loss: 528.4871 - val_loss_reconstruction_0_0: 526.2709 - val_loss_prior_0: 2.2162\n",
      "WARNING:tensorflow:Output loss_reconstruction_0_0 missing from loss dictionary. We assume this was done on purpose. The fit and evaluate APIs will not be expecting any data to be passed to loss_reconstruction_0_0.\n",
      "WARNING:tensorflow:Output loss_prior_0 missing from loss dictionary. We assume this was done on purpose. The fit and evaluate APIs will not be expecting any data to be passed to loss_prior_0.\n",
      "Train on 10 samples, validate on 10 samples\n",
      "Epoch 4/7\n",
      "WARNING:tensorflow:Gradients do not exist for variables ['Variable:0', 'Variable:0'] when minimizing the loss.\n",
      "WARNING:tensorflow:Gradients do not exist for variables ['Variable:0', 'Variable:0'] when minimizing the loss.\n",
      "10/10 [==============================] - 1s 93ms/sample - loss: 545.3238 - loss_reconstruction_0_0: 545.3212 - loss_prior_0: 0.0026 - val_loss: 545.2026 - val_loss_reconstruction_0_0: 545.1984 - val_loss_prior_0: 0.0043\n",
      "Epoch 5/7\n",
      "10/10 [==============================] - 0s 4ms/sample - loss: 544.9461 - loss_reconstruction_0_0: 544.9422 - loss_prior_0: 0.0039 - val_loss: 541.7114 - val_loss_reconstruction_0_0: 541.7043 - val_loss_prior_0: 0.0071\n",
      "Epoch 6/7\n",
      "10/10 [==============================] - 0s 4ms/sample - loss: 537.5289 - loss_reconstruction_0_0: 537.5217 - loss_prior_0: 0.0072 - val_loss: 531.2795 - val_loss_reconstruction_0_0: 531.2635 - val_loss_prior_0: 0.0160\n",
      "Epoch 7/7\n",
      "10/10 [==============================] - 0s 4ms/sample - loss: 530.6143 - loss_reconstruction_0_0: 530.5969 - loss_prior_0: 0.0174 - val_loss: 519.9411 - val_loss_reconstruction_0_0: 519.9079 - val_loss_prior_0: 0.0332\n",
      "WARNING:tensorflow:Output loss_reconstruction_0_0 missing from loss dictionary. We assume this was done on purpose. The fit and evaluate APIs will not be expecting any data to be passed to loss_reconstruction_0_0.\n",
      "WARNING:tensorflow:Output loss_prior_0 missing from loss dictionary. We assume this was done on purpose. The fit and evaluate APIs will not be expecting any data to be passed to loss_prior_0.\n",
      "Train on 10 samples, validate on 10 samples\n",
      "Epoch 4/7\n",
      "WARNING:tensorflow:Gradients do not exist for variables ['Variable:0', 'Variable:0'] when minimizing the loss.\n",
      "WARNING:tensorflow:Gradients do not exist for variables ['Variable:0', 'Variable:0'] when minimizing the loss.\n",
      "10/10 [==============================] - 1s 95ms/sample - loss: 544.7892 - loss_reconstruction_0_0: 544.3655 - loss_prior_0: 0.4238 - val_loss: 544.8228 - val_loss_reconstruction_0_0: 544.2159 - val_loss_prior_0: 0.6068\n",
      "Epoch 5/7\n",
      "10/10 [==============================] - 0s 5ms/sample - loss: 544.0878 - loss_reconstruction_0_0: 543.1991 - loss_prior_0: 0.8887 - val_loss: 535.2430 - val_loss_reconstruction_0_0: 533.9693 - val_loss_prior_0: 1.2737\n",
      "Epoch 6/7\n",
      "10/10 [==============================] - 0s 5ms/sample - loss: 533.1878 - loss_reconstruction_0_0: 531.1251 - loss_prior_0: 2.0627 - val_loss: 520.2468 - val_loss_reconstruction_0_0: 516.2983 - val_loss_prior_0: 3.9486\n",
      "Epoch 7/7\n",
      "10/10 [==============================] - 0s 5ms/sample - loss: 515.8490 - loss_reconstruction_0_0: 509.9798 - loss_prior_0: 5.8692 - val_loss: 499.3708 - val_loss_reconstruction_0_0: 490.2948 - val_loss_prior_0: 9.0761\n",
      "WARNING:tensorflow:Output loss_reconstruction_0_0 missing from loss dictionary. We assume this was done on purpose. The fit and evaluate APIs will not be expecting any data to be passed to loss_reconstruction_0_0.\n",
      "WARNING:tensorflow:Output loss_prior_0 missing from loss dictionary. We assume this was done on purpose. The fit and evaluate APIs will not be expecting any data to be passed to loss_prior_0.\n",
      "Train on 10 samples, validate on 10 samples\n",
      "Epoch 4/7\n",
      "WARNING:tensorflow:Gradients do not exist for variables ['Variable:0', 'Variable:0'] when minimizing the loss.\n",
      "WARNING:tensorflow:Gradients do not exist for variables ['Variable:0', 'Variable:0'] when minimizing the loss.\n",
      "10/10 [==============================] - 1s 119ms/sample - loss: 544.1102 - loss_reconstruction_0_0: 543.6284 - loss_prior_0: 0.4819 - val_loss: 542.1339 - val_loss_reconstruction_0_0: 541.8895 - val_loss_prior_0: 0.2444\n",
      "Epoch 5/7\n",
      "10/10 [==============================] - 0s 4ms/sample - loss: 541.7946 - loss_reconstruction_0_0: 541.5508 - loss_prior_0: 0.2438 - val_loss: 540.4520 - val_loss_reconstruction_0_0: 540.2755 - val_loss_prior_0: 0.1765\n",
      "Epoch 6/7\n",
      "10/10 [==============================] - 0s 5ms/sample - loss: 540.4275 - loss_reconstruction_0_0: 540.2619 - loss_prior_0: 0.1656 - val_loss: 539.8126 - val_loss_reconstruction_0_0: 539.6713 - val_loss_prior_0: 0.1413\n",
      "Epoch 7/7\n",
      "10/10 [==============================] - 0s 4ms/sample - loss: 537.7544 - loss_reconstruction_0_0: 537.6133 - loss_prior_0: 0.1411 - val_loss: 537.0296 - val_loss_reconstruction_0_0: 536.9076 - val_loss_prior_0: 0.1220\n",
      "WARNING:tensorflow:Output loss_reconstruction_0_0 missing from loss dictionary. We assume this was done on purpose. The fit and evaluate APIs will not be expecting any data to be passed to loss_reconstruction_0_0.\n",
      "WARNING:tensorflow:Output loss_prior_0 missing from loss dictionary. We assume this was done on purpose. The fit and evaluate APIs will not be expecting any data to be passed to loss_prior_0.\n",
      "Train on 10 samples, validate on 10 samples\n",
      "Epoch 4/7\n",
      "WARNING:tensorflow:Gradients do not exist for variables ['Variable:0', 'Variable:0'] when minimizing the loss.\n",
      "WARNING:tensorflow:Gradients do not exist for variables ['Variable:0', 'Variable:0'] when minimizing the loss.\n",
      "10/10 [==============================] - 1s 95ms/sample - loss: 544.2408 - loss_reconstruction_0_0: 543.8488 - loss_prior_0: 0.3920 - val_loss: 541.2100 - val_loss_reconstruction_0_0: 540.1823 - val_loss_prior_0: 1.0277\n",
      "Epoch 5/7\n",
      "10/10 [==============================] - 0s 5ms/sample - loss: 537.7258 - loss_reconstruction_0_0: 536.5799 - loss_prior_0: 1.1459 - val_loss: 524.5526 - val_loss_reconstruction_0_0: 521.4170 - val_loss_prior_0: 3.1356\n",
      "Epoch 6/7\n",
      "10/10 [==============================] - 0s 5ms/sample - loss: 515.9719 - loss_reconstruction_0_0: 512.1854 - loss_prior_0: 3.7865 - val_loss: 495.7736 - val_loss_reconstruction_0_0: 488.4957 - val_loss_prior_0: 7.2779\n",
      "Epoch 7/7\n",
      "10/10 [==============================] - 0s 4ms/sample - loss: 498.0448 - loss_reconstruction_0_0: 489.1423 - loss_prior_0: 8.9025 - val_loss: 473.7436 - val_loss_reconstruction_0_0: 461.2750 - val_loss_prior_0: 12.4686\n",
      "WARNING:tensorflow:Output loss_reconstruction_0_0 missing from loss dictionary. We assume this was done on purpose. The fit and evaluate APIs will not be expecting any data to be passed to loss_reconstruction_0_0.\n",
      "WARNING:tensorflow:Output loss_prior_0 missing from loss dictionary. We assume this was done on purpose. The fit and evaluate APIs will not be expecting any data to be passed to loss_prior_0.\n",
      "Train on 10 samples, validate on 10 samples\n",
      "Epoch 8/20\n",
      "WARNING:tensorflow:Gradients do not exist for variables ['Variable:0', 'Variable:0'] when minimizing the loss.\n",
      "WARNING:tensorflow:Gradients do not exist for variables ['Variable:0', 'Variable:0'] when minimizing the loss.\n",
      "10/10 [==============================] - 1s 94ms/sample - loss: 544.1079 - loss_reconstruction_0_0: 543.8719 - loss_prior_0: 0.2360 - val_loss: 552.2122 - val_loss_reconstruction_0_0: 550.9484 - val_loss_prior_0: 1.2638\n",
      "Epoch 9/20\n",
      "10/10 [==============================] - 0s 3ms/sample - loss: 551.8483 - loss_reconstruction_0_0: 550.3898 - loss_prior_0: 1.4585 - val_loss: 538.9694 - val_loss_reconstruction_0_0: 537.9835 - val_loss_prior_0: 0.9859\n",
      "Epoch 10/20\n",
      "10/10 [==============================] - 0s 5ms/sample - loss: 535.7133 - loss_reconstruction_0_0: 534.3713 - loss_prior_0: 1.3420 - val_loss: 527.2783 - val_loss_reconstruction_0_0: 524.3335 - val_loss_prior_0: 2.9448\n",
      "Epoch 11/20\n",
      "10/10 [==============================] - 0s 6ms/sample - loss: 523.9552 - loss_reconstruction_0_0: 519.9357 - loss_prior_0: 4.0195 - val_loss: 505.7099 - val_loss_reconstruction_0_0: 498.4613 - val_loss_prior_0: 7.2486\n",
      "Epoch 12/20\n",
      "10/10 [==============================] - 0s 5ms/sample - loss: 503.7046 - loss_reconstruction_0_0: 494.1758 - loss_prior_0: 9.5288 - val_loss: 479.7206 - val_loss_reconstruction_0_0: 466.2421 - val_loss_prior_0: 13.4786\n",
      "Epoch 13/20\n",
      "10/10 [==============================] - 0s 5ms/sample - loss: 472.7478 - loss_reconstruction_0_0: 455.4176 - loss_prior_0: 17.3302 - val_loss: 451.8804 - val_loss_reconstruction_0_0: 430.5404 - val_loss_prior_0: 21.3400\n",
      "Epoch 14/20\n",
      "10/10 [==============================] - 0s 7ms/sample - loss: 443.3059 - loss_reconstruction_0_0: 416.2925 - loss_prior_0: 27.0134 - val_loss: 415.0066 - val_loss_reconstruction_0_0: 385.1037 - val_loss_prior_0: 29.9028\n",
      "Epoch 15/20\n",
      "10/10 [==============================] - 0s 5ms/sample - loss: 402.1634 - loss_reconstruction_0_0: 364.7917 - loss_prior_0: 37.3717 - val_loss: 392.5105 - val_loss_reconstruction_0_0: 354.7034 - val_loss_prior_0: 37.8071\n",
      "Epoch 16/20\n",
      "10/10 [==============================] - 0s 7ms/sample - loss: 372.4653 - loss_reconstruction_0_0: 325.6691 - loss_prior_0: 46.7962 - val_loss: 366.2766 - val_loss_reconstruction_0_0: 323.4506 - val_loss_prior_0: 42.8261\n",
      "Epoch 17/20\n",
      "10/10 [==============================] - 0s 4ms/sample - loss: 343.6921 - loss_reconstruction_0_0: 290.9096 - loss_prior_0: 52.7825 - val_loss: 342.7949 - val_loss_reconstruction_0_0: 298.7355 - val_loss_prior_0: 44.0594\n",
      "Epoch 18/20\n",
      "10/10 [==============================] - 0s 4ms/sample - loss: 310.3177 - loss_reconstruction_0_0: 256.0171 - loss_prior_0: 54.3006 - val_loss: 320.9721 - val_loss_reconstruction_0_0: 279.8225 - val_loss_prior_0: 41.1495\n",
      "Epoch 19/20\n",
      "10/10 [==============================] - 0s 5ms/sample - loss: 291.3441 - loss_reconstruction_0_0: 240.4436 - loss_prior_0: 50.9005 - val_loss: 304.3445 - val_loss_reconstruction_0_0: 268.4702 - val_loss_prior_0: 35.8744\n",
      "Epoch 20/20\n",
      "10/10 [==============================] - 0s 5ms/sample - loss: 268.6960 - loss_reconstruction_0_0: 223.9140 - loss_prior_0: 44.7820 - val_loss: 287.4182 - val_loss_reconstruction_0_0: 257.8862 - val_loss_prior_0: 29.5321\n",
      "WARNING:tensorflow:Output loss_reconstruction_0_0 missing from loss dictionary. We assume this was done on purpose. The fit and evaluate APIs will not be expecting any data to be passed to loss_reconstruction_0_0.\n",
      "WARNING:tensorflow:Output loss_prior_0 missing from loss dictionary. We assume this was done on purpose. The fit and evaluate APIs will not be expecting any data to be passed to loss_prior_0.\n",
      "Train on 10 samples, validate on 10 samples\n",
      "Epoch 8/20\n",
      "WARNING:tensorflow:Gradients do not exist for variables ['Variable:0', 'Variable:0'] when minimizing the loss.\n",
      "WARNING:tensorflow:Gradients do not exist for variables ['Variable:0', 'Variable:0'] when minimizing the loss.\n",
      "10/10 [==============================] - 1s 95ms/sample - loss: 543.9887 - loss_reconstruction_0_0: 543.5751 - loss_prior_0: 0.4136 - val_loss: 540.9564 - val_loss_reconstruction_0_0: 539.9730 - val_loss_prior_0: 0.9835\n",
      "Epoch 9/20\n",
      "10/10 [==============================] - 0s 5ms/sample - loss: 537.0602 - loss_reconstruction_0_0: 536.0189 - loss_prior_0: 1.0413 - val_loss: 521.0562 - val_loss_reconstruction_0_0: 517.8750 - val_loss_prior_0: 3.1812\n",
      "Epoch 10/20\n",
      "10/10 [==============================] - 0s 5ms/sample - loss: 514.2243 - loss_reconstruction_0_0: 510.6366 - loss_prior_0: 3.5877 - val_loss: 498.6422 - val_loss_reconstruction_0_0: 490.9059 - val_loss_prior_0: 7.7362\n",
      "Epoch 11/20\n",
      "10/10 [==============================] - 0s 5ms/sample - loss: 486.3735 - loss_reconstruction_0_0: 477.3626 - loss_prior_0: 9.0109 - val_loss: 452.6363 - val_loss_reconstruction_0_0: 437.9025 - val_loss_prior_0: 14.7339\n",
      "Epoch 12/20\n",
      "10/10 [==============================] - 0s 5ms/sample - loss: 448.9264 - loss_reconstruction_0_0: 431.6340 - loss_prior_0: 17.2924 - val_loss: 433.2282 - val_loss_reconstruction_0_0: 409.3313 - val_loss_prior_0: 23.8968\n",
      "Epoch 13/20\n",
      "10/10 [==============================] - 0s 8ms/sample - loss: 413.7127 - loss_reconstruction_0_0: 385.6709 - loss_prior_0: 28.0418 - val_loss: 428.0220 - val_loss_reconstruction_0_0: 393.8113 - val_loss_prior_0: 34.2107\n",
      "Epoch 14/20\n",
      "10/10 [==============================] - 0s 4ms/sample - loss: 379.0541 - loss_reconstruction_0_0: 339.0742 - loss_prior_0: 39.9799 - val_loss: 378.6686 - val_loss_reconstruction_0_0: 335.3983 - val_loss_prior_0: 43.2703\n",
      "Epoch 15/20\n",
      "10/10 [==============================] - 0s 5ms/sample - loss: 342.4833 - loss_reconstruction_0_0: 292.1538 - loss_prior_0: 50.3295 - val_loss: 349.8520 - val_loss_reconstruction_0_0: 301.0355 - val_loss_prior_0: 48.8165\n",
      "Epoch 16/20\n",
      "10/10 [==============================] - 0s 5ms/sample - loss: 319.2344 - loss_reconstruction_0_0: 262.5211 - loss_prior_0: 56.7133 - val_loss: 327.7448 - val_loss_reconstruction_0_0: 277.2855 - val_loss_prior_0: 50.4593\n",
      "Epoch 17/20\n",
      "10/10 [==============================] - 0s 5ms/sample - loss: 294.2649 - loss_reconstruction_0_0: 235.7611 - loss_prior_0: 58.5038 - val_loss: 316.2511 - val_loss_reconstruction_0_0: 268.4904 - val_loss_prior_0: 47.7607\n",
      "Epoch 18/20\n",
      "10/10 [==============================] - 0s 5ms/sample - loss: 280.6581 - loss_reconstruction_0_0: 225.3498 - loss_prior_0: 55.3083 - val_loss: 297.8240 - val_loss_reconstruction_0_0: 254.7381 - val_loss_prior_0: 43.0859\n",
      "Epoch 19/20\n",
      "10/10 [==============================] - 0s 5ms/sample - loss: 259.2754 - loss_reconstruction_0_0: 209.3331 - loss_prior_0: 49.9423 - val_loss: 286.4295 - val_loss_reconstruction_0_0: 249.4359 - val_loss_prior_0: 36.9936\n",
      "Epoch 20/20\n",
      "10/10 [==============================] - 0s 5ms/sample - loss: 243.2158 - loss_reconstruction_0_0: 200.2337 - loss_prior_0: 42.9822 - val_loss: 272.2974 - val_loss_reconstruction_0_0: 241.9532 - val_loss_prior_0: 30.3442\n",
      "WARNING:tensorflow:Output loss_reconstruction_0_0 missing from loss dictionary. We assume this was done on purpose. The fit and evaluate APIs will not be expecting any data to be passed to loss_reconstruction_0_0.\n",
      "WARNING:tensorflow:Output loss_prior_0 missing from loss dictionary. We assume this was done on purpose. The fit and evaluate APIs will not be expecting any data to be passed to loss_prior_0.\n",
      "Train on 10 samples, validate on 10 samples\n",
      "Epoch 1/7\n",
      "WARNING:tensorflow:Gradients do not exist for variables ['Variable:0', 'Variable:0'] when minimizing the loss.\n",
      "WARNING:tensorflow:Gradients do not exist for variables ['Variable:0', 'Variable:0'] when minimizing the loss.\n",
      "10/10 [==============================] - 1s 94ms/sample - loss: 544.9673 - loss_reconstruction_0_0: 544.5386 - loss_prior_0: 0.4287 - val_loss: 545.1357 - val_loss_reconstruction_0_0: 544.7491 - val_loss_prior_0: 0.3866\n",
      "Epoch 2/7\n",
      "10/10 [==============================] - 0s 5ms/sample - loss: 544.3134 - loss_reconstruction_0_0: 543.8245 - loss_prior_0: 0.4889 - val_loss: 536.2888 - val_loss_reconstruction_0_0: 535.1678 - val_loss_prior_0: 1.1209\n",
      "Epoch 3/7\n",
      "10/10 [==============================] - 0s 4ms/sample - loss: 532.9375 - loss_reconstruction_0_0: 531.5945 - loss_prior_0: 1.3430 - val_loss: 517.5012 - val_loss_reconstruction_0_0: 513.9293 - val_loss_prior_0: 3.5719\n",
      "Epoch 4/7\n",
      "10/10 [==============================] - 0s 4ms/sample - loss: 511.7607 - loss_reconstruction_0_0: 507.3802 - loss_prior_0: 4.3806 - val_loss: 492.4012 - val_loss_reconstruction_0_0: 484.0812 - val_loss_prior_0: 8.3200\n",
      "Epoch 5/7\n",
      "10/10 [==============================] - 0s 5ms/sample - loss: 487.0192 - loss_reconstruction_0_0: 476.7775 - loss_prior_0: 10.2418 - val_loss: 461.7740 - val_loss_reconstruction_0_0: 446.1797 - val_loss_prior_0: 15.5944\n",
      "Epoch 6/7\n",
      "10/10 [==============================] - 0s 7ms/sample - loss: 450.3509 - loss_reconstruction_0_0: 431.1965 - loss_prior_0: 19.1544 - val_loss: 427.6228 - val_loss_reconstruction_0_0: 402.1398 - val_loss_prior_0: 25.4830\n",
      "Epoch 7/7\n",
      "10/10 [==============================] - 0s 5ms/sample - loss: 416.2662 - loss_reconstruction_0_0: 385.0975 - loss_prior_0: 31.1687 - val_loss: 397.2748 - val_loss_reconstruction_0_0: 360.7970 - val_loss_prior_0: 36.4779\n",
      "WARNING:tensorflow:Output loss_reconstruction_0_0 missing from loss dictionary. We assume this was done on purpose. The fit and evaluate APIs will not be expecting any data to be passed to loss_reconstruction_0_0.\n",
      "WARNING:tensorflow:Output loss_prior_0 missing from loss dictionary. We assume this was done on purpose. The fit and evaluate APIs will not be expecting any data to be passed to loss_prior_0.\n",
      "Train on 10 samples, validate on 10 samples\n",
      "Epoch 1/7\n",
      "WARNING:tensorflow:Gradients do not exist for variables ['Variable:0', 'Variable:0'] when minimizing the loss.\n",
      "WARNING:tensorflow:Gradients do not exist for variables ['Variable:0', 'Variable:0'] when minimizing the loss.\n",
      "10/10 [==============================] - 1s 99ms/sample - loss: 547.0077 - loss_reconstruction_0_0: 546.7072 - loss_prior_0: 0.3006 - val_loss: 543.8657 - val_loss_reconstruction_0_0: 543.4665 - val_loss_prior_0: 0.3992\n",
      "Epoch 2/7\n",
      "10/10 [==============================] - 0s 7ms/sample - loss: 545.6262 - loss_reconstruction_0_0: 545.2388 - loss_prior_0: 0.3873 - val_loss: 543.2012 - val_loss_reconstruction_0_0: 542.6378 - val_loss_prior_0: 0.5634\n",
      "Epoch 3/7\n",
      "10/10 [==============================] - 0s 10ms/sample - loss: 542.8068 - loss_reconstruction_0_0: 542.3593 - loss_prior_0: 0.4475 - val_loss: 543.3002 - val_loss_reconstruction_0_0: 542.3182 - val_loss_prior_0: 0.9820\n",
      "Epoch 4/7\n",
      "10/10 [==============================] - 0s 7ms/sample - loss: 542.0582 - loss_reconstruction_0_0: 541.1730 - loss_prior_0: 0.8852 - val_loss: 539.7932 - val_loss_reconstruction_0_0: 538.2070 - val_loss_prior_0: 1.5862\n",
      "Epoch 5/7\n",
      "10/10 [==============================] - 0s 7ms/sample - loss: 539.8163 - loss_reconstruction_0_0: 538.2086 - loss_prior_0: 1.6077 - val_loss: 535.1102 - val_loss_reconstruction_0_0: 532.5388 - val_loss_prior_0: 2.5714\n",
      "Epoch 6/7\n",
      "10/10 [==============================] - 0s 5ms/sample - loss: 533.1589 - loss_reconstruction_0_0: 530.3539 - loss_prior_0: 2.8050 - val_loss: 525.5485 - val_loss_reconstruction_0_0: 521.3663 - val_loss_prior_0: 4.1822\n",
      "Epoch 7/7\n",
      "10/10 [==============================] - 0s 4ms/sample - loss: 525.8461 - loss_reconstruction_0_0: 521.1024 - loss_prior_0: 4.7437 - val_loss: 514.2875 - val_loss_reconstruction_0_0: 507.7294 - val_loss_prior_0: 6.5581\n",
      "WARNING:tensorflow:Output loss_reconstruction_0_0 missing from loss dictionary. We assume this was done on purpose. The fit and evaluate APIs will not be expecting any data to be passed to loss_reconstruction_0_0.\n",
      "WARNING:tensorflow:Output loss_prior_0 missing from loss dictionary. We assume this was done on purpose. The fit and evaluate APIs will not be expecting any data to be passed to loss_prior_0.\n",
      "Train on 10 samples, validate on 10 samples\n",
      "Epoch 1/7\n",
      "WARNING:tensorflow:Gradients do not exist for variables ['Variable:0', 'Variable:0'] when minimizing the loss.\n",
      "WARNING:tensorflow:Gradients do not exist for variables ['Variable:0', 'Variable:0'] when minimizing the loss.\n",
      "10/10 [==============================] - 1s 114ms/sample - loss: 543.5151 - loss_reconstruction_0_0: 543.4102 - loss_prior_0: 0.1049 - val_loss: 541.1643 - val_loss_reconstruction_0_0: 541.0892 - val_loss_prior_0: 0.0751\n",
      "Epoch 2/7\n",
      "10/10 [==============================] - 0s 5ms/sample - loss: 541.8709 - loss_reconstruction_0_0: 541.8140 - loss_prior_0: 0.0569 - val_loss: 539.4522 - val_loss_reconstruction_0_0: 539.3636 - val_loss_prior_0: 0.0885\n",
      "Epoch 3/7\n",
      "10/10 [==============================] - 0s 6ms/sample - loss: 538.7581 - loss_reconstruction_0_0: 538.6749 - loss_prior_0: 0.0831 - val_loss: 535.8094 - val_loss_reconstruction_0_0: 535.6862 - val_loss_prior_0: 0.1232\n",
      "Epoch 4/7\n",
      "10/10 [==============================] - 0s 5ms/sample - loss: 534.4067 - loss_reconstruction_0_0: 534.2459 - loss_prior_0: 0.1608 - val_loss: 532.8198 - val_loss_reconstruction_0_0: 532.6463 - val_loss_prior_0: 0.1735\n",
      "Epoch 5/7\n",
      "10/10 [==============================] - 0s 5ms/sample - loss: 532.5951 - loss_reconstruction_0_0: 532.3344 - loss_prior_0: 0.2607 - val_loss: 529.4163 - val_loss_reconstruction_0_0: 529.1190 - val_loss_prior_0: 0.2973\n",
      "Epoch 6/7\n",
      "10/10 [==============================] - 0s 6ms/sample - loss: 525.9426 - loss_reconstruction_0_0: 525.5016 - loss_prior_0: 0.4410 - val_loss: 520.1421 - val_loss_reconstruction_0_0: 519.6265 - val_loss_prior_0: 0.5156\n",
      "Epoch 7/7\n",
      "10/10 [==============================] - 0s 5ms/sample - loss: 502.0210 - loss_reconstruction_0_0: 501.3001 - loss_prior_0: 0.7208 - val_loss: 517.3848 - val_loss_reconstruction_0_0: 516.5392 - val_loss_prior_0: 0.8455\n",
      "WARNING:tensorflow:Output loss_reconstruction_0_0 missing from loss dictionary. We assume this was done on purpose. The fit and evaluate APIs will not be expecting any data to be passed to loss_reconstruction_0_0.\n",
      "WARNING:tensorflow:Output loss_prior_0 missing from loss dictionary. We assume this was done on purpose. The fit and evaluate APIs will not be expecting any data to be passed to loss_prior_0.\n",
      "Train on 10 samples, validate on 10 samples\n",
      "Epoch 1/7\n",
      "WARNING:tensorflow:Gradients do not exist for variables ['Variable:0', 'Variable:0'] when minimizing the loss.\n",
      "WARNING:tensorflow:Gradients do not exist for variables ['Variable:0', 'Variable:0'] when minimizing the loss.\n",
      "10/10 [==============================] - 1s 98ms/sample - loss: 543.9636 - loss_reconstruction_0_0: 543.7920 - loss_prior_0: 0.1716 - val_loss: 541.4917 - val_loss_reconstruction_0_0: 541.3633 - val_loss_prior_0: 0.1284\n",
      "Epoch 2/7\n",
      "10/10 [==============================] - 0s 5ms/sample - loss: 541.1655 - loss_reconstruction_0_0: 541.0148 - loss_prior_0: 0.1506 - val_loss: 535.8649 - val_loss_reconstruction_0_0: 535.5443 - val_loss_prior_0: 0.3207\n",
      "Epoch 3/7\n",
      "10/10 [==============================] - 0s 5ms/sample - loss: 535.5383 - loss_reconstruction_0_0: 535.0427 - loss_prior_0: 0.4957 - val_loss: 531.0391 - val_loss_reconstruction_0_0: 530.4196 - val_loss_prior_0: 0.6195\n",
      "Epoch 4/7\n",
      "10/10 [==============================] - 0s 7ms/sample - loss: 529.6870 - loss_reconstruction_0_0: 528.7438 - loss_prior_0: 0.9433 - val_loss: 531.1299 - val_loss_reconstruction_0_0: 530.0905 - val_loss_prior_0: 1.0395\n",
      "Epoch 5/7\n",
      "10/10 [==============================] - 0s 5ms/sample - loss: 517.3979 - loss_reconstruction_0_0: 515.8626 - loss_prior_0: 1.5353 - val_loss: 509.9253 - val_loss_reconstruction_0_0: 508.2051 - val_loss_prior_0: 1.7202\n",
      "Epoch 6/7\n",
      "10/10 [==============================] - 0s 4ms/sample - loss: 497.0625 - loss_reconstruction_0_0: 494.6129 - loss_prior_0: 2.4496 - val_loss: 488.8499 - val_loss_reconstruction_0_0: 486.0471 - val_loss_prior_0: 2.8028\n",
      "Epoch 7/7\n",
      "10/10 [==============================] - 0s 3ms/sample - loss: 511.1750 - loss_reconstruction_0_0: 507.3166 - loss_prior_0: 3.8584 - val_loss: 456.1202 - val_loss_reconstruction_0_0: 451.5872 - val_loss_prior_0: 4.5331\n",
      "WARNING:tensorflow:Output loss_reconstruction_0_0 missing from loss dictionary. We assume this was done on purpose. The fit and evaluate APIs will not be expecting any data to be passed to loss_reconstruction_0_0.\n",
      "WARNING:tensorflow:Output loss_prior_0 missing from loss dictionary. We assume this was done on purpose. The fit and evaluate APIs will not be expecting any data to be passed to loss_prior_0.\n",
      "Train on 10 samples, validate on 10 samples\n",
      "Epoch 1/7\n",
      "WARNING:tensorflow:Gradients do not exist for variables ['Variable:0', 'Variable:0'] when minimizing the loss.\n",
      "WARNING:tensorflow:Gradients do not exist for variables ['Variable:0', 'Variable:0'] when minimizing the loss.\n",
      "10/10 [==============================] - 1s 96ms/sample - loss: 544.0720 - loss_reconstruction_0_0: 543.9851 - loss_prior_0: 0.0869 - val_loss: 542.2237 - val_loss_reconstruction_0_0: 542.1214 - val_loss_prior_0: 0.1023\n",
      "Epoch 2/7\n",
      "10/10 [==============================] - 0s 3ms/sample - loss: 542.2893 - loss_reconstruction_0_0: 542.2001 - loss_prior_0: 0.0892 - val_loss: 540.9100 - val_loss_reconstruction_0_0: 540.8163 - val_loss_prior_0: 0.0937\n",
      "Epoch 3/7\n",
      "10/10 [==============================] - 0s 4ms/sample - loss: 540.7538 - loss_reconstruction_0_0: 540.6699 - loss_prior_0: 0.0839 - val_loss: 540.4184 - val_loss_reconstruction_0_0: 540.3333 - val_loss_prior_0: 0.0851\n",
      "Epoch 4/7\n",
      "10/10 [==============================] - 0s 3ms/sample - loss: 539.2047 - loss_reconstruction_0_0: 539.1148 - loss_prior_0: 0.0898 - val_loss: 536.2390 - val_loss_reconstruction_0_0: 536.1406 - val_loss_prior_0: 0.0984\n",
      "Epoch 5/7\n",
      "10/10 [==============================] - 0s 8ms/sample - loss: 536.9614 - loss_reconstruction_0_0: 536.8489 - loss_prior_0: 0.1124 - val_loss: 535.6023 - val_loss_reconstruction_0_0: 535.4879 - val_loss_prior_0: 0.1144\n",
      "Epoch 6/7\n",
      "10/10 [==============================] - 0s 6ms/sample - loss: 534.8676 - loss_reconstruction_0_0: 534.7381 - loss_prior_0: 0.1295 - val_loss: 529.7766 - val_loss_reconstruction_0_0: 529.6343 - val_loss_prior_0: 0.1423\n",
      "Epoch 7/7\n",
      "10/10 [==============================] - 0s 4ms/sample - loss: 530.2385 - loss_reconstruction_0_0: 530.0798 - loss_prior_0: 0.1587 - val_loss: 530.7957 - val_loss_reconstruction_0_0: 530.6049 - val_loss_prior_0: 0.1908\n",
      "WARNING:tensorflow:Output loss_reconstruction_0_0 missing from loss dictionary. We assume this was done on purpose. The fit and evaluate APIs will not be expecting any data to be passed to loss_reconstruction_0_0.\n",
      "WARNING:tensorflow:Output loss_prior_0 missing from loss dictionary. We assume this was done on purpose. The fit and evaluate APIs will not be expecting any data to be passed to loss_prior_0.\n",
      "Train on 10 samples, validate on 10 samples\n",
      "Epoch 1/7\n",
      "WARNING:tensorflow:Gradients do not exist for variables ['Variable:0', 'Variable:0'] when minimizing the loss.\n",
      "WARNING:tensorflow:Gradients do not exist for variables ['Variable:0', 'Variable:0'] when minimizing the loss.\n",
      "10/10 [==============================] - 1s 95ms/sample - loss: 546.4866 - loss_reconstruction_0_0: 546.4788 - loss_prior_0: 0.0078 - val_loss: 542.2535 - val_loss_reconstruction_0_0: 542.2502 - val_loss_prior_0: 0.0032\n",
      "Epoch 2/7\n",
      "10/10 [==============================] - 0s 4ms/sample - loss: 542.9399 - loss_reconstruction_0_0: 542.9361 - loss_prior_0: 0.0038 - val_loss: 542.4381 - val_loss_reconstruction_0_0: 542.4346 - val_loss_prior_0: 0.0035\n",
      "Epoch 3/7\n",
      "10/10 [==============================] - 0s 4ms/sample - loss: 541.9946 - loss_reconstruction_0_0: 541.9910 - loss_prior_0: 0.0035 - val_loss: 539.5020 - val_loss_reconstruction_0_0: 539.4963 - val_loss_prior_0: 0.0057\n",
      "Epoch 4/7\n",
      "10/10 [==============================] - 0s 4ms/sample - loss: 541.0721 - loss_reconstruction_0_0: 541.0670 - loss_prior_0: 0.0051 - val_loss: 535.6322 - val_loss_reconstruction_0_0: 535.6213 - val_loss_prior_0: 0.0109\n",
      "Epoch 5/7\n",
      "10/10 [==============================] - 0s 3ms/sample - loss: 533.7029 - loss_reconstruction_0_0: 533.6927 - loss_prior_0: 0.0101 - val_loss: 526.8723 - val_loss_reconstruction_0_0: 526.8524 - val_loss_prior_0: 0.0198\n",
      "Epoch 6/7\n",
      "10/10 [==============================] - 0s 7ms/sample - loss: 526.2599 - loss_reconstruction_0_0: 526.2405 - loss_prior_0: 0.0195 - val_loss: 518.0850 - val_loss_reconstruction_0_0: 518.0519 - val_loss_prior_0: 0.0332\n",
      "Epoch 7/7\n",
      "10/10 [==============================] - 0s 3ms/sample - loss: 517.9168 - loss_reconstruction_0_0: 517.8829 - loss_prior_0: 0.0340 - val_loss: 506.8900 - val_loss_reconstruction_0_0: 506.8385 - val_loss_prior_0: 0.0515\n",
      "WARNING:tensorflow:Output loss_reconstruction_0_0 missing from loss dictionary. We assume this was done on purpose. The fit and evaluate APIs will not be expecting any data to be passed to loss_reconstruction_0_0.\n",
      "WARNING:tensorflow:Output loss_prior_0 missing from loss dictionary. We assume this was done on purpose. The fit and evaluate APIs will not be expecting any data to be passed to loss_prior_0.\n",
      "Train on 10 samples, validate on 10 samples\n",
      "Epoch 8/20\n",
      "WARNING:tensorflow:Gradients do not exist for variables ['Variable:0', 'Variable:0'] when minimizing the loss.\n",
      "WARNING:tensorflow:Gradients do not exist for variables ['Variable:0', 'Variable:0'] when minimizing the loss.\n",
      "10/10 [==============================] - 1s 102ms/sample - loss: 545.5396 - loss_reconstruction_0_0: 545.0308 - loss_prior_0: 0.5088 - val_loss: 546.3517 - val_loss_reconstruction_0_0: 545.9661 - val_loss_prior_0: 0.3857\n",
      "Epoch 9/20\n",
      "10/10 [==============================] - 0s 7ms/sample - loss: 544.1122 - loss_reconstruction_0_0: 543.6349 - loss_prior_0: 0.4773 - val_loss: 532.2562 - val_loss_reconstruction_0_0: 531.0281 - val_loss_prior_0: 1.2281\n",
      "Epoch 10/20\n",
      "10/10 [==============================] - 0s 7ms/sample - loss: 532.3288 - loss_reconstruction_0_0: 530.9736 - loss_prior_0: 1.3552 - val_loss: 515.5007 - val_loss_reconstruction_0_0: 511.7713 - val_loss_prior_0: 3.7294\n",
      "Epoch 11/20\n",
      "10/10 [==============================] - 0s 11ms/sample - loss: 512.5463 - loss_reconstruction_0_0: 508.3579 - loss_prior_0: 4.1883 - val_loss: 492.9860 - val_loss_reconstruction_0_0: 484.4655 - val_loss_prior_0: 8.5205\n",
      "Epoch 12/20\n",
      "10/10 [==============================] - 0s 6ms/sample - loss: 484.1500 - loss_reconstruction_0_0: 474.4315 - loss_prior_0: 9.7185 - val_loss: 460.7039 - val_loss_reconstruction_0_0: 444.6647 - val_loss_prior_0: 16.0393\n",
      "Epoch 13/20\n",
      "10/10 [==============================] - 0s 8ms/sample - loss: 447.9367 - loss_reconstruction_0_0: 429.5135 - loss_prior_0: 18.4232 - val_loss: 429.1509 - val_loss_reconstruction_0_0: 402.9872 - val_loss_prior_0: 26.1637\n",
      "Epoch 14/20\n",
      "10/10 [==============================] - 0s 6ms/sample - loss: 413.0216 - loss_reconstruction_0_0: 382.9090 - loss_prior_0: 30.1126 - val_loss: 401.0158 - val_loss_reconstruction_0_0: 363.4256 - val_loss_prior_0: 37.5902\n",
      "Epoch 15/20\n",
      "10/10 [==============================] - 0s 6ms/sample - loss: 379.5674 - loss_reconstruction_0_0: 336.2925 - loss_prior_0: 43.2749 - val_loss: 374.8249 - val_loss_reconstruction_0_0: 328.2162 - val_loss_prior_0: 46.6088\n",
      "Epoch 16/20\n",
      "10/10 [==============================] - 0s 5ms/sample - loss: 351.3589 - loss_reconstruction_0_0: 297.6623 - loss_prior_0: 53.6966 - val_loss: 351.9976 - val_loss_reconstruction_0_0: 301.7421 - val_loss_prior_0: 50.2555\n",
      "Epoch 17/20\n",
      "10/10 [==============================] - 0s 5ms/sample - loss: 322.1337 - loss_reconstruction_0_0: 264.1176 - loss_prior_0: 58.0160 - val_loss: 330.8851 - val_loss_reconstruction_0_0: 282.7075 - val_loss_prior_0: 48.1776\n",
      "Epoch 18/20\n",
      "10/10 [==============================] - 0s 5ms/sample - loss: 299.4335 - loss_reconstruction_0_0: 243.6339 - loss_prior_0: 55.7996 - val_loss: 311.1772 - val_loss_reconstruction_0_0: 268.5739 - val_loss_prior_0: 42.6033\n",
      "Epoch 19/20\n",
      "10/10 [==============================] - 0s 5ms/sample - loss: 275.9945 - loss_reconstruction_0_0: 226.3950 - loss_prior_0: 49.5994 - val_loss: 294.2445 - val_loss_reconstruction_0_0: 259.1784 - val_loss_prior_0: 35.0661\n",
      "Epoch 20/20\n",
      "10/10 [==============================] - 0s 6ms/sample - loss: 257.9368 - loss_reconstruction_0_0: 216.7408 - loss_prior_0: 41.1960 - val_loss: 280.5451 - val_loss_reconstruction_0_0: 253.1871 - val_loss_prior_0: 27.3581\n",
      "WARNING:tensorflow:Output loss_reconstruction_0_0 missing from loss dictionary. We assume this was done on purpose. The fit and evaluate APIs will not be expecting any data to be passed to loss_reconstruction_0_0.\n",
      "WARNING:tensorflow:Output loss_prior_0 missing from loss dictionary. We assume this was done on purpose. The fit and evaluate APIs will not be expecting any data to be passed to loss_prior_0.\n",
      "Train on 10 samples, validate on 10 samples\n",
      "Epoch 8/20\n",
      "WARNING:tensorflow:Gradients do not exist for variables ['Variable:0', 'Variable:0'] when minimizing the loss.\n",
      "WARNING:tensorflow:Gradients do not exist for variables ['Variable:0', 'Variable:0'] when minimizing the loss.\n",
      "10/10 [==============================] - 2s 161ms/sample - loss: 544.1702 - loss_reconstruction_0_0: 543.9769 - loss_prior_0: 0.1933 - val_loss: 540.7800 - val_loss_reconstruction_0_0: 540.7350 - val_loss_prior_0: 0.0450\n",
      "Epoch 9/20\n",
      "10/10 [==============================] - 0s 7ms/sample - loss: 541.0500 - loss_reconstruction_0_0: 540.9965 - loss_prior_0: 0.0535 - val_loss: 537.7250 - val_loss_reconstruction_0_0: 537.6173 - val_loss_prior_0: 0.1077\n",
      "Epoch 10/20\n",
      "10/10 [==============================] - 0s 9ms/sample - loss: 538.0583 - loss_reconstruction_0_0: 537.8680 - loss_prior_0: 0.1904 - val_loss: 531.5793 - val_loss_reconstruction_0_0: 531.2512 - val_loss_prior_0: 0.3282\n",
      "Epoch 11/20\n",
      "10/10 [==============================] - 0s 12ms/sample - loss: 531.0955 - loss_reconstruction_0_0: 530.6174 - loss_prior_0: 0.4781 - val_loss: 521.1254 - val_loss_reconstruction_0_0: 520.4066 - val_loss_prior_0: 0.7188\n",
      "Epoch 12/20\n",
      "10/10 [==============================] - 0s 11ms/sample - loss: 523.3950 - loss_reconstruction_0_0: 522.4068 - loss_prior_0: 0.9881 - val_loss: 500.8249 - val_loss_reconstruction_0_0: 499.5109 - val_loss_prior_0: 1.3139\n",
      "Epoch 13/20\n",
      "10/10 [==============================] - 0s 7ms/sample - loss: 499.8995 - loss_reconstruction_0_0: 498.1552 - loss_prior_0: 1.7443 - val_loss: 488.3584 - val_loss_reconstruction_0_0: 486.1252 - val_loss_prior_0: 2.2332\n",
      "Epoch 14/20\n",
      "10/10 [==============================] - 0s 9ms/sample - loss: 472.5917 - loss_reconstruction_0_0: 469.6801 - loss_prior_0: 2.9116 - val_loss: 485.2228 - val_loss_reconstruction_0_0: 481.3961 - val_loss_prior_0: 3.8267\n",
      "Epoch 15/20\n",
      "10/10 [==============================] - 0s 8ms/sample - loss: 437.0280 - loss_reconstruction_0_0: 432.0883 - loss_prior_0: 4.9398 - val_loss: 447.9604 - val_loss_reconstruction_0_0: 440.8283 - val_loss_prior_0: 7.1321\n",
      "Epoch 16/20\n",
      "10/10 [==============================] - 0s 4ms/sample - loss: 452.2528 - loss_reconstruction_0_0: 442.9241 - loss_prior_0: 9.3287 - val_loss: 466.3115 - val_loss_reconstruction_0_0: 456.0625 - val_loss_prior_0: 10.2490\n",
      "Epoch 17/20\n",
      "10/10 [==============================] - 0s 9ms/sample - loss: 361.0826 - loss_reconstruction_0_0: 348.4473 - loss_prior_0: 12.6353 - val_loss: 448.0115 - val_loss_reconstruction_0_0: 432.4180 - val_loss_prior_0: 15.5935\n",
      "Epoch 18/20\n",
      "10/10 [==============================] - 0s 6ms/sample - loss: 464.4953 - loss_reconstruction_0_0: 445.9484 - loss_prior_0: 18.5468 - val_loss: 393.0389 - val_loss_reconstruction_0_0: 379.7608 - val_loss_prior_0: 13.2781\n",
      "Epoch 19/20\n",
      "10/10 [==============================] - 0s 8ms/sample - loss: 350.7338 - loss_reconstruction_0_0: 335.7356 - loss_prior_0: 14.9982 - val_loss: 408.6614 - val_loss_reconstruction_0_0: 397.6381 - val_loss_prior_0: 11.0233\n",
      "Epoch 20/20\n",
      "10/10 [==============================] - 0s 7ms/sample - loss: 295.8764 - loss_reconstruction_0_0: 283.5405 - loss_prior_0: 12.3359 - val_loss: 366.2072 - val_loss_reconstruction_0_0: 356.1415 - val_loss_prior_0: 10.0657\n",
      "WARNING:tensorflow:Output loss_reconstruction_0_0 missing from loss dictionary. We assume this was done on purpose. The fit and evaluate APIs will not be expecting any data to be passed to loss_reconstruction_0_0.\n",
      "WARNING:tensorflow:Output loss_prior_0 missing from loss dictionary. We assume this was done on purpose. The fit and evaluate APIs will not be expecting any data to be passed to loss_prior_0.\n",
      "Train on 10 samples, validate on 10 samples\n",
      "Epoch 1/20\n",
      "WARNING:tensorflow:Gradients do not exist for variables ['Variable:0', 'Variable:0'] when minimizing the loss.\n",
      "WARNING:tensorflow:Gradients do not exist for variables ['Variable:0', 'Variable:0'] when minimizing the loss.\n",
      "10/10 [==============================] - 1s 125ms/sample - loss: 543.2296 - loss_reconstruction_0_0: 543.0921 - loss_prior_0: 0.1375 - val_loss: 539.8720 - val_loss_reconstruction_0_0: 539.8144 - val_loss_prior_0: 0.0576\n",
      "Epoch 2/20\n",
      "10/10 [==============================] - 0s 4ms/sample - loss: 537.7044 - loss_reconstruction_0_0: 537.6354 - loss_prior_0: 0.0689 - val_loss: 536.3945 - val_loss_reconstruction_0_0: 536.2894 - val_loss_prior_0: 0.1051\n",
      "Epoch 3/20\n",
      "10/10 [==============================] - 0s 4ms/sample - loss: 536.7908 - loss_reconstruction_0_0: 536.5666 - loss_prior_0: 0.2243 - val_loss: 527.6572 - val_loss_reconstruction_0_0: 527.4248 - val_loss_prior_0: 0.2324\n",
      "Epoch 4/20\n",
      "10/10 [==============================] - 0s 6ms/sample - loss: 516.2248 - loss_reconstruction_0_0: 515.7211 - loss_prior_0: 0.5037 - val_loss: 511.3799 - val_loss_reconstruction_0_0: 510.7603 - val_loss_prior_0: 0.6197\n",
      "Epoch 5/20\n",
      "10/10 [==============================] - 0s 9ms/sample - loss: 499.8900 - loss_reconstruction_0_0: 498.6952 - loss_prior_0: 1.1948 - val_loss: 488.1147 - val_loss_reconstruction_0_0: 486.4438 - val_loss_prior_0: 1.6708\n",
      "Epoch 6/20\n",
      "10/10 [==============================] - 0s 5ms/sample - loss: 464.0091 - loss_reconstruction_0_0: 461.2344 - loss_prior_0: 2.7747 - val_loss: 466.5109 - val_loss_reconstruction_0_0: 462.1935 - val_loss_prior_0: 4.3174\n",
      "Epoch 7/20\n",
      "10/10 [==============================] - 0s 5ms/sample - loss: 447.8174 - loss_reconstruction_0_0: 441.2536 - loss_prior_0: 6.5638 - val_loss: 471.5041 - val_loss_reconstruction_0_0: 460.9424 - val_loss_prior_0: 10.5617\n",
      "Epoch 8/20\n",
      "10/10 [==============================] - 0s 3ms/sample - loss: 464.1836 - loss_reconstruction_0_0: 448.6790 - loss_prior_0: 15.5047 - val_loss: 417.1988 - val_loss_reconstruction_0_0: 408.4576 - val_loss_prior_0: 8.7412\n",
      "Epoch 9/20\n",
      "10/10 [==============================] - 0s 5ms/sample - loss: 388.3385 - loss_reconstruction_0_0: 376.6196 - loss_prior_0: 11.7189 - val_loss: 411.9856 - val_loss_reconstruction_0_0: 405.2412 - val_loss_prior_0: 6.7444\n",
      "Epoch 10/20\n",
      "10/10 [==============================] - 0s 5ms/sample - loss: 321.7495 - loss_reconstruction_0_0: 312.9507 - loss_prior_0: 8.7988 - val_loss: 387.8186 - val_loss_reconstruction_0_0: 382.2209 - val_loss_prior_0: 5.5976\n",
      "Epoch 11/20\n",
      "10/10 [==============================] - 0s 2ms/sample - loss: 358.8937 - loss_reconstruction_0_0: 351.5868 - loss_prior_0: 7.3068 - val_loss: 423.7065 - val_loss_reconstruction_0_0: 418.3144 - val_loss_prior_0: 5.3921\n",
      "Epoch 12/20\n",
      "10/10 [==============================] - 0s 7ms/sample - loss: 315.2227 - loss_reconstruction_0_0: 308.0329 - loss_prior_0: 7.1899 - val_loss: 354.1270 - val_loss_reconstruction_0_0: 347.8817 - val_loss_prior_0: 6.2453\n",
      "Epoch 13/20\n",
      "10/10 [==============================] - 0s 4ms/sample - loss: 323.6421 - loss_reconstruction_0_0: 315.0817 - loss_prior_0: 8.5605 - val_loss: 328.2551 - val_loss_reconstruction_0_0: 320.2068 - val_loss_prior_0: 8.0483\n",
      "Epoch 14/20\n",
      "10/10 [==============================] - 0s 6ms/sample - loss: 274.3360 - loss_reconstruction_0_0: 263.0718 - loss_prior_0: 11.2642 - val_loss: 356.5054 - val_loss_reconstruction_0_0: 345.8950 - val_loss_prior_0: 10.6104\n",
      "Epoch 15/20\n",
      "10/10 [==============================] - 0s 2ms/sample - loss: 287.3806 - loss_reconstruction_0_0: 272.3168 - loss_prior_0: 15.0637 - val_loss: 332.2531 - val_loss_reconstruction_0_0: 320.4661 - val_loss_prior_0: 11.7869\n",
      "Epoch 16/20\n",
      "10/10 [==============================] - 0s 5ms/sample - loss: 259.3024 - loss_reconstruction_0_0: 242.3845 - loss_prior_0: 16.9179 - val_loss: 399.2123 - val_loss_reconstruction_0_0: 387.5840 - val_loss_prior_0: 11.6283\n",
      "Epoch 17/20\n",
      "10/10 [==============================] - 0s 3ms/sample - loss: 261.5303 - loss_reconstruction_0_0: 244.6640 - loss_prior_0: 16.8663 - val_loss: 313.1823 - val_loss_reconstruction_0_0: 302.3768 - val_loss_prior_0: 10.8055\n",
      "Epoch 18/20\n",
      "10/10 [==============================] - 0s 4ms/sample - loss: 265.5656 - loss_reconstruction_0_0: 249.8364 - loss_prior_0: 15.7292 - val_loss: 279.8585 - val_loss_reconstruction_0_0: 269.8195 - val_loss_prior_0: 10.0390\n",
      "Epoch 19/20\n",
      "10/10 [==============================] - 0s 10ms/sample - loss: 217.8552 - loss_reconstruction_0_0: 203.1815 - loss_prior_0: 14.6736 - val_loss: 292.7872 - val_loss_reconstruction_0_0: 283.3154 - val_loss_prior_0: 9.4718\n",
      "Epoch 20/20\n",
      "10/10 [==============================] - 0s 5ms/sample - loss: 238.3839 - loss_reconstruction_0_0: 224.5776 - loss_prior_0: 13.8064 - val_loss: 319.3829 - val_loss_reconstruction_0_0: 310.6412 - val_loss_prior_0: 8.7417\n",
      "WARNING:tensorflow:Output loss_reconstruction_0_0 missing from loss dictionary. We assume this was done on purpose. The fit and evaluate APIs will not be expecting any data to be passed to loss_reconstruction_0_0.\n",
      "WARNING:tensorflow:Output loss_prior_0 missing from loss dictionary. We assume this was done on purpose. The fit and evaluate APIs will not be expecting any data to be passed to loss_prior_0.\n",
      "Train on 10 samples, validate on 10 samples\n",
      "Epoch 1/20\n",
      "WARNING:tensorflow:Gradients do not exist for variables ['Variable:0', 'Variable:0'] when minimizing the loss.\n",
      "WARNING:tensorflow:Gradients do not exist for variables ['Variable:0', 'Variable:0'] when minimizing the loss.\n",
      "10/10 [==============================] - 2s 182ms/sample - loss: 544.5214 - loss_reconstruction_0_0: 544.2679 - loss_prior_0: 0.2534 - val_loss: 542.6955 - val_loss_reconstruction_0_0: 541.1241 - val_loss_prior_0: 1.5714\n",
      "Epoch 2/20\n",
      "10/10 [==============================] - 0s 5ms/sample - loss: 543.0083 - loss_reconstruction_0_0: 541.4023 - loss_prior_0: 1.6059 - val_loss: 530.6812 - val_loss_reconstruction_0_0: 527.8242 - val_loss_prior_0: 2.8569\n",
      "Epoch 3/20\n",
      "10/10 [==============================] - 0s 6ms/sample - loss: 528.8814 - loss_reconstruction_0_0: 525.6454 - loss_prior_0: 3.2360 - val_loss: 515.3455 - val_loss_reconstruction_0_0: 509.3912 - val_loss_prior_0: 5.9543\n",
      "Epoch 4/20\n",
      "10/10 [==============================] - 0s 8ms/sample - loss: 511.2193 - loss_reconstruction_0_0: 504.1593 - loss_prior_0: 7.0600 - val_loss: 486.2260 - val_loss_reconstruction_0_0: 475.6643 - val_loss_prior_0: 10.5617\n",
      "Epoch 5/20\n",
      "10/10 [==============================] - 0s 8ms/sample - loss: 485.6470 - loss_reconstruction_0_0: 473.0389 - loss_prior_0: 12.6082 - val_loss: 460.9535 - val_loss_reconstruction_0_0: 444.5913 - val_loss_prior_0: 16.3622\n",
      "Epoch 6/20\n",
      "10/10 [==============================] - 0s 7ms/sample - loss: 443.5923 - loss_reconstruction_0_0: 424.1406 - loss_prior_0: 19.4517 - val_loss: 420.3387 - val_loss_reconstruction_0_0: 396.6130 - val_loss_prior_0: 23.7257\n",
      "Epoch 7/20\n",
      "10/10 [==============================] - 0s 8ms/sample - loss: 407.9211 - loss_reconstruction_0_0: 379.8697 - loss_prior_0: 28.0514 - val_loss: 388.7556 - val_loss_reconstruction_0_0: 356.1134 - val_loss_prior_0: 32.6422\n",
      "Epoch 8/20\n",
      "10/10 [==============================] - 0s 7ms/sample - loss: 374.0690 - loss_reconstruction_0_0: 335.6995 - loss_prior_0: 38.3695 - val_loss: 364.1030 - val_loss_reconstruction_0_0: 322.7041 - val_loss_prior_0: 41.3989\n",
      "Epoch 9/20\n",
      "10/10 [==============================] - 0s 5ms/sample - loss: 339.1522 - loss_reconstruction_0_0: 290.7206 - loss_prior_0: 48.4316 - val_loss: 344.3687 - val_loss_reconstruction_0_0: 298.1642 - val_loss_prior_0: 46.2044\n",
      "Epoch 10/20\n",
      "10/10 [==============================] - 0s 8ms/sample - loss: 313.2678 - loss_reconstruction_0_0: 259.3484 - loss_prior_0: 53.9194 - val_loss: 323.0398 - val_loss_reconstruction_0_0: 277.0711 - val_loss_prior_0: 45.9687\n",
      "Epoch 11/20\n",
      "10/10 [==============================] - 0s 5ms/sample - loss: 337.6739 - loss_reconstruction_0_0: 283.9925 - loss_prior_0: 53.6814 - val_loss: 306.1685 - val_loss_reconstruction_0_0: 261.3250 - val_loss_prior_0: 44.8434\n",
      "Epoch 12/20\n",
      "10/10 [==============================] - 0s 6ms/sample - loss: 272.8504 - loss_reconstruction_0_0: 220.5898 - loss_prior_0: 52.2606 - val_loss: 296.3778 - val_loss_reconstruction_0_0: 254.9331 - val_loss_prior_0: 41.4447\n",
      "Epoch 13/20\n",
      "10/10 [==============================] - 0s 7ms/sample - loss: 258.2500 - loss_reconstruction_0_0: 209.7976 - loss_prior_0: 48.4524 - val_loss: 283.9818 - val_loss_reconstruction_0_0: 247.3055 - val_loss_prior_0: 36.6763\n",
      "Epoch 14/20\n",
      "10/10 [==============================] - 0s 7ms/sample - loss: 244.4181 - loss_reconstruction_0_0: 201.2520 - loss_prior_0: 43.1661 - val_loss: 275.0490 - val_loss_reconstruction_0_0: 243.9362 - val_loss_prior_0: 31.1128\n",
      "Epoch 15/20\n",
      "10/10 [==============================] - 0s 6ms/sample - loss: 232.5385 - loss_reconstruction_0_0: 195.5043 - loss_prior_0: 37.0343 - val_loss: 264.9976 - val_loss_reconstruction_0_0: 239.6279 - val_loss_prior_0: 25.3697\n",
      "Epoch 16/20\n",
      "10/10 [==============================] - 0s 4ms/sample - loss: 222.5122 - loss_reconstruction_0_0: 191.7749 - loss_prior_0: 30.7373 - val_loss: 258.0060 - val_loss_reconstruction_0_0: 238.0449 - val_loss_prior_0: 19.9611\n",
      "Epoch 17/20\n",
      "10/10 [==============================] - 0s 5ms/sample - loss: 216.1171 - loss_reconstruction_0_0: 191.2823 - loss_prior_0: 24.8348 - val_loss: 252.2821 - val_loss_reconstruction_0_0: 236.8631 - val_loss_prior_0: 15.4190\n",
      "Epoch 18/20\n",
      "10/10 [==============================] - 0s 5ms/sample - loss: 210.2890 - loss_reconstruction_0_0: 190.3864 - loss_prior_0: 19.9026 - val_loss: 248.9853 - val_loss_reconstruction_0_0: 236.9346 - val_loss_prior_0: 12.0507\n",
      "Epoch 19/20\n",
      "10/10 [==============================] - 0s 5ms/sample - loss: 207.0803 - loss_reconstruction_0_0: 190.8256 - loss_prior_0: 16.2546 - val_loss: 249.1572 - val_loss_reconstruction_0_0: 239.1695 - val_loss_prior_0: 9.9877\n",
      "Epoch 20/20\n",
      "10/10 [==============================] - 0s 4ms/sample - loss: 211.7737 - loss_reconstruction_0_0: 197.8160 - loss_prior_0: 13.9577 - val_loss: 245.3496 - val_loss_reconstruction_0_0: 235.7244 - val_loss_prior_0: 9.6252\n",
      "WARNING:tensorflow:Output loss_reconstruction_0_0 missing from loss dictionary. We assume this was done on purpose. The fit and evaluate APIs will not be expecting any data to be passed to loss_reconstruction_0_0.\n",
      "WARNING:tensorflow:Output loss_prior_0 missing from loss dictionary. We assume this was done on purpose. The fit and evaluate APIs will not be expecting any data to be passed to loss_prior_0.\n",
      "Train on 10 samples, validate on 10 samples\n",
      "Epoch 1/20\n",
      "WARNING:tensorflow:Gradients do not exist for variables ['Variable:0', 'Variable:0'] when minimizing the loss.\n",
      "WARNING:tensorflow:Gradients do not exist for variables ['Variable:0', 'Variable:0'] when minimizing the loss.\n",
      "10/10 [==============================] - 1s 144ms/sample - loss: 543.2426 - loss_reconstruction_0_0: 543.1705 - loss_prior_0: 0.0720 - val_loss: 541.7247 - val_loss_reconstruction_0_0: 541.6250 - val_loss_prior_0: 0.0997\n",
      "Epoch 2/20\n",
      "10/10 [==============================] - 0s 4ms/sample - loss: 541.6496 - loss_reconstruction_0_0: 541.6046 - loss_prior_0: 0.0450 - val_loss: 539.6319 - val_loss_reconstruction_0_0: 539.5158 - val_loss_prior_0: 0.1161\n",
      "Epoch 3/20\n",
      "10/10 [==============================] - 0s 4ms/sample - loss: 540.4478 - loss_reconstruction_0_0: 540.3932 - loss_prior_0: 0.0545 - val_loss: 539.5616 - val_loss_reconstruction_0_0: 539.4033 - val_loss_prior_0: 0.1584\n",
      "Epoch 4/20\n",
      "10/10 [==============================] - 0s 4ms/sample - loss: 537.9172 - loss_reconstruction_0_0: 537.8022 - loss_prior_0: 0.1150 - val_loss: 534.9695 - val_loss_reconstruction_0_0: 534.7319 - val_loss_prior_0: 0.2376\n",
      "Epoch 5/20\n",
      "10/10 [==============================] - 0s 3ms/sample - loss: 534.2883 - loss_reconstruction_0_0: 534.0791 - loss_prior_0: 0.2092 - val_loss: 527.7108 - val_loss_reconstruction_0_0: 527.3457 - val_loss_prior_0: 0.3651\n",
      "Epoch 6/20\n",
      "10/10 [==============================] - 0s 3ms/sample - loss: 535.2224 - loss_reconstruction_0_0: 534.8695 - loss_prior_0: 0.3529 - val_loss: 532.8057 - val_loss_reconstruction_0_0: 532.2666 - val_loss_prior_0: 0.5390\n",
      "Epoch 7/20\n",
      "10/10 [==============================] - 0s 4ms/sample - loss: 532.5040 - loss_reconstruction_0_0: 531.9517 - loss_prior_0: 0.5522 - val_loss: 521.7928 - val_loss_reconstruction_0_0: 521.0193 - val_loss_prior_0: 0.7736\n",
      "Epoch 8/20\n",
      "10/10 [==============================] - 0s 4ms/sample - loss: 518.9999 - loss_reconstruction_0_0: 518.1771 - loss_prior_0: 0.8228 - val_loss: 516.3521 - val_loss_reconstruction_0_0: 515.2368 - val_loss_prior_0: 1.1153\n",
      "Epoch 9/20\n",
      "10/10 [==============================] - 0s 3ms/sample - loss: 509.1325 - loss_reconstruction_0_0: 507.9064 - loss_prior_0: 1.2261 - val_loss: 504.1545 - val_loss_reconstruction_0_0: 502.5056 - val_loss_prior_0: 1.6489\n",
      "Epoch 10/20\n",
      "10/10 [==============================] - 0s 3ms/sample - loss: 505.9803 - loss_reconstruction_0_0: 504.1484 - loss_prior_0: 1.8320 - val_loss: 503.8355 - val_loss_reconstruction_0_0: 501.3203 - val_loss_prior_0: 2.5152\n",
      "Epoch 11/20\n",
      "10/10 [==============================] - 0s 7ms/sample - loss: 480.9136 - loss_reconstruction_0_0: 478.1179 - loss_prior_0: 2.7958 - val_loss: 497.0536 - val_loss_reconstruction_0_0: 493.0904 - val_loss_prior_0: 3.9632\n",
      "Epoch 12/20\n",
      "10/10 [==============================] - 0s 6ms/sample - loss: 456.9055 - loss_reconstruction_0_0: 452.5720 - loss_prior_0: 4.3335 - val_loss: 492.4629 - val_loss_reconstruction_0_0: 485.9576 - val_loss_prior_0: 6.5053\n",
      "Epoch 13/20\n",
      "10/10 [==============================] - 0s 4ms/sample - loss: 451.9056 - loss_reconstruction_0_0: 444.9630 - loss_prior_0: 6.9425 - val_loss: 507.8229 - val_loss_reconstruction_0_0: 499.5781 - val_loss_prior_0: 8.2448\n",
      "Epoch 14/20\n",
      "10/10 [==============================] - 0s 4ms/sample - loss: 442.8028 - loss_reconstruction_0_0: 433.9374 - loss_prior_0: 8.8654 - val_loss: 509.4452 - val_loss_reconstruction_0_0: 498.4277 - val_loss_prior_0: 11.0175\n",
      "Epoch 15/20\n",
      "10/10 [==============================] - 0s 4ms/sample - loss: 420.9335 - loss_reconstruction_0_0: 408.8539 - loss_prior_0: 12.0796 - val_loss: 576.1575 - val_loss_reconstruction_0_0: 562.9310 - val_loss_prior_0: 13.2265\n",
      "Epoch 16/20\n",
      "10/10 [==============================] - 0s 2ms/sample - loss: 422.9865 - loss_reconstruction_0_0: 408.6427 - loss_prior_0: 14.3438 - val_loss: 408.3721 - val_loss_reconstruction_0_0: 394.7361 - val_loss_prior_0: 13.6360\n",
      "Epoch 17/20\n",
      "10/10 [==============================] - 0s 3ms/sample - loss: 396.1044 - loss_reconstruction_0_0: 382.0544 - loss_prior_0: 14.0500 - val_loss: 431.2139 - val_loss_reconstruction_0_0: 418.4466 - val_loss_prior_0: 12.7673\n",
      "Epoch 18/20\n",
      "10/10 [==============================] - 0s 2ms/sample - loss: 400.3335 - loss_reconstruction_0_0: 387.7227 - loss_prior_0: 12.6108 - val_loss: 471.9725 - val_loss_reconstruction_0_0: 460.8408 - val_loss_prior_0: 11.1317\n",
      "Epoch 19/20\n",
      "10/10 [==============================] - 0s 4ms/sample - loss: 336.9972 - loss_reconstruction_0_0: 326.1703 - loss_prior_0: 10.8269 - val_loss: 416.3851 - val_loss_reconstruction_0_0: 406.4951 - val_loss_prior_0: 9.8900\n",
      "Epoch 20/20\n",
      "10/10 [==============================] - 0s 3ms/sample - loss: 343.3544 - loss_reconstruction_0_0: 333.6807 - loss_prior_0: 9.6738 - val_loss: 354.3657 - val_loss_reconstruction_0_0: 344.9511 - val_loss_prior_0: 9.4146\n",
      "WARNING:tensorflow:Output loss_reconstruction_0_0 missing from loss dictionary. We assume this was done on purpose. The fit and evaluate APIs will not be expecting any data to be passed to loss_reconstruction_0_0.\n",
      "WARNING:tensorflow:Output loss_prior_0 missing from loss dictionary. We assume this was done on purpose. The fit and evaluate APIs will not be expecting any data to be passed to loss_prior_0.\n",
      "Train on 10 samples, validate on 10 samples\n",
      "Epoch 1/20\n",
      "WARNING:tensorflow:Gradients do not exist for variables ['Variable:0', 'Variable:0'] when minimizing the loss.\n",
      "WARNING:tensorflow:Gradients do not exist for variables ['Variable:0', 'Variable:0'] when minimizing the loss.\n",
      "10/10 [==============================] - 2s 162ms/sample - loss: 544.0692 - loss_reconstruction_0_0: 543.7374 - loss_prior_0: 0.3318 - val_loss: 542.8546 - val_loss_reconstruction_0_0: 542.4097 - val_loss_prior_0: 0.4448\n",
      "Epoch 2/20\n",
      "10/10 [==============================] - 0s 4ms/sample - loss: 541.2808 - loss_reconstruction_0_0: 540.9395 - loss_prior_0: 0.3413 - val_loss: 537.4385 - val_loss_reconstruction_0_0: 536.5029 - val_loss_prior_0: 0.9355\n",
      "Epoch 3/20\n",
      "10/10 [==============================] - 0s 3ms/sample - loss: 538.7549 - loss_reconstruction_0_0: 538.0359 - loss_prior_0: 0.7189 - val_loss: 532.6146 - val_loss_reconstruction_0_0: 530.8469 - val_loss_prior_0: 1.7677\n",
      "Epoch 4/20\n",
      "10/10 [==============================] - 0s 4ms/sample - loss: 533.1448 - loss_reconstruction_0_0: 531.6217 - loss_prior_0: 1.5231 - val_loss: 520.3177 - val_loss_reconstruction_0_0: 517.3930 - val_loss_prior_0: 2.9247\n",
      "Epoch 5/20\n",
      "10/10 [==============================] - 0s 4ms/sample - loss: 522.5616 - loss_reconstruction_0_0: 519.8386 - loss_prior_0: 2.7229 - val_loss: 522.1954 - val_loss_reconstruction_0_0: 517.7429 - val_loss_prior_0: 4.4526\n",
      "Epoch 6/20\n",
      "10/10 [==============================] - 0s 4ms/sample - loss: 515.1959 - loss_reconstruction_0_0: 510.8240 - loss_prior_0: 4.3718 - val_loss: 509.5005 - val_loss_reconstruction_0_0: 503.1454 - val_loss_prior_0: 6.3551\n",
      "Epoch 7/20\n",
      "10/10 [==============================] - 0s 3ms/sample - loss: 504.0206 - loss_reconstruction_0_0: 497.5312 - loss_prior_0: 6.4893 - val_loss: 493.7823 - val_loss_reconstruction_0_0: 485.2757 - val_loss_prior_0: 8.5067\n",
      "Epoch 8/20\n",
      "10/10 [==============================] - 0s 4ms/sample - loss: 491.6495 - loss_reconstruction_0_0: 482.7344 - loss_prior_0: 8.9151 - val_loss: 484.5478 - val_loss_reconstruction_0_0: 473.5322 - val_loss_prior_0: 11.0155\n",
      "Epoch 9/20\n",
      "10/10 [==============================] - 0s 6ms/sample - loss: 485.9564 - loss_reconstruction_0_0: 474.1928 - loss_prior_0: 11.7636 - val_loss: 475.4063 - val_loss_reconstruction_0_0: 461.7587 - val_loss_prior_0: 13.6476\n",
      "Epoch 10/20\n",
      "10/10 [==============================] - 0s 8ms/sample - loss: 469.8147 - loss_reconstruction_0_0: 455.0731 - loss_prior_0: 14.7416 - val_loss: 458.6660 - val_loss_reconstruction_0_0: 442.2347 - val_loss_prior_0: 16.4313\n",
      "Epoch 11/20\n",
      "10/10 [==============================] - 0s 5ms/sample - loss: 450.8583 - loss_reconstruction_0_0: 432.9461 - loss_prior_0: 17.9122 - val_loss: 435.5595 - val_loss_reconstruction_0_0: 416.0270 - val_loss_prior_0: 19.5325\n",
      "Epoch 12/20\n",
      "10/10 [==============================] - 0s 5ms/sample - loss: 433.3344 - loss_reconstruction_0_0: 411.8786 - loss_prior_0: 21.4558 - val_loss: 424.7015 - val_loss_reconstruction_0_0: 401.8100 - val_loss_prior_0: 22.8915\n",
      "Epoch 13/20\n",
      "10/10 [==============================] - 0s 5ms/sample - loss: 417.8536 - loss_reconstruction_0_0: 392.5462 - loss_prior_0: 25.3074 - val_loss: 418.7984 - val_loss_reconstruction_0_0: 392.4117 - val_loss_prior_0: 26.3867\n",
      "Epoch 14/20\n",
      "10/10 [==============================] - 0s 5ms/sample - loss: 399.1360 - loss_reconstruction_0_0: 369.8097 - loss_prior_0: 29.3263 - val_loss: 403.8103 - val_loss_reconstruction_0_0: 373.9712 - val_loss_prior_0: 29.8391\n",
      "Epoch 15/20\n",
      "10/10 [==============================] - 0s 4ms/sample - loss: 387.9082 - loss_reconstruction_0_0: 354.6057 - loss_prior_0: 33.3024 - val_loss: 394.5073 - val_loss_reconstruction_0_0: 361.3562 - val_loss_prior_0: 33.1512\n",
      "Epoch 16/20\n",
      "10/10 [==============================] - 0s 4ms/sample - loss: 370.1933 - loss_reconstruction_0_0: 333.0761 - loss_prior_0: 37.1171 - val_loss: 376.7335 - val_loss_reconstruction_0_0: 340.6759 - val_loss_prior_0: 36.0576\n",
      "Epoch 17/20\n",
      "10/10 [==============================] - 0s 5ms/sample - loss: 355.5561 - loss_reconstruction_0_0: 315.0819 - loss_prior_0: 40.4743 - val_loss: 363.8202 - val_loss_reconstruction_0_0: 325.4599 - val_loss_prior_0: 38.3603\n",
      "Epoch 18/20\n",
      "10/10 [==============================] - 0s 3ms/sample - loss: 342.0508 - loss_reconstruction_0_0: 298.9079 - loss_prior_0: 43.1428 - val_loss: 354.5067 - val_loss_reconstruction_0_0: 314.6336 - val_loss_prior_0: 39.8731\n",
      "Epoch 19/20\n",
      "10/10 [==============================] - 0s 4ms/sample - loss: 328.2377 - loss_reconstruction_0_0: 283.3288 - loss_prior_0: 44.9089 - val_loss: 339.9569 - val_loss_reconstruction_0_0: 299.4659 - val_loss_prior_0: 40.4910\n",
      "Epoch 20/20\n",
      "10/10 [==============================] - 0s 3ms/sample - loss: 315.9505 - loss_reconstruction_0_0: 270.3007 - loss_prior_0: 45.6499 - val_loss: 333.8729 - val_loss_reconstruction_0_0: 293.6250 - val_loss_prior_0: 40.2478\n",
      "INFO:tensorflow:Oracle triggered exit\n"
     ]
    },
    {
     "data": {
      "text/html": "<span style=\"color:#4527A0\"><h1 style=\"font-size:18px\">Trial complete</h1></span>",
      "text/plain": "<IPython.core.display.HTML object>"
     },
     "metadata": {},
     "output_type": "display_data"
    },
    {
     "data": {
      "text/html": "<span style=\"color:#4527A0\"><h1 style=\"font-size:18px\">Trial summary</h1></span>",
      "text/plain": "<IPython.core.display.HTML object>"
     },
     "metadata": {},
     "output_type": "display_data"
    },
    {
     "data": {
      "text/html": "<span style=\"color:cyan\"> |-Trial ID: 641a27ca388614691407b2200e71bd6f</span>",
      "text/plain": "<IPython.core.display.HTML object>"
     },
     "metadata": {},
     "output_type": "display_data"
    },
    {
     "data": {
      "text/html": "<span style=\"color:cyan\"> |-Score: 540.9552612304688</span>",
      "text/plain": "<IPython.core.display.HTML object>"
     },
     "metadata": {},
     "output_type": "display_data"
    },
    {
     "data": {
      "text/html": "<span style=\"color:cyan\"> |-Best step: 0</span>",
      "text/plain": "<IPython.core.display.HTML object>"
     },
     "metadata": {},
     "output_type": "display_data"
    },
    {
     "data": {
      "text/html": "<span style=\"color:#7E57C2\"><h2 style=\"font-size:16px\">Hyperparameters:</h2></span>",
      "text/plain": "<IPython.core.display.HTML object>"
     },
     "metadata": {},
     "output_type": "display_data"
    },
    {
     "data": {
      "text/html": "<span style=\"color:cyan\"> |-activation: relu</span>",
      "text/plain": "<IPython.core.display.HTML object>"
     },
     "metadata": {},
     "output_type": "display_data"
    },
    {
     "data": {
      "text/html": "<span style=\"color:blue\"> |-batch_size: 1024</span>",
      "text/plain": "<IPython.core.display.HTML object>"
     },
     "metadata": {},
     "output_type": "display_data"
    },
    {
     "data": {
      "text/html": "<span style=\"color:cyan\"> |-beta: 0.01</span>",
      "text/plain": "<IPython.core.display.HTML object>"
     },
     "metadata": {},
     "output_type": "display_data"
    },
    {
     "data": {
      "text/html": "<span style=\"color:blue\"> |-epochs: 10</span>",
      "text/plain": "<IPython.core.display.HTML object>"
     },
     "metadata": {},
     "output_type": "display_data"
    },
    {
     "data": {
      "text/html": "<span style=\"color:cyan\"> |-intermediate_dim: 64</span>",
      "text/plain": "<IPython.core.display.HTML object>"
     },
     "metadata": {},
     "output_type": "display_data"
    },
    {
     "data": {
      "text/html": "<span style=\"color:blue\"> |-lr: 1.0</span>",
      "text/plain": "<IPython.core.display.HTML object>"
     },
     "metadata": {},
     "output_type": "display_data"
    },
    {
     "data": {
      "text/html": "<span style=\"color:cyan\"> |-reconstruction_loss_metrics: MSE</span>",
      "text/plain": "<IPython.core.display.HTML object>"
     },
     "metadata": {},
     "output_type": "display_data"
    },
    {
     "data": {
      "text/html": "<span style=\"color:blue\"> |-tuner/bracket: 2</span>",
      "text/plain": "<IPython.core.display.HTML object>"
     },
     "metadata": {},
     "output_type": "display_data"
    },
    {
     "data": {
      "text/html": "<span style=\"color:cyan\"> |-tuner/epochs: 3</span>",
      "text/plain": "<IPython.core.display.HTML object>"
     },
     "metadata": {},
     "output_type": "display_data"
    },
    {
     "data": {
      "text/html": "<span style=\"color:blue\"> |-tuner/initial_epoch: 0</span>",
      "text/plain": "<IPython.core.display.HTML object>"
     },
     "metadata": {},
     "output_type": "display_data"
    },
    {
     "data": {
      "text/html": "<span style=\"color:cyan\"> |-tuner/round: 0</span>",
      "text/plain": "<IPython.core.display.HTML object>"
     },
     "metadata": {},
     "output_type": "display_data"
    },
    {
     "data": {
      "text/html": "<span style=\"color:blue\"> |-z_dim: 2</span>",
      "text/plain": "<IPython.core.display.HTML object>"
     },
     "metadata": {},
     "output_type": "display_data"
    },
    {
     "data": {
      "text/html": "<span style=\"color:#4527A0\"><h1 style=\"font-size:18px\">Trial complete</h1></span>",
      "text/plain": "<IPython.core.display.HTML object>"
     },
     "metadata": {},
     "output_type": "display_data"
    },
    {
     "data": {
      "text/html": "<span style=\"color:#4527A0\"><h1 style=\"font-size:18px\">Trial summary</h1></span>",
      "text/plain": "<IPython.core.display.HTML object>"
     },
     "metadata": {},
     "output_type": "display_data"
    },
    {
     "data": {
      "text/html": "<span style=\"color:cyan\"> |-Trial ID: e270f6d1e014675b9e8557caf8cc041e</span>",
      "text/plain": "<IPython.core.display.HTML object>"
     },
     "metadata": {},
     "output_type": "display_data"
    },
    {
     "data": {
      "text/html": "<span style=\"color:cyan\"> |-Score: 541.783935546875</span>",
      "text/plain": "<IPython.core.display.HTML object>"
     },
     "metadata": {},
     "output_type": "display_data"
    },
    {
     "data": {
      "text/html": "<span style=\"color:cyan\"> |-Best step: 0</span>",
      "text/plain": "<IPython.core.display.HTML object>"
     },
     "metadata": {},
     "output_type": "display_data"
    },
    {
     "data": {
      "text/html": "<span style=\"color:#7E57C2\"><h2 style=\"font-size:16px\">Hyperparameters:</h2></span>",
      "text/plain": "<IPython.core.display.HTML object>"
     },
     "metadata": {},
     "output_type": "display_data"
    },
    {
     "data": {
      "text/html": "<span style=\"color:cyan\"> |-activation: elu</span>",
      "text/plain": "<IPython.core.display.HTML object>"
     },
     "metadata": {},
     "output_type": "display_data"
    },
    {
     "data": {
      "text/html": "<span style=\"color:blue\"> |-batch_size: 2048</span>",
      "text/plain": "<IPython.core.display.HTML object>"
     },
     "metadata": {},
     "output_type": "display_data"
    },
    {
     "data": {
      "text/html": "<span style=\"color:cyan\"> |-beta: 0.01</span>",
      "text/plain": "<IPython.core.display.HTML object>"
     },
     "metadata": {},
     "output_type": "display_data"
    },
    {
     "data": {
      "text/html": "<span style=\"color:blue\"> |-epochs: 20</span>",
      "text/plain": "<IPython.core.display.HTML object>"
     },
     "metadata": {},
     "output_type": "display_data"
    },
    {
     "data": {
      "text/html": "<span style=\"color:cyan\"> |-intermediate_dim: 256</span>",
      "text/plain": "<IPython.core.display.HTML object>"
     },
     "metadata": {},
     "output_type": "display_data"
    },
    {
     "data": {
      "text/html": "<span style=\"color:blue\"> |-lr: 1.0</span>",
      "text/plain": "<IPython.core.display.HTML object>"
     },
     "metadata": {},
     "output_type": "display_data"
    },
    {
     "data": {
      "text/html": "<span style=\"color:cyan\"> |-reconstruction_loss_metrics: MSE</span>",
      "text/plain": "<IPython.core.display.HTML object>"
     },
     "metadata": {},
     "output_type": "display_data"
    },
    {
     "data": {
      "text/html": "<span style=\"color:blue\"> |-tuner/bracket: 2</span>",
      "text/plain": "<IPython.core.display.HTML object>"
     },
     "metadata": {},
     "output_type": "display_data"
    },
    {
     "data": {
      "text/html": "<span style=\"color:cyan\"> |-tuner/epochs: 3</span>",
      "text/plain": "<IPython.core.display.HTML object>"
     },
     "metadata": {},
     "output_type": "display_data"
    },
    {
     "data": {
      "text/html": "<span style=\"color:blue\"> |-tuner/initial_epoch: 0</span>",
      "text/plain": "<IPython.core.display.HTML object>"
     },
     "metadata": {},
     "output_type": "display_data"
    },
    {
     "data": {
      "text/html": "<span style=\"color:cyan\"> |-tuner/round: 0</span>",
      "text/plain": "<IPython.core.display.HTML object>"
     },
     "metadata": {},
     "output_type": "display_data"
    },
    {
     "data": {
      "text/html": "<span style=\"color:blue\"> |-z_dim: 2</span>",
      "text/plain": "<IPython.core.display.HTML object>"
     },
     "metadata": {},
     "output_type": "display_data"
    },
    {
     "data": {
      "text/html": "<span style=\"color:#4527A0\"><h1 style=\"font-size:18px\">Trial complete</h1></span>",
      "text/plain": "<IPython.core.display.HTML object>"
     },
     "metadata": {},
     "output_type": "display_data"
    },
    {
     "data": {
      "text/html": "<span style=\"color:#4527A0\"><h1 style=\"font-size:18px\">Trial summary</h1></span>",
      "text/plain": "<IPython.core.display.HTML object>"
     },
     "metadata": {},
     "output_type": "display_data"
    },
    {
     "data": {
      "text/html": "<span style=\"color:cyan\"> |-Trial ID: 5abfa887bdb88d479026a1126dc69d29</span>",
      "text/plain": "<IPython.core.display.HTML object>"
     },
     "metadata": {},
     "output_type": "display_data"
    },
    {
     "data": {
      "text/html": "<span style=\"color:cyan\"> |-Score: 542.9810791015625</span>",
      "text/plain": "<IPython.core.display.HTML object>"
     },
     "metadata": {},
     "output_type": "display_data"
    },
    {
     "data": {
      "text/html": "<span style=\"color:cyan\"> |-Best step: 0</span>",
      "text/plain": "<IPython.core.display.HTML object>"
     },
     "metadata": {},
     "output_type": "display_data"
    },
    {
     "data": {
      "text/html": "<span style=\"color:#7E57C2\"><h2 style=\"font-size:16px\">Hyperparameters:</h2></span>",
      "text/plain": "<IPython.core.display.HTML object>"
     },
     "metadata": {},
     "output_type": "display_data"
    },
    {
     "data": {
      "text/html": "<span style=\"color:cyan\"> |-activation: elu</span>",
      "text/plain": "<IPython.core.display.HTML object>"
     },
     "metadata": {},
     "output_type": "display_data"
    },
    {
     "data": {
      "text/html": "<span style=\"color:blue\"> |-batch_size: 1024</span>",
      "text/plain": "<IPython.core.display.HTML object>"
     },
     "metadata": {},
     "output_type": "display_data"
    },
    {
     "data": {
      "text/html": "<span style=\"color:cyan\"> |-beta: 1.0</span>",
      "text/plain": "<IPython.core.display.HTML object>"
     },
     "metadata": {},
     "output_type": "display_data"
    },
    {
     "data": {
      "text/html": "<span style=\"color:blue\"> |-epochs: 10</span>",
      "text/plain": "<IPython.core.display.HTML object>"
     },
     "metadata": {},
     "output_type": "display_data"
    },
    {
     "data": {
      "text/html": "<span style=\"color:cyan\"> |-intermediate_dim: 64</span>",
      "text/plain": "<IPython.core.display.HTML object>"
     },
     "metadata": {},
     "output_type": "display_data"
    },
    {
     "data": {
      "text/html": "<span style=\"color:blue\"> |-lr: 1.0</span>",
      "text/plain": "<IPython.core.display.HTML object>"
     },
     "metadata": {},
     "output_type": "display_data"
    },
    {
     "data": {
      "text/html": "<span style=\"color:cyan\"> |-reconstruction_loss_metrics: MSE</span>",
      "text/plain": "<IPython.core.display.HTML object>"
     },
     "metadata": {},
     "output_type": "display_data"
    },
    {
     "data": {
      "text/html": "<span style=\"color:blue\"> |-tuner/bracket: 2</span>",
      "text/plain": "<IPython.core.display.HTML object>"
     },
     "metadata": {},
     "output_type": "display_data"
    },
    {
     "data": {
      "text/html": "<span style=\"color:cyan\"> |-tuner/epochs: 3</span>",
      "text/plain": "<IPython.core.display.HTML object>"
     },
     "metadata": {},
     "output_type": "display_data"
    },
    {
     "data": {
      "text/html": "<span style=\"color:blue\"> |-tuner/initial_epoch: 0</span>",
      "text/plain": "<IPython.core.display.HTML object>"
     },
     "metadata": {},
     "output_type": "display_data"
    },
    {
     "data": {
      "text/html": "<span style=\"color:cyan\"> |-tuner/round: 0</span>",
      "text/plain": "<IPython.core.display.HTML object>"
     },
     "metadata": {},
     "output_type": "display_data"
    },
    {
     "data": {
      "text/html": "<span style=\"color:blue\"> |-z_dim: 2</span>",
      "text/plain": "<IPython.core.display.HTML object>"
     },
     "metadata": {},
     "output_type": "display_data"
    },
    {
     "data": {
      "text/html": "<span style=\"color:#4527A0\"><h1 style=\"font-size:18px\">Trial complete</h1></span>",
      "text/plain": "<IPython.core.display.HTML object>"
     },
     "metadata": {},
     "output_type": "display_data"
    },
    {
     "data": {
      "text/html": "<span style=\"color:#4527A0\"><h1 style=\"font-size:18px\">Trial summary</h1></span>",
      "text/plain": "<IPython.core.display.HTML object>"
     },
     "metadata": {},
     "output_type": "display_data"
    },
    {
     "data": {
      "text/html": "<span style=\"color:cyan\"> |-Trial ID: cdb263cff24e721dbd9b5b597e52d55d</span>",
      "text/plain": "<IPython.core.display.HTML object>"
     },
     "metadata": {},
     "output_type": "display_data"
    },
    {
     "data": {
      "text/html": "<span style=\"color:cyan\"> |-Score: 536.4140014648438</span>",
      "text/plain": "<IPython.core.display.HTML object>"
     },
     "metadata": {},
     "output_type": "display_data"
    },
    {
     "data": {
      "text/html": "<span style=\"color:cyan\"> |-Best step: 0</span>",
      "text/plain": "<IPython.core.display.HTML object>"
     },
     "metadata": {},
     "output_type": "display_data"
    },
    {
     "data": {
      "text/html": "<span style=\"color:#7E57C2\"><h2 style=\"font-size:16px\">Hyperparameters:</h2></span>",
      "text/plain": "<IPython.core.display.HTML object>"
     },
     "metadata": {},
     "output_type": "display_data"
    },
    {
     "data": {
      "text/html": "<span style=\"color:cyan\"> |-activation: elu</span>",
      "text/plain": "<IPython.core.display.HTML object>"
     },
     "metadata": {},
     "output_type": "display_data"
    },
    {
     "data": {
      "text/html": "<span style=\"color:blue\"> |-batch_size: 2048</span>",
      "text/plain": "<IPython.core.display.HTML object>"
     },
     "metadata": {},
     "output_type": "display_data"
    },
    {
     "data": {
      "text/html": "<span style=\"color:cyan\"> |-beta: 0.01</span>",
      "text/plain": "<IPython.core.display.HTML object>"
     },
     "metadata": {},
     "output_type": "display_data"
    },
    {
     "data": {
      "text/html": "<span style=\"color:blue\"> |-epochs: 20</span>",
      "text/plain": "<IPython.core.display.HTML object>"
     },
     "metadata": {},
     "output_type": "display_data"
    },
    {
     "data": {
      "text/html": "<span style=\"color:cyan\"> |-intermediate_dim: 128</span>",
      "text/plain": "<IPython.core.display.HTML object>"
     },
     "metadata": {},
     "output_type": "display_data"
    },
    {
     "data": {
      "text/html": "<span style=\"color:blue\"> |-lr: 1.0</span>",
      "text/plain": "<IPython.core.display.HTML object>"
     },
     "metadata": {},
     "output_type": "display_data"
    },
    {
     "data": {
      "text/html": "<span style=\"color:cyan\"> |-reconstruction_loss_metrics: MSE</span>",
      "text/plain": "<IPython.core.display.HTML object>"
     },
     "metadata": {},
     "output_type": "display_data"
    },
    {
     "data": {
      "text/html": "<span style=\"color:blue\"> |-tuner/bracket: 2</span>",
      "text/plain": "<IPython.core.display.HTML object>"
     },
     "metadata": {},
     "output_type": "display_data"
    },
    {
     "data": {
      "text/html": "<span style=\"color:cyan\"> |-tuner/epochs: 3</span>",
      "text/plain": "<IPython.core.display.HTML object>"
     },
     "metadata": {},
     "output_type": "display_data"
    },
    {
     "data": {
      "text/html": "<span style=\"color:blue\"> |-tuner/initial_epoch: 0</span>",
      "text/plain": "<IPython.core.display.HTML object>"
     },
     "metadata": {},
     "output_type": "display_data"
    },
    {
     "data": {
      "text/html": "<span style=\"color:cyan\"> |-tuner/round: 0</span>",
      "text/plain": "<IPython.core.display.HTML object>"
     },
     "metadata": {},
     "output_type": "display_data"
    },
    {
     "data": {
      "text/html": "<span style=\"color:blue\"> |-z_dim: 2</span>",
      "text/plain": "<IPython.core.display.HTML object>"
     },
     "metadata": {},
     "output_type": "display_data"
    },
    {
     "data": {
      "text/html": "<span style=\"color:#4527A0\"><h1 style=\"font-size:18px\">Trial complete</h1></span>",
      "text/plain": "<IPython.core.display.HTML object>"
     },
     "metadata": {},
     "output_type": "display_data"
    },
    {
     "data": {
      "text/html": "<span style=\"color:#4527A0\"><h1 style=\"font-size:18px\">Trial summary</h1></span>",
      "text/plain": "<IPython.core.display.HTML object>"
     },
     "metadata": {},
     "output_type": "display_data"
    },
    {
     "data": {
      "text/html": "<span style=\"color:cyan\"> |-Trial ID: bc042c8df92362c864a24dc9778caf1a</span>",
      "text/plain": "<IPython.core.display.HTML object>"
     },
     "metadata": {},
     "output_type": "display_data"
    },
    {
     "data": {
      "text/html": "<span style=\"color:cyan\"> |-Score: 543.3933715820312</span>",
      "text/plain": "<IPython.core.display.HTML object>"
     },
     "metadata": {},
     "output_type": "display_data"
    },
    {
     "data": {
      "text/html": "<span style=\"color:cyan\"> |-Best step: 0</span>",
      "text/plain": "<IPython.core.display.HTML object>"
     },
     "metadata": {},
     "output_type": "display_data"
    },
    {
     "data": {
      "text/html": "<span style=\"color:#7E57C2\"><h2 style=\"font-size:16px\">Hyperparameters:</h2></span>",
      "text/plain": "<IPython.core.display.HTML object>"
     },
     "metadata": {},
     "output_type": "display_data"
    },
    {
     "data": {
      "text/html": "<span style=\"color:cyan\"> |-activation: elu</span>",
      "text/plain": "<IPython.core.display.HTML object>"
     },
     "metadata": {},
     "output_type": "display_data"
    },
    {
     "data": {
      "text/html": "<span style=\"color:blue\"> |-batch_size: 2048</span>",
      "text/plain": "<IPython.core.display.HTML object>"
     },
     "metadata": {},
     "output_type": "display_data"
    },
    {
     "data": {
      "text/html": "<span style=\"color:cyan\"> |-beta: 0.01</span>",
      "text/plain": "<IPython.core.display.HTML object>"
     },
     "metadata": {},
     "output_type": "display_data"
    },
    {
     "data": {
      "text/html": "<span style=\"color:blue\"> |-epochs: 10</span>",
      "text/plain": "<IPython.core.display.HTML object>"
     },
     "metadata": {},
     "output_type": "display_data"
    },
    {
     "data": {
      "text/html": "<span style=\"color:cyan\"> |-intermediate_dim: 64</span>",
      "text/plain": "<IPython.core.display.HTML object>"
     },
     "metadata": {},
     "output_type": "display_data"
    },
    {
     "data": {
      "text/html": "<span style=\"color:blue\"> |-lr: 1.0</span>",
      "text/plain": "<IPython.core.display.HTML object>"
     },
     "metadata": {},
     "output_type": "display_data"
    },
    {
     "data": {
      "text/html": "<span style=\"color:cyan\"> |-reconstruction_loss_metrics: MSE</span>",
      "text/plain": "<IPython.core.display.HTML object>"
     },
     "metadata": {},
     "output_type": "display_data"
    },
    {
     "data": {
      "text/html": "<span style=\"color:blue\"> |-tuner/bracket: 2</span>",
      "text/plain": "<IPython.core.display.HTML object>"
     },
     "metadata": {},
     "output_type": "display_data"
    },
    {
     "data": {
      "text/html": "<span style=\"color:cyan\"> |-tuner/epochs: 3</span>",
      "text/plain": "<IPython.core.display.HTML object>"
     },
     "metadata": {},
     "output_type": "display_data"
    },
    {
     "data": {
      "text/html": "<span style=\"color:blue\"> |-tuner/initial_epoch: 0</span>",
      "text/plain": "<IPython.core.display.HTML object>"
     },
     "metadata": {},
     "output_type": "display_data"
    },
    {
     "data": {
      "text/html": "<span style=\"color:cyan\"> |-tuner/round: 0</span>",
      "text/plain": "<IPython.core.display.HTML object>"
     },
     "metadata": {},
     "output_type": "display_data"
    },
    {
     "data": {
      "text/html": "<span style=\"color:blue\"> |-z_dim: 2</span>",
      "text/plain": "<IPython.core.display.HTML object>"
     },
     "metadata": {},
     "output_type": "display_data"
    },
    {
     "data": {
      "text/html": "<span style=\"color:#4527A0\"><h1 style=\"font-size:18px\">Trial complete</h1></span>",
      "text/plain": "<IPython.core.display.HTML object>"
     },
     "metadata": {},
     "output_type": "display_data"
    },
    {
     "data": {
      "text/html": "<span style=\"color:#4527A0\"><h1 style=\"font-size:18px\">Trial summary</h1></span>",
      "text/plain": "<IPython.core.display.HTML object>"
     },
     "metadata": {},
     "output_type": "display_data"
    },
    {
     "data": {
      "text/html": "<span style=\"color:cyan\"> |-Trial ID: cd71f1d272fc335e9c229adfa625ec01</span>",
      "text/plain": "<IPython.core.display.HTML object>"
     },
     "metadata": {},
     "output_type": "display_data"
    },
    {
     "data": {
      "text/html": "<span style=\"color:cyan\"> |-Score: 543.99365234375</span>",
      "text/plain": "<IPython.core.display.HTML object>"
     },
     "metadata": {},
     "output_type": "display_data"
    },
    {
     "data": {
      "text/html": "<span style=\"color:cyan\"> |-Best step: 0</span>",
      "text/plain": "<IPython.core.display.HTML object>"
     },
     "metadata": {},
     "output_type": "display_data"
    },
    {
     "data": {
      "text/html": "<span style=\"color:#7E57C2\"><h2 style=\"font-size:16px\">Hyperparameters:</h2></span>",
      "text/plain": "<IPython.core.display.HTML object>"
     },
     "metadata": {},
     "output_type": "display_data"
    },
    {
     "data": {
      "text/html": "<span style=\"color:cyan\"> |-activation: elu</span>",
      "text/plain": "<IPython.core.display.HTML object>"
     },
     "metadata": {},
     "output_type": "display_data"
    },
    {
     "data": {
      "text/html": "<span style=\"color:blue\"> |-batch_size: 2048</span>",
      "text/plain": "<IPython.core.display.HTML object>"
     },
     "metadata": {},
     "output_type": "display_data"
    },
    {
     "data": {
      "text/html": "<span style=\"color:cyan\"> |-beta: 0.01</span>",
      "text/plain": "<IPython.core.display.HTML object>"
     },
     "metadata": {},
     "output_type": "display_data"
    },
    {
     "data": {
      "text/html": "<span style=\"color:blue\"> |-epochs: 10</span>",
      "text/plain": "<IPython.core.display.HTML object>"
     },
     "metadata": {},
     "output_type": "display_data"
    },
    {
     "data": {
      "text/html": "<span style=\"color:cyan\"> |-intermediate_dim: 128</span>",
      "text/plain": "<IPython.core.display.HTML object>"
     },
     "metadata": {},
     "output_type": "display_data"
    },
    {
     "data": {
      "text/html": "<span style=\"color:blue\"> |-lr: 1.0</span>",
      "text/plain": "<IPython.core.display.HTML object>"
     },
     "metadata": {},
     "output_type": "display_data"
    },
    {
     "data": {
      "text/html": "<span style=\"color:cyan\"> |-reconstruction_loss_metrics: MSE</span>",
      "text/plain": "<IPython.core.display.HTML object>"
     },
     "metadata": {},
     "output_type": "display_data"
    },
    {
     "data": {
      "text/html": "<span style=\"color:blue\"> |-tuner/bracket: 2</span>",
      "text/plain": "<IPython.core.display.HTML object>"
     },
     "metadata": {},
     "output_type": "display_data"
    },
    {
     "data": {
      "text/html": "<span style=\"color:cyan\"> |-tuner/epochs: 3</span>",
      "text/plain": "<IPython.core.display.HTML object>"
     },
     "metadata": {},
     "output_type": "display_data"
    },
    {
     "data": {
      "text/html": "<span style=\"color:blue\"> |-tuner/initial_epoch: 0</span>",
      "text/plain": "<IPython.core.display.HTML object>"
     },
     "metadata": {},
     "output_type": "display_data"
    },
    {
     "data": {
      "text/html": "<span style=\"color:cyan\"> |-tuner/round: 0</span>",
      "text/plain": "<IPython.core.display.HTML object>"
     },
     "metadata": {},
     "output_type": "display_data"
    },
    {
     "data": {
      "text/html": "<span style=\"color:blue\"> |-z_dim: 2</span>",
      "text/plain": "<IPython.core.display.HTML object>"
     },
     "metadata": {},
     "output_type": "display_data"
    },
    {
     "data": {
      "text/html": "<span style=\"color:#4527A0\"><h1 style=\"font-size:18px\">Trial complete</h1></span>",
      "text/plain": "<IPython.core.display.HTML object>"
     },
     "metadata": {},
     "output_type": "display_data"
    },
    {
     "data": {
      "text/html": "<span style=\"color:#4527A0\"><h1 style=\"font-size:18px\">Trial summary</h1></span>",
      "text/plain": "<IPython.core.display.HTML object>"
     },
     "metadata": {},
     "output_type": "display_data"
    },
    {
     "data": {
      "text/html": "<span style=\"color:cyan\"> |-Trial ID: 266242cbd431c5f5767dc023298c66a6</span>",
      "text/plain": "<IPython.core.display.HTML object>"
     },
     "metadata": {},
     "output_type": "display_data"
    },
    {
     "data": {
      "text/html": "<span style=\"color:cyan\"> |-Score: 541.8189697265625</span>",
      "text/plain": "<IPython.core.display.HTML object>"
     },
     "metadata": {},
     "output_type": "display_data"
    },
    {
     "data": {
      "text/html": "<span style=\"color:cyan\"> |-Best step: 0</span>",
      "text/plain": "<IPython.core.display.HTML object>"
     },
     "metadata": {},
     "output_type": "display_data"
    },
    {
     "data": {
      "text/html": "<span style=\"color:#7E57C2\"><h2 style=\"font-size:16px\">Hyperparameters:</h2></span>",
      "text/plain": "<IPython.core.display.HTML object>"
     },
     "metadata": {},
     "output_type": "display_data"
    },
    {
     "data": {
      "text/html": "<span style=\"color:cyan\"> |-activation: elu</span>",
      "text/plain": "<IPython.core.display.HTML object>"
     },
     "metadata": {},
     "output_type": "display_data"
    },
    {
     "data": {
      "text/html": "<span style=\"color:blue\"> |-batch_size: 1024</span>",
      "text/plain": "<IPython.core.display.HTML object>"
     },
     "metadata": {},
     "output_type": "display_data"
    },
    {
     "data": {
      "text/html": "<span style=\"color:cyan\"> |-beta: 0.01</span>",
      "text/plain": "<IPython.core.display.HTML object>"
     },
     "metadata": {},
     "output_type": "display_data"
    },
    {
     "data": {
      "text/html": "<span style=\"color:blue\"> |-epochs: 10</span>",
      "text/plain": "<IPython.core.display.HTML object>"
     },
     "metadata": {},
     "output_type": "display_data"
    },
    {
     "data": {
      "text/html": "<span style=\"color:cyan\"> |-intermediate_dim: 64</span>",
      "text/plain": "<IPython.core.display.HTML object>"
     },
     "metadata": {},
     "output_type": "display_data"
    },
    {
     "data": {
      "text/html": "<span style=\"color:blue\"> |-lr: 1.0</span>",
      "text/plain": "<IPython.core.display.HTML object>"
     },
     "metadata": {},
     "output_type": "display_data"
    },
    {
     "data": {
      "text/html": "<span style=\"color:cyan\"> |-reconstruction_loss_metrics: MSE</span>",
      "text/plain": "<IPython.core.display.HTML object>"
     },
     "metadata": {},
     "output_type": "display_data"
    },
    {
     "data": {
      "text/html": "<span style=\"color:blue\"> |-tuner/bracket: 2</span>",
      "text/plain": "<IPython.core.display.HTML object>"
     },
     "metadata": {},
     "output_type": "display_data"
    },
    {
     "data": {
      "text/html": "<span style=\"color:cyan\"> |-tuner/epochs: 3</span>",
      "text/plain": "<IPython.core.display.HTML object>"
     },
     "metadata": {},
     "output_type": "display_data"
    },
    {
     "data": {
      "text/html": "<span style=\"color:blue\"> |-tuner/initial_epoch: 0</span>",
      "text/plain": "<IPython.core.display.HTML object>"
     },
     "metadata": {},
     "output_type": "display_data"
    },
    {
     "data": {
      "text/html": "<span style=\"color:cyan\"> |-tuner/round: 0</span>",
      "text/plain": "<IPython.core.display.HTML object>"
     },
     "metadata": {},
     "output_type": "display_data"
    },
    {
     "data": {
      "text/html": "<span style=\"color:blue\"> |-z_dim: 2</span>",
      "text/plain": "<IPython.core.display.HTML object>"
     },
     "metadata": {},
     "output_type": "display_data"
    },
    {
     "data": {
      "text/html": "<span style=\"color:#4527A0\"><h1 style=\"font-size:18px\">Trial complete</h1></span>",
      "text/plain": "<IPython.core.display.HTML object>"
     },
     "metadata": {},
     "output_type": "display_data"
    },
    {
     "data": {
      "text/html": "<span style=\"color:#4527A0\"><h1 style=\"font-size:18px\">Trial summary</h1></span>",
      "text/plain": "<IPython.core.display.HTML object>"
     },
     "metadata": {},
     "output_type": "display_data"
    },
    {
     "data": {
      "text/html": "<span style=\"color:cyan\"> |-Trial ID: 348aae5b6adb8470bbed11659cbe10d9</span>",
      "text/plain": "<IPython.core.display.HTML object>"
     },
     "metadata": {},
     "output_type": "display_data"
    },
    {
     "data": {
      "text/html": "<span style=\"color:cyan\"> |-Score: 537.8151245117188</span>",
      "text/plain": "<IPython.core.display.HTML object>"
     },
     "metadata": {},
     "output_type": "display_data"
    },
    {
     "data": {
      "text/html": "<span style=\"color:cyan\"> |-Best step: 0</span>",
      "text/plain": "<IPython.core.display.HTML object>"
     },
     "metadata": {},
     "output_type": "display_data"
    },
    {
     "data": {
      "text/html": "<span style=\"color:#7E57C2\"><h2 style=\"font-size:16px\">Hyperparameters:</h2></span>",
      "text/plain": "<IPython.core.display.HTML object>"
     },
     "metadata": {},
     "output_type": "display_data"
    },
    {
     "data": {
      "text/html": "<span style=\"color:cyan\"> |-activation: elu</span>",
      "text/plain": "<IPython.core.display.HTML object>"
     },
     "metadata": {},
     "output_type": "display_data"
    },
    {
     "data": {
      "text/html": "<span style=\"color:blue\"> |-batch_size: 2048</span>",
      "text/plain": "<IPython.core.display.HTML object>"
     },
     "metadata": {},
     "output_type": "display_data"
    },
    {
     "data": {
      "text/html": "<span style=\"color:cyan\"> |-beta: 1.0</span>",
      "text/plain": "<IPython.core.display.HTML object>"
     },
     "metadata": {},
     "output_type": "display_data"
    },
    {
     "data": {
      "text/html": "<span style=\"color:blue\"> |-epochs: 20</span>",
      "text/plain": "<IPython.core.display.HTML object>"
     },
     "metadata": {},
     "output_type": "display_data"
    },
    {
     "data": {
      "text/html": "<span style=\"color:cyan\"> |-intermediate_dim: 256</span>",
      "text/plain": "<IPython.core.display.HTML object>"
     },
     "metadata": {},
     "output_type": "display_data"
    },
    {
     "data": {
      "text/html": "<span style=\"color:blue\"> |-lr: 1.0</span>",
      "text/plain": "<IPython.core.display.HTML object>"
     },
     "metadata": {},
     "output_type": "display_data"
    },
    {
     "data": {
      "text/html": "<span style=\"color:cyan\"> |-reconstruction_loss_metrics: MSE</span>",
      "text/plain": "<IPython.core.display.HTML object>"
     },
     "metadata": {},
     "output_type": "display_data"
    },
    {
     "data": {
      "text/html": "<span style=\"color:blue\"> |-tuner/bracket: 2</span>",
      "text/plain": "<IPython.core.display.HTML object>"
     },
     "metadata": {},
     "output_type": "display_data"
    },
    {
     "data": {
      "text/html": "<span style=\"color:cyan\"> |-tuner/epochs: 3</span>",
      "text/plain": "<IPython.core.display.HTML object>"
     },
     "metadata": {},
     "output_type": "display_data"
    },
    {
     "data": {
      "text/html": "<span style=\"color:blue\"> |-tuner/initial_epoch: 0</span>",
      "text/plain": "<IPython.core.display.HTML object>"
     },
     "metadata": {},
     "output_type": "display_data"
    },
    {
     "data": {
      "text/html": "<span style=\"color:cyan\"> |-tuner/round: 0</span>",
      "text/plain": "<IPython.core.display.HTML object>"
     },
     "metadata": {},
     "output_type": "display_data"
    },
    {
     "data": {
      "text/html": "<span style=\"color:blue\"> |-z_dim: 2</span>",
      "text/plain": "<IPython.core.display.HTML object>"
     },
     "metadata": {},
     "output_type": "display_data"
    },
    {
     "data": {
      "text/html": "<span style=\"color:#4527A0\"><h1 style=\"font-size:18px\">Trial complete</h1></span>",
      "text/plain": "<IPython.core.display.HTML object>"
     },
     "metadata": {},
     "output_type": "display_data"
    },
    {
     "data": {
      "text/html": "<span style=\"color:#4527A0\"><h1 style=\"font-size:18px\">Trial summary</h1></span>",
      "text/plain": "<IPython.core.display.HTML object>"
     },
     "metadata": {},
     "output_type": "display_data"
    },
    {
     "data": {
      "text/html": "<span style=\"color:cyan\"> |-Trial ID: d84693a7d78c764aab3de764c6eb3cb1</span>",
      "text/plain": "<IPython.core.display.HTML object>"
     },
     "metadata": {},
     "output_type": "display_data"
    },
    {
     "data": {
      "text/html": "<span style=\"color:cyan\"> |-Score: 542.8077392578125</span>",
      "text/plain": "<IPython.core.display.HTML object>"
     },
     "metadata": {},
     "output_type": "display_data"
    },
    {
     "data": {
      "text/html": "<span style=\"color:cyan\"> |-Best step: 0</span>",
      "text/plain": "<IPython.core.display.HTML object>"
     },
     "metadata": {},
     "output_type": "display_data"
    },
    {
     "data": {
      "text/html": "<span style=\"color:#7E57C2\"><h2 style=\"font-size:16px\">Hyperparameters:</h2></span>",
      "text/plain": "<IPython.core.display.HTML object>"
     },
     "metadata": {},
     "output_type": "display_data"
    },
    {
     "data": {
      "text/html": "<span style=\"color:cyan\"> |-activation: elu</span>",
      "text/plain": "<IPython.core.display.HTML object>"
     },
     "metadata": {},
     "output_type": "display_data"
    },
    {
     "data": {
      "text/html": "<span style=\"color:blue\"> |-batch_size: 2048</span>",
      "text/plain": "<IPython.core.display.HTML object>"
     },
     "metadata": {},
     "output_type": "display_data"
    },
    {
     "data": {
      "text/html": "<span style=\"color:cyan\"> |-beta: 0.01</span>",
      "text/plain": "<IPython.core.display.HTML object>"
     },
     "metadata": {},
     "output_type": "display_data"
    },
    {
     "data": {
      "text/html": "<span style=\"color:blue\"> |-epochs: 20</span>",
      "text/plain": "<IPython.core.display.HTML object>"
     },
     "metadata": {},
     "output_type": "display_data"
    },
    {
     "data": {
      "text/html": "<span style=\"color:cyan\"> |-intermediate_dim: 64</span>",
      "text/plain": "<IPython.core.display.HTML object>"
     },
     "metadata": {},
     "output_type": "display_data"
    },
    {
     "data": {
      "text/html": "<span style=\"color:blue\"> |-lr: 1.0</span>",
      "text/plain": "<IPython.core.display.HTML object>"
     },
     "metadata": {},
     "output_type": "display_data"
    },
    {
     "data": {
      "text/html": "<span style=\"color:cyan\"> |-reconstruction_loss_metrics: MSE</span>",
      "text/plain": "<IPython.core.display.HTML object>"
     },
     "metadata": {},
     "output_type": "display_data"
    },
    {
     "data": {
      "text/html": "<span style=\"color:blue\"> |-tuner/bracket: 2</span>",
      "text/plain": "<IPython.core.display.HTML object>"
     },
     "metadata": {},
     "output_type": "display_data"
    },
    {
     "data": {
      "text/html": "<span style=\"color:cyan\"> |-tuner/epochs: 3</span>",
      "text/plain": "<IPython.core.display.HTML object>"
     },
     "metadata": {},
     "output_type": "display_data"
    },
    {
     "data": {
      "text/html": "<span style=\"color:blue\"> |-tuner/initial_epoch: 0</span>",
      "text/plain": "<IPython.core.display.HTML object>"
     },
     "metadata": {},
     "output_type": "display_data"
    },
    {
     "data": {
      "text/html": "<span style=\"color:cyan\"> |-tuner/round: 0</span>",
      "text/plain": "<IPython.core.display.HTML object>"
     },
     "metadata": {},
     "output_type": "display_data"
    },
    {
     "data": {
      "text/html": "<span style=\"color:blue\"> |-z_dim: 2</span>",
      "text/plain": "<IPython.core.display.HTML object>"
     },
     "metadata": {},
     "output_type": "display_data"
    },
    {
     "data": {
      "text/html": "<span style=\"color:#4527A0\"><h1 style=\"font-size:18px\">Trial complete</h1></span>",
      "text/plain": "<IPython.core.display.HTML object>"
     },
     "metadata": {},
     "output_type": "display_data"
    },
    {
     "data": {
      "text/html": "<span style=\"color:#4527A0\"><h1 style=\"font-size:18px\">Trial summary</h1></span>",
      "text/plain": "<IPython.core.display.HTML object>"
     },
     "metadata": {},
     "output_type": "display_data"
    },
    {
     "data": {
      "text/html": "<span style=\"color:cyan\"> |-Trial ID: 17e502149df3230d237d181a47149202</span>",
      "text/plain": "<IPython.core.display.HTML object>"
     },
     "metadata": {},
     "output_type": "display_data"
    },
    {
     "data": {
      "text/html": "<span style=\"color:cyan\"> |-Score: 538.4077758789062</span>",
      "text/plain": "<IPython.core.display.HTML object>"
     },
     "metadata": {},
     "output_type": "display_data"
    },
    {
     "data": {
      "text/html": "<span style=\"color:cyan\"> |-Best step: 0</span>",
      "text/plain": "<IPython.core.display.HTML object>"
     },
     "metadata": {},
     "output_type": "display_data"
    },
    {
     "data": {
      "text/html": "<span style=\"color:#7E57C2\"><h2 style=\"font-size:16px\">Hyperparameters:</h2></span>",
      "text/plain": "<IPython.core.display.HTML object>"
     },
     "metadata": {},
     "output_type": "display_data"
    },
    {
     "data": {
      "text/html": "<span style=\"color:cyan\"> |-activation: relu</span>",
      "text/plain": "<IPython.core.display.HTML object>"
     },
     "metadata": {},
     "output_type": "display_data"
    },
    {
     "data": {
      "text/html": "<span style=\"color:blue\"> |-batch_size: 2048</span>",
      "text/plain": "<IPython.core.display.HTML object>"
     },
     "metadata": {},
     "output_type": "display_data"
    },
    {
     "data": {
      "text/html": "<span style=\"color:cyan\"> |-beta: 1.0</span>",
      "text/plain": "<IPython.core.display.HTML object>"
     },
     "metadata": {},
     "output_type": "display_data"
    },
    {
     "data": {
      "text/html": "<span style=\"color:blue\"> |-epochs: 20</span>",
      "text/plain": "<IPython.core.display.HTML object>"
     },
     "metadata": {},
     "output_type": "display_data"
    },
    {
     "data": {
      "text/html": "<span style=\"color:cyan\"> |-intermediate_dim: 128</span>",
      "text/plain": "<IPython.core.display.HTML object>"
     },
     "metadata": {},
     "output_type": "display_data"
    },
    {
     "data": {
      "text/html": "<span style=\"color:blue\"> |-lr: 1.0</span>",
      "text/plain": "<IPython.core.display.HTML object>"
     },
     "metadata": {},
     "output_type": "display_data"
    },
    {
     "data": {
      "text/html": "<span style=\"color:cyan\"> |-reconstruction_loss_metrics: MSE</span>",
      "text/plain": "<IPython.core.display.HTML object>"
     },
     "metadata": {},
     "output_type": "display_data"
    },
    {
     "data": {
      "text/html": "<span style=\"color:blue\"> |-tuner/bracket: 2</span>",
      "text/plain": "<IPython.core.display.HTML object>"
     },
     "metadata": {},
     "output_type": "display_data"
    },
    {
     "data": {
      "text/html": "<span style=\"color:cyan\"> |-tuner/epochs: 3</span>",
      "text/plain": "<IPython.core.display.HTML object>"
     },
     "metadata": {},
     "output_type": "display_data"
    },
    {
     "data": {
      "text/html": "<span style=\"color:blue\"> |-tuner/initial_epoch: 0</span>",
      "text/plain": "<IPython.core.display.HTML object>"
     },
     "metadata": {},
     "output_type": "display_data"
    },
    {
     "data": {
      "text/html": "<span style=\"color:cyan\"> |-tuner/round: 0</span>",
      "text/plain": "<IPython.core.display.HTML object>"
     },
     "metadata": {},
     "output_type": "display_data"
    },
    {
     "data": {
      "text/html": "<span style=\"color:blue\"> |-z_dim: 2</span>",
      "text/plain": "<IPython.core.display.HTML object>"
     },
     "metadata": {},
     "output_type": "display_data"
    },
    {
     "data": {
      "text/html": "<span style=\"color:#4527A0\"><h1 style=\"font-size:18px\">Trial complete</h1></span>",
      "text/plain": "<IPython.core.display.HTML object>"
     },
     "metadata": {},
     "output_type": "display_data"
    },
    {
     "data": {
      "text/html": "<span style=\"color:#4527A0\"><h1 style=\"font-size:18px\">Trial summary</h1></span>",
      "text/plain": "<IPython.core.display.HTML object>"
     },
     "metadata": {},
     "output_type": "display_data"
    },
    {
     "data": {
      "text/html": "<span style=\"color:cyan\"> |-Trial ID: 9ee366de5a22fae4a12e6b18fdfa475b</span>",
      "text/plain": "<IPython.core.display.HTML object>"
     },
     "metadata": {},
     "output_type": "display_data"
    },
    {
     "data": {
      "text/html": "<span style=\"color:cyan\"> |-Score: 539.888427734375</span>",
      "text/plain": "<IPython.core.display.HTML object>"
     },
     "metadata": {},
     "output_type": "display_data"
    },
    {
     "data": {
      "text/html": "<span style=\"color:cyan\"> |-Best step: 0</span>",
      "text/plain": "<IPython.core.display.HTML object>"
     },
     "metadata": {},
     "output_type": "display_data"
    },
    {
     "data": {
      "text/html": "<span style=\"color:#7E57C2\"><h2 style=\"font-size:16px\">Hyperparameters:</h2></span>",
      "text/plain": "<IPython.core.display.HTML object>"
     },
     "metadata": {},
     "output_type": "display_data"
    },
    {
     "data": {
      "text/html": "<span style=\"color:cyan\"> |-activation: relu</span>",
      "text/plain": "<IPython.core.display.HTML object>"
     },
     "metadata": {},
     "output_type": "display_data"
    },
    {
     "data": {
      "text/html": "<span style=\"color:blue\"> |-batch_size: 2048</span>",
      "text/plain": "<IPython.core.display.HTML object>"
     },
     "metadata": {},
     "output_type": "display_data"
    },
    {
     "data": {
      "text/html": "<span style=\"color:cyan\"> |-beta: 0.01</span>",
      "text/plain": "<IPython.core.display.HTML object>"
     },
     "metadata": {},
     "output_type": "display_data"
    },
    {
     "data": {
      "text/html": "<span style=\"color:blue\"> |-epochs: 10</span>",
      "text/plain": "<IPython.core.display.HTML object>"
     },
     "metadata": {},
     "output_type": "display_data"
    },
    {
     "data": {
      "text/html": "<span style=\"color:cyan\"> |-intermediate_dim: 64</span>",
      "text/plain": "<IPython.core.display.HTML object>"
     },
     "metadata": {},
     "output_type": "display_data"
    },
    {
     "data": {
      "text/html": "<span style=\"color:blue\"> |-lr: 1.0</span>",
      "text/plain": "<IPython.core.display.HTML object>"
     },
     "metadata": {},
     "output_type": "display_data"
    },
    {
     "data": {
      "text/html": "<span style=\"color:cyan\"> |-reconstruction_loss_metrics: MSE</span>",
      "text/plain": "<IPython.core.display.HTML object>"
     },
     "metadata": {},
     "output_type": "display_data"
    },
    {
     "data": {
      "text/html": "<span style=\"color:blue\"> |-tuner/bracket: 2</span>",
      "text/plain": "<IPython.core.display.HTML object>"
     },
     "metadata": {},
     "output_type": "display_data"
    },
    {
     "data": {
      "text/html": "<span style=\"color:cyan\"> |-tuner/epochs: 3</span>",
      "text/plain": "<IPython.core.display.HTML object>"
     },
     "metadata": {},
     "output_type": "display_data"
    },
    {
     "data": {
      "text/html": "<span style=\"color:blue\"> |-tuner/initial_epoch: 0</span>",
      "text/plain": "<IPython.core.display.HTML object>"
     },
     "metadata": {},
     "output_type": "display_data"
    },
    {
     "data": {
      "text/html": "<span style=\"color:cyan\"> |-tuner/round: 0</span>",
      "text/plain": "<IPython.core.display.HTML object>"
     },
     "metadata": {},
     "output_type": "display_data"
    },
    {
     "data": {
      "text/html": "<span style=\"color:blue\"> |-z_dim: 2</span>",
      "text/plain": "<IPython.core.display.HTML object>"
     },
     "metadata": {},
     "output_type": "display_data"
    },
    {
     "data": {
      "text/html": "<span style=\"color:#4527A0\"><h1 style=\"font-size:18px\">Trial complete</h1></span>",
      "text/plain": "<IPython.core.display.HTML object>"
     },
     "metadata": {},
     "output_type": "display_data"
    },
    {
     "data": {
      "text/html": "<span style=\"color:#4527A0\"><h1 style=\"font-size:18px\">Trial summary</h1></span>",
      "text/plain": "<IPython.core.display.HTML object>"
     },
     "metadata": {},
     "output_type": "display_data"
    },
    {
     "data": {
      "text/html": "<span style=\"color:cyan\"> |-Trial ID: bad700e0c5557858854809f2c19b71ce</span>",
      "text/plain": "<IPython.core.display.HTML object>"
     },
     "metadata": {},
     "output_type": "display_data"
    },
    {
     "data": {
      "text/html": "<span style=\"color:cyan\"> |-Score: 539.3176879882812</span>",
      "text/plain": "<IPython.core.display.HTML object>"
     },
     "metadata": {},
     "output_type": "display_data"
    },
    {
     "data": {
      "text/html": "<span style=\"color:cyan\"> |-Best step: 0</span>",
      "text/plain": "<IPython.core.display.HTML object>"
     },
     "metadata": {},
     "output_type": "display_data"
    },
    {
     "data": {
      "text/html": "<span style=\"color:#7E57C2\"><h2 style=\"font-size:16px\">Hyperparameters:</h2></span>",
      "text/plain": "<IPython.core.display.HTML object>"
     },
     "metadata": {},
     "output_type": "display_data"
    },
    {
     "data": {
      "text/html": "<span style=\"color:cyan\"> |-activation: elu</span>",
      "text/plain": "<IPython.core.display.HTML object>"
     },
     "metadata": {},
     "output_type": "display_data"
    },
    {
     "data": {
      "text/html": "<span style=\"color:blue\"> |-batch_size: 2048</span>",
      "text/plain": "<IPython.core.display.HTML object>"
     },
     "metadata": {},
     "output_type": "display_data"
    },
    {
     "data": {
      "text/html": "<span style=\"color:cyan\"> |-beta: 1.0</span>",
      "text/plain": "<IPython.core.display.HTML object>"
     },
     "metadata": {},
     "output_type": "display_data"
    },
    {
     "data": {
      "text/html": "<span style=\"color:blue\"> |-epochs: 10</span>",
      "text/plain": "<IPython.core.display.HTML object>"
     },
     "metadata": {},
     "output_type": "display_data"
    },
    {
     "data": {
      "text/html": "<span style=\"color:cyan\"> |-intermediate_dim: 256</span>",
      "text/plain": "<IPython.core.display.HTML object>"
     },
     "metadata": {},
     "output_type": "display_data"
    },
    {
     "data": {
      "text/html": "<span style=\"color:blue\"> |-lr: 1.0</span>",
      "text/plain": "<IPython.core.display.HTML object>"
     },
     "metadata": {},
     "output_type": "display_data"
    },
    {
     "data": {
      "text/html": "<span style=\"color:cyan\"> |-reconstruction_loss_metrics: MSE</span>",
      "text/plain": "<IPython.core.display.HTML object>"
     },
     "metadata": {},
     "output_type": "display_data"
    },
    {
     "data": {
      "text/html": "<span style=\"color:blue\"> |-tuner/bracket: 2</span>",
      "text/plain": "<IPython.core.display.HTML object>"
     },
     "metadata": {},
     "output_type": "display_data"
    },
    {
     "data": {
      "text/html": "<span style=\"color:cyan\"> |-tuner/epochs: 3</span>",
      "text/plain": "<IPython.core.display.HTML object>"
     },
     "metadata": {},
     "output_type": "display_data"
    },
    {
     "data": {
      "text/html": "<span style=\"color:blue\"> |-tuner/initial_epoch: 0</span>",
      "text/plain": "<IPython.core.display.HTML object>"
     },
     "metadata": {},
     "output_type": "display_data"
    },
    {
     "data": {
      "text/html": "<span style=\"color:cyan\"> |-tuner/round: 0</span>",
      "text/plain": "<IPython.core.display.HTML object>"
     },
     "metadata": {},
     "output_type": "display_data"
    },
    {
     "data": {
      "text/html": "<span style=\"color:blue\"> |-z_dim: 2</span>",
      "text/plain": "<IPython.core.display.HTML object>"
     },
     "metadata": {},
     "output_type": "display_data"
    },
    {
     "data": {
      "text/html": "<span style=\"color:#4527A0\"><h1 style=\"font-size:18px\">Trial complete</h1></span>",
      "text/plain": "<IPython.core.display.HTML object>"
     },
     "metadata": {},
     "output_type": "display_data"
    },
    {
     "data": {
      "text/html": "<span style=\"color:#4527A0\"><h1 style=\"font-size:18px\">Trial summary</h1></span>",
      "text/plain": "<IPython.core.display.HTML object>"
     },
     "metadata": {},
     "output_type": "display_data"
    },
    {
     "data": {
      "text/html": "<span style=\"color:cyan\"> |-Trial ID: fa7e5acbdc283b18242310f1e7051f42</span>",
      "text/plain": "<IPython.core.display.HTML object>"
     },
     "metadata": {},
     "output_type": "display_data"
    },
    {
     "data": {
      "text/html": "<span style=\"color:cyan\"> |-Score: 530.6142578125</span>",
      "text/plain": "<IPython.core.display.HTML object>"
     },
     "metadata": {},
     "output_type": "display_data"
    },
    {
     "data": {
      "text/html": "<span style=\"color:cyan\"> |-Best step: 0</span>",
      "text/plain": "<IPython.core.display.HTML object>"
     },
     "metadata": {},
     "output_type": "display_data"
    },
    {
     "data": {
      "text/html": "<span style=\"color:#7E57C2\"><h2 style=\"font-size:16px\">Hyperparameters:</h2></span>",
      "text/plain": "<IPython.core.display.HTML object>"
     },
     "metadata": {},
     "output_type": "display_data"
    },
    {
     "data": {
      "text/html": "<span style=\"color:cyan\"> |-activation: elu</span>",
      "text/plain": "<IPython.core.display.HTML object>"
     },
     "metadata": {},
     "output_type": "display_data"
    },
    {
     "data": {
      "text/html": "<span style=\"color:blue\"> |-batch_size: 2048</span>",
      "text/plain": "<IPython.core.display.HTML object>"
     },
     "metadata": {},
     "output_type": "display_data"
    },
    {
     "data": {
      "text/html": "<span style=\"color:cyan\"> |-beta: 0.01</span>",
      "text/plain": "<IPython.core.display.HTML object>"
     },
     "metadata": {},
     "output_type": "display_data"
    },
    {
     "data": {
      "text/html": "<span style=\"color:blue\"> |-epochs: 20</span>",
      "text/plain": "<IPython.core.display.HTML object>"
     },
     "metadata": {},
     "output_type": "display_data"
    },
    {
     "data": {
      "text/html": "<span style=\"color:cyan\"> |-intermediate_dim: 128</span>",
      "text/plain": "<IPython.core.display.HTML object>"
     },
     "metadata": {},
     "output_type": "display_data"
    },
    {
     "data": {
      "text/html": "<span style=\"color:blue\"> |-lr: 1.0</span>",
      "text/plain": "<IPython.core.display.HTML object>"
     },
     "metadata": {},
     "output_type": "display_data"
    },
    {
     "data": {
      "text/html": "<span style=\"color:cyan\"> |-reconstruction_loss_metrics: MSE</span>",
      "text/plain": "<IPython.core.display.HTML object>"
     },
     "metadata": {},
     "output_type": "display_data"
    },
    {
     "data": {
      "text/html": "<span style=\"color:blue\"> |-tuner/bracket: 2</span>",
      "text/plain": "<IPython.core.display.HTML object>"
     },
     "metadata": {},
     "output_type": "display_data"
    },
    {
     "data": {
      "text/html": "<span style=\"color:cyan\"> |-tuner/epochs: 7</span>",
      "text/plain": "<IPython.core.display.HTML object>"
     },
     "metadata": {},
     "output_type": "display_data"
    },
    {
     "data": {
      "text/html": "<span style=\"color:blue\"> |-tuner/initial_epoch: 3</span>",
      "text/plain": "<IPython.core.display.HTML object>"
     },
     "metadata": {},
     "output_type": "display_data"
    },
    {
     "data": {
      "text/html": "<span style=\"color:cyan\"> |-tuner/round: 1</span>",
      "text/plain": "<IPython.core.display.HTML object>"
     },
     "metadata": {},
     "output_type": "display_data"
    },
    {
     "data": {
      "text/html": "<span style=\"color:blue\"> |-tuner/trial_id: cdb263cff24e721dbd9b5b597e52d55d</span>",
      "text/plain": "<IPython.core.display.HTML object>"
     },
     "metadata": {},
     "output_type": "display_data"
    },
    {
     "data": {
      "text/html": "<span style=\"color:cyan\"> |-z_dim: 2</span>",
      "text/plain": "<IPython.core.display.HTML object>"
     },
     "metadata": {},
     "output_type": "display_data"
    },
    {
     "data": {
      "text/html": "<span style=\"color:#4527A0\"><h1 style=\"font-size:18px\">Trial complete</h1></span>",
      "text/plain": "<IPython.core.display.HTML object>"
     },
     "metadata": {},
     "output_type": "display_data"
    },
    {
     "data": {
      "text/html": "<span style=\"color:#4527A0\"><h1 style=\"font-size:18px\">Trial summary</h1></span>",
      "text/plain": "<IPython.core.display.HTML object>"
     },
     "metadata": {},
     "output_type": "display_data"
    },
    {
     "data": {
      "text/html": "<span style=\"color:cyan\"> |-Trial ID: 943a3372dd95ec26ea7ab4d6088721f4</span>",
      "text/plain": "<IPython.core.display.HTML object>"
     },
     "metadata": {},
     "output_type": "display_data"
    },
    {
     "data": {
      "text/html": "<span style=\"color:cyan\"> |-Score: 515.8489990234375</span>",
      "text/plain": "<IPython.core.display.HTML object>"
     },
     "metadata": {},
     "output_type": "display_data"
    },
    {
     "data": {
      "text/html": "<span style=\"color:cyan\"> |-Best step: 0</span>",
      "text/plain": "<IPython.core.display.HTML object>"
     },
     "metadata": {},
     "output_type": "display_data"
    },
    {
     "data": {
      "text/html": "<span style=\"color:#7E57C2\"><h2 style=\"font-size:16px\">Hyperparameters:</h2></span>",
      "text/plain": "<IPython.core.display.HTML object>"
     },
     "metadata": {},
     "output_type": "display_data"
    },
    {
     "data": {
      "text/html": "<span style=\"color:cyan\"> |-activation: elu</span>",
      "text/plain": "<IPython.core.display.HTML object>"
     },
     "metadata": {},
     "output_type": "display_data"
    },
    {
     "data": {
      "text/html": "<span style=\"color:blue\"> |-batch_size: 2048</span>",
      "text/plain": "<IPython.core.display.HTML object>"
     },
     "metadata": {},
     "output_type": "display_data"
    },
    {
     "data": {
      "text/html": "<span style=\"color:cyan\"> |-beta: 1.0</span>",
      "text/plain": "<IPython.core.display.HTML object>"
     },
     "metadata": {},
     "output_type": "display_data"
    },
    {
     "data": {
      "text/html": "<span style=\"color:blue\"> |-epochs: 20</span>",
      "text/plain": "<IPython.core.display.HTML object>"
     },
     "metadata": {},
     "output_type": "display_data"
    },
    {
     "data": {
      "text/html": "<span style=\"color:cyan\"> |-intermediate_dim: 256</span>",
      "text/plain": "<IPython.core.display.HTML object>"
     },
     "metadata": {},
     "output_type": "display_data"
    },
    {
     "data": {
      "text/html": "<span style=\"color:blue\"> |-lr: 1.0</span>",
      "text/plain": "<IPython.core.display.HTML object>"
     },
     "metadata": {},
     "output_type": "display_data"
    },
    {
     "data": {
      "text/html": "<span style=\"color:cyan\"> |-reconstruction_loss_metrics: MSE</span>",
      "text/plain": "<IPython.core.display.HTML object>"
     },
     "metadata": {},
     "output_type": "display_data"
    },
    {
     "data": {
      "text/html": "<span style=\"color:blue\"> |-tuner/bracket: 2</span>",
      "text/plain": "<IPython.core.display.HTML object>"
     },
     "metadata": {},
     "output_type": "display_data"
    },
    {
     "data": {
      "text/html": "<span style=\"color:cyan\"> |-tuner/epochs: 7</span>",
      "text/plain": "<IPython.core.display.HTML object>"
     },
     "metadata": {},
     "output_type": "display_data"
    },
    {
     "data": {
      "text/html": "<span style=\"color:blue\"> |-tuner/initial_epoch: 3</span>",
      "text/plain": "<IPython.core.display.HTML object>"
     },
     "metadata": {},
     "output_type": "display_data"
    },
    {
     "data": {
      "text/html": "<span style=\"color:cyan\"> |-tuner/round: 1</span>",
      "text/plain": "<IPython.core.display.HTML object>"
     },
     "metadata": {},
     "output_type": "display_data"
    },
    {
     "data": {
      "text/html": "<span style=\"color:blue\"> |-tuner/trial_id: 348aae5b6adb8470bbed11659cbe10d9</span>",
      "text/plain": "<IPython.core.display.HTML object>"
     },
     "metadata": {},
     "output_type": "display_data"
    },
    {
     "data": {
      "text/html": "<span style=\"color:cyan\"> |-z_dim: 2</span>",
      "text/plain": "<IPython.core.display.HTML object>"
     },
     "metadata": {},
     "output_type": "display_data"
    },
    {
     "data": {
      "text/html": "<span style=\"color:#4527A0\"><h1 style=\"font-size:18px\">Trial complete</h1></span>",
      "text/plain": "<IPython.core.display.HTML object>"
     },
     "metadata": {},
     "output_type": "display_data"
    },
    {
     "data": {
      "text/html": "<span style=\"color:#4527A0\"><h1 style=\"font-size:18px\">Trial summary</h1></span>",
      "text/plain": "<IPython.core.display.HTML object>"
     },
     "metadata": {},
     "output_type": "display_data"
    },
    {
     "data": {
      "text/html": "<span style=\"color:cyan\"> |-Trial ID: 1b6c410a7d23c81bbe6d559c52e8419c</span>",
      "text/plain": "<IPython.core.display.HTML object>"
     },
     "metadata": {},
     "output_type": "display_data"
    },
    {
     "data": {
      "text/html": "<span style=\"color:cyan\"> |-Score: 537.75439453125</span>",
      "text/plain": "<IPython.core.display.HTML object>"
     },
     "metadata": {},
     "output_type": "display_data"
    },
    {
     "data": {
      "text/html": "<span style=\"color:cyan\"> |-Best step: 0</span>",
      "text/plain": "<IPython.core.display.HTML object>"
     },
     "metadata": {},
     "output_type": "display_data"
    },
    {
     "data": {
      "text/html": "<span style=\"color:#7E57C2\"><h2 style=\"font-size:16px\">Hyperparameters:</h2></span>",
      "text/plain": "<IPython.core.display.HTML object>"
     },
     "metadata": {},
     "output_type": "display_data"
    },
    {
     "data": {
      "text/html": "<span style=\"color:cyan\"> |-activation: relu</span>",
      "text/plain": "<IPython.core.display.HTML object>"
     },
     "metadata": {},
     "output_type": "display_data"
    },
    {
     "data": {
      "text/html": "<span style=\"color:blue\"> |-batch_size: 2048</span>",
      "text/plain": "<IPython.core.display.HTML object>"
     },
     "metadata": {},
     "output_type": "display_data"
    },
    {
     "data": {
      "text/html": "<span style=\"color:cyan\"> |-beta: 1.0</span>",
      "text/plain": "<IPython.core.display.HTML object>"
     },
     "metadata": {},
     "output_type": "display_data"
    },
    {
     "data": {
      "text/html": "<span style=\"color:blue\"> |-epochs: 20</span>",
      "text/plain": "<IPython.core.display.HTML object>"
     },
     "metadata": {},
     "output_type": "display_data"
    },
    {
     "data": {
      "text/html": "<span style=\"color:cyan\"> |-intermediate_dim: 128</span>",
      "text/plain": "<IPython.core.display.HTML object>"
     },
     "metadata": {},
     "output_type": "display_data"
    },
    {
     "data": {
      "text/html": "<span style=\"color:blue\"> |-lr: 1.0</span>",
      "text/plain": "<IPython.core.display.HTML object>"
     },
     "metadata": {},
     "output_type": "display_data"
    },
    {
     "data": {
      "text/html": "<span style=\"color:cyan\"> |-reconstruction_loss_metrics: MSE</span>",
      "text/plain": "<IPython.core.display.HTML object>"
     },
     "metadata": {},
     "output_type": "display_data"
    },
    {
     "data": {
      "text/html": "<span style=\"color:blue\"> |-tuner/bracket: 2</span>",
      "text/plain": "<IPython.core.display.HTML object>"
     },
     "metadata": {},
     "output_type": "display_data"
    },
    {
     "data": {
      "text/html": "<span style=\"color:cyan\"> |-tuner/epochs: 7</span>",
      "text/plain": "<IPython.core.display.HTML object>"
     },
     "metadata": {},
     "output_type": "display_data"
    },
    {
     "data": {
      "text/html": "<span style=\"color:blue\"> |-tuner/initial_epoch: 3</span>",
      "text/plain": "<IPython.core.display.HTML object>"
     },
     "metadata": {},
     "output_type": "display_data"
    },
    {
     "data": {
      "text/html": "<span style=\"color:cyan\"> |-tuner/round: 1</span>",
      "text/plain": "<IPython.core.display.HTML object>"
     },
     "metadata": {},
     "output_type": "display_data"
    },
    {
     "data": {
      "text/html": "<span style=\"color:blue\"> |-tuner/trial_id: 17e502149df3230d237d181a47149202</span>",
      "text/plain": "<IPython.core.display.HTML object>"
     },
     "metadata": {},
     "output_type": "display_data"
    },
    {
     "data": {
      "text/html": "<span style=\"color:cyan\"> |-z_dim: 2</span>",
      "text/plain": "<IPython.core.display.HTML object>"
     },
     "metadata": {},
     "output_type": "display_data"
    },
    {
     "data": {
      "text/html": "<span style=\"color:#4527A0\"><h1 style=\"font-size:18px\">Trial complete</h1></span>",
      "text/plain": "<IPython.core.display.HTML object>"
     },
     "metadata": {},
     "output_type": "display_data"
    },
    {
     "data": {
      "text/html": "<span style=\"color:#4527A0\"><h1 style=\"font-size:18px\">Trial summary</h1></span>",
      "text/plain": "<IPython.core.display.HTML object>"
     },
     "metadata": {},
     "output_type": "display_data"
    },
    {
     "data": {
      "text/html": "<span style=\"color:cyan\"> |-Trial ID: 22b807a6bba000242866c8e51402f7d8</span>",
      "text/plain": "<IPython.core.display.HTML object>"
     },
     "metadata": {},
     "output_type": "display_data"
    },
    {
     "data": {
      "text/html": "<span style=\"color:cyan\"> |-Score: 498.0447692871094</span>",
      "text/plain": "<IPython.core.display.HTML object>"
     },
     "metadata": {},
     "output_type": "display_data"
    },
    {
     "data": {
      "text/html": "<span style=\"color:cyan\"> |-Best step: 0</span>",
      "text/plain": "<IPython.core.display.HTML object>"
     },
     "metadata": {},
     "output_type": "display_data"
    },
    {
     "data": {
      "text/html": "<span style=\"color:#7E57C2\"><h2 style=\"font-size:16px\">Hyperparameters:</h2></span>",
      "text/plain": "<IPython.core.display.HTML object>"
     },
     "metadata": {},
     "output_type": "display_data"
    },
    {
     "data": {
      "text/html": "<span style=\"color:cyan\"> |-activation: elu</span>",
      "text/plain": "<IPython.core.display.HTML object>"
     },
     "metadata": {},
     "output_type": "display_data"
    },
    {
     "data": {
      "text/html": "<span style=\"color:blue\"> |-batch_size: 2048</span>",
      "text/plain": "<IPython.core.display.HTML object>"
     },
     "metadata": {},
     "output_type": "display_data"
    },
    {
     "data": {
      "text/html": "<span style=\"color:cyan\"> |-beta: 1.0</span>",
      "text/plain": "<IPython.core.display.HTML object>"
     },
     "metadata": {},
     "output_type": "display_data"
    },
    {
     "data": {
      "text/html": "<span style=\"color:blue\"> |-epochs: 10</span>",
      "text/plain": "<IPython.core.display.HTML object>"
     },
     "metadata": {},
     "output_type": "display_data"
    },
    {
     "data": {
      "text/html": "<span style=\"color:cyan\"> |-intermediate_dim: 256</span>",
      "text/plain": "<IPython.core.display.HTML object>"
     },
     "metadata": {},
     "output_type": "display_data"
    },
    {
     "data": {
      "text/html": "<span style=\"color:blue\"> |-lr: 1.0</span>",
      "text/plain": "<IPython.core.display.HTML object>"
     },
     "metadata": {},
     "output_type": "display_data"
    },
    {
     "data": {
      "text/html": "<span style=\"color:cyan\"> |-reconstruction_loss_metrics: MSE</span>",
      "text/plain": "<IPython.core.display.HTML object>"
     },
     "metadata": {},
     "output_type": "display_data"
    },
    {
     "data": {
      "text/html": "<span style=\"color:blue\"> |-tuner/bracket: 2</span>",
      "text/plain": "<IPython.core.display.HTML object>"
     },
     "metadata": {},
     "output_type": "display_data"
    },
    {
     "data": {
      "text/html": "<span style=\"color:cyan\"> |-tuner/epochs: 7</span>",
      "text/plain": "<IPython.core.display.HTML object>"
     },
     "metadata": {},
     "output_type": "display_data"
    },
    {
     "data": {
      "text/html": "<span style=\"color:blue\"> |-tuner/initial_epoch: 3</span>",
      "text/plain": "<IPython.core.display.HTML object>"
     },
     "metadata": {},
     "output_type": "display_data"
    },
    {
     "data": {
      "text/html": "<span style=\"color:cyan\"> |-tuner/round: 1</span>",
      "text/plain": "<IPython.core.display.HTML object>"
     },
     "metadata": {},
     "output_type": "display_data"
    },
    {
     "data": {
      "text/html": "<span style=\"color:blue\"> |-tuner/trial_id: bad700e0c5557858854809f2c19b71ce</span>",
      "text/plain": "<IPython.core.display.HTML object>"
     },
     "metadata": {},
     "output_type": "display_data"
    },
    {
     "data": {
      "text/html": "<span style=\"color:cyan\"> |-z_dim: 2</span>",
      "text/plain": "<IPython.core.display.HTML object>"
     },
     "metadata": {},
     "output_type": "display_data"
    },
    {
     "data": {
      "text/html": "<span style=\"color:#4527A0\"><h1 style=\"font-size:18px\">Trial complete</h1></span>",
      "text/plain": "<IPython.core.display.HTML object>"
     },
     "metadata": {},
     "output_type": "display_data"
    },
    {
     "data": {
      "text/html": "<span style=\"color:#4527A0\"><h1 style=\"font-size:18px\">Trial summary</h1></span>",
      "text/plain": "<IPython.core.display.HTML object>"
     },
     "metadata": {},
     "output_type": "display_data"
    },
    {
     "data": {
      "text/html": "<span style=\"color:cyan\"> |-Trial ID: e74818686063af22ae97b1dadf5d3eaa</span>",
      "text/plain": "<IPython.core.display.HTML object>"
     },
     "metadata": {},
     "output_type": "display_data"
    },
    {
     "data": {
      "text/html": "<span style=\"color:cyan\"> |-Score: 268.6959533691406</span>",
      "text/plain": "<IPython.core.display.HTML object>"
     },
     "metadata": {},
     "output_type": "display_data"
    },
    {
     "data": {
      "text/html": "<span style=\"color:cyan\"> |-Best step: 0</span>",
      "text/plain": "<IPython.core.display.HTML object>"
     },
     "metadata": {},
     "output_type": "display_data"
    },
    {
     "data": {
      "text/html": "<span style=\"color:#7E57C2\"><h2 style=\"font-size:16px\">Hyperparameters:</h2></span>",
      "text/plain": "<IPython.core.display.HTML object>"
     },
     "metadata": {},
     "output_type": "display_data"
    },
    {
     "data": {
      "text/html": "<span style=\"color:cyan\"> |-activation: elu</span>",
      "text/plain": "<IPython.core.display.HTML object>"
     },
     "metadata": {},
     "output_type": "display_data"
    },
    {
     "data": {
      "text/html": "<span style=\"color:blue\"> |-batch_size: 2048</span>",
      "text/plain": "<IPython.core.display.HTML object>"
     },
     "metadata": {},
     "output_type": "display_data"
    },
    {
     "data": {
      "text/html": "<span style=\"color:cyan\"> |-beta: 1.0</span>",
      "text/plain": "<IPython.core.display.HTML object>"
     },
     "metadata": {},
     "output_type": "display_data"
    },
    {
     "data": {
      "text/html": "<span style=\"color:blue\"> |-epochs: 10</span>",
      "text/plain": "<IPython.core.display.HTML object>"
     },
     "metadata": {},
     "output_type": "display_data"
    },
    {
     "data": {
      "text/html": "<span style=\"color:cyan\"> |-intermediate_dim: 256</span>",
      "text/plain": "<IPython.core.display.HTML object>"
     },
     "metadata": {},
     "output_type": "display_data"
    },
    {
     "data": {
      "text/html": "<span style=\"color:blue\"> |-lr: 1.0</span>",
      "text/plain": "<IPython.core.display.HTML object>"
     },
     "metadata": {},
     "output_type": "display_data"
    },
    {
     "data": {
      "text/html": "<span style=\"color:cyan\"> |-reconstruction_loss_metrics: MSE</span>",
      "text/plain": "<IPython.core.display.HTML object>"
     },
     "metadata": {},
     "output_type": "display_data"
    },
    {
     "data": {
      "text/html": "<span style=\"color:blue\"> |-tuner/bracket: 2</span>",
      "text/plain": "<IPython.core.display.HTML object>"
     },
     "metadata": {},
     "output_type": "display_data"
    },
    {
     "data": {
      "text/html": "<span style=\"color:cyan\"> |-tuner/epochs: 20</span>",
      "text/plain": "<IPython.core.display.HTML object>"
     },
     "metadata": {},
     "output_type": "display_data"
    },
    {
     "data": {
      "text/html": "<span style=\"color:blue\"> |-tuner/initial_epoch: 7</span>",
      "text/plain": "<IPython.core.display.HTML object>"
     },
     "metadata": {},
     "output_type": "display_data"
    },
    {
     "data": {
      "text/html": "<span style=\"color:cyan\"> |-tuner/round: 2</span>",
      "text/plain": "<IPython.core.display.HTML object>"
     },
     "metadata": {},
     "output_type": "display_data"
    },
    {
     "data": {
      "text/html": "<span style=\"color:blue\"> |-tuner/trial_id: 22b807a6bba000242866c8e51402f7d8</span>",
      "text/plain": "<IPython.core.display.HTML object>"
     },
     "metadata": {},
     "output_type": "display_data"
    },
    {
     "data": {
      "text/html": "<span style=\"color:cyan\"> |-z_dim: 2</span>",
      "text/plain": "<IPython.core.display.HTML object>"
     },
     "metadata": {},
     "output_type": "display_data"
    },
    {
     "data": {
      "text/html": "<span style=\"color:#4527A0\"><h1 style=\"font-size:18px\">Trial complete</h1></span>",
      "text/plain": "<IPython.core.display.HTML object>"
     },
     "metadata": {},
     "output_type": "display_data"
    },
    {
     "data": {
      "text/html": "<span style=\"color:#4527A0\"><h1 style=\"font-size:18px\">Trial summary</h1></span>",
      "text/plain": "<IPython.core.display.HTML object>"
     },
     "metadata": {},
     "output_type": "display_data"
    },
    {
     "data": {
      "text/html": "<span style=\"color:cyan\"> |-Trial ID: 53c1bedd419c62ff78c0054de020aed5</span>",
      "text/plain": "<IPython.core.display.HTML object>"
     },
     "metadata": {},
     "output_type": "display_data"
    },
    {
     "data": {
      "text/html": "<span style=\"color:cyan\"> |-Score: 243.21583557128906</span>",
      "text/plain": "<IPython.core.display.HTML object>"
     },
     "metadata": {},
     "output_type": "display_data"
    },
    {
     "data": {
      "text/html": "<span style=\"color:cyan\"> |-Best step: 0</span>",
      "text/plain": "<IPython.core.display.HTML object>"
     },
     "metadata": {},
     "output_type": "display_data"
    },
    {
     "data": {
      "text/html": "<span style=\"color:#7E57C2\"><h2 style=\"font-size:16px\">Hyperparameters:</h2></span>",
      "text/plain": "<IPython.core.display.HTML object>"
     },
     "metadata": {},
     "output_type": "display_data"
    },
    {
     "data": {
      "text/html": "<span style=\"color:cyan\"> |-activation: elu</span>",
      "text/plain": "<IPython.core.display.HTML object>"
     },
     "metadata": {},
     "output_type": "display_data"
    },
    {
     "data": {
      "text/html": "<span style=\"color:blue\"> |-batch_size: 2048</span>",
      "text/plain": "<IPython.core.display.HTML object>"
     },
     "metadata": {},
     "output_type": "display_data"
    },
    {
     "data": {
      "text/html": "<span style=\"color:cyan\"> |-beta: 1.0</span>",
      "text/plain": "<IPython.core.display.HTML object>"
     },
     "metadata": {},
     "output_type": "display_data"
    },
    {
     "data": {
      "text/html": "<span style=\"color:blue\"> |-epochs: 20</span>",
      "text/plain": "<IPython.core.display.HTML object>"
     },
     "metadata": {},
     "output_type": "display_data"
    },
    {
     "data": {
      "text/html": "<span style=\"color:cyan\"> |-intermediate_dim: 256</span>",
      "text/plain": "<IPython.core.display.HTML object>"
     },
     "metadata": {},
     "output_type": "display_data"
    },
    {
     "data": {
      "text/html": "<span style=\"color:blue\"> |-lr: 1.0</span>",
      "text/plain": "<IPython.core.display.HTML object>"
     },
     "metadata": {},
     "output_type": "display_data"
    },
    {
     "data": {
      "text/html": "<span style=\"color:cyan\"> |-reconstruction_loss_metrics: MSE</span>",
      "text/plain": "<IPython.core.display.HTML object>"
     },
     "metadata": {},
     "output_type": "display_data"
    },
    {
     "data": {
      "text/html": "<span style=\"color:blue\"> |-tuner/bracket: 2</span>",
      "text/plain": "<IPython.core.display.HTML object>"
     },
     "metadata": {},
     "output_type": "display_data"
    },
    {
     "data": {
      "text/html": "<span style=\"color:cyan\"> |-tuner/epochs: 20</span>",
      "text/plain": "<IPython.core.display.HTML object>"
     },
     "metadata": {},
     "output_type": "display_data"
    },
    {
     "data": {
      "text/html": "<span style=\"color:blue\"> |-tuner/initial_epoch: 7</span>",
      "text/plain": "<IPython.core.display.HTML object>"
     },
     "metadata": {},
     "output_type": "display_data"
    },
    {
     "data": {
      "text/html": "<span style=\"color:cyan\"> |-tuner/round: 2</span>",
      "text/plain": "<IPython.core.display.HTML object>"
     },
     "metadata": {},
     "output_type": "display_data"
    },
    {
     "data": {
      "text/html": "<span style=\"color:blue\"> |-tuner/trial_id: 943a3372dd95ec26ea7ab4d6088721f4</span>",
      "text/plain": "<IPython.core.display.HTML object>"
     },
     "metadata": {},
     "output_type": "display_data"
    },
    {
     "data": {
      "text/html": "<span style=\"color:cyan\"> |-z_dim: 2</span>",
      "text/plain": "<IPython.core.display.HTML object>"
     },
     "metadata": {},
     "output_type": "display_data"
    },
    {
     "data": {
      "text/html": "<span style=\"color:#4527A0\"><h1 style=\"font-size:18px\">Trial complete</h1></span>",
      "text/plain": "<IPython.core.display.HTML object>"
     },
     "metadata": {},
     "output_type": "display_data"
    },
    {
     "data": {
      "text/html": "<span style=\"color:#4527A0\"><h1 style=\"font-size:18px\">Trial summary</h1></span>",
      "text/plain": "<IPython.core.display.HTML object>"
     },
     "metadata": {},
     "output_type": "display_data"
    },
    {
     "data": {
      "text/html": "<span style=\"color:cyan\"> |-Trial ID: d55f68386ef49aaa3289b00e684710d2</span>",
      "text/plain": "<IPython.core.display.HTML object>"
     },
     "metadata": {},
     "output_type": "display_data"
    },
    {
     "data": {
      "text/html": "<span style=\"color:cyan\"> |-Score: 416.26617431640625</span>",
      "text/plain": "<IPython.core.display.HTML object>"
     },
     "metadata": {},
     "output_type": "display_data"
    },
    {
     "data": {
      "text/html": "<span style=\"color:cyan\"> |-Best step: 0</span>",
      "text/plain": "<IPython.core.display.HTML object>"
     },
     "metadata": {},
     "output_type": "display_data"
    },
    {
     "data": {
      "text/html": "<span style=\"color:#7E57C2\"><h2 style=\"font-size:16px\">Hyperparameters:</h2></span>",
      "text/plain": "<IPython.core.display.HTML object>"
     },
     "metadata": {},
     "output_type": "display_data"
    },
    {
     "data": {
      "text/html": "<span style=\"color:cyan\"> |-activation: elu</span>",
      "text/plain": "<IPython.core.display.HTML object>"
     },
     "metadata": {},
     "output_type": "display_data"
    },
    {
     "data": {
      "text/html": "<span style=\"color:blue\"> |-batch_size: 1024</span>",
      "text/plain": "<IPython.core.display.HTML object>"
     },
     "metadata": {},
     "output_type": "display_data"
    },
    {
     "data": {
      "text/html": "<span style=\"color:cyan\"> |-beta: 1.0</span>",
      "text/plain": "<IPython.core.display.HTML object>"
     },
     "metadata": {},
     "output_type": "display_data"
    },
    {
     "data": {
      "text/html": "<span style=\"color:blue\"> |-epochs: 10</span>",
      "text/plain": "<IPython.core.display.HTML object>"
     },
     "metadata": {},
     "output_type": "display_data"
    },
    {
     "data": {
      "text/html": "<span style=\"color:cyan\"> |-intermediate_dim: 256</span>",
      "text/plain": "<IPython.core.display.HTML object>"
     },
     "metadata": {},
     "output_type": "display_data"
    },
    {
     "data": {
      "text/html": "<span style=\"color:blue\"> |-lr: 1.0</span>",
      "text/plain": "<IPython.core.display.HTML object>"
     },
     "metadata": {},
     "output_type": "display_data"
    },
    {
     "data": {
      "text/html": "<span style=\"color:cyan\"> |-reconstruction_loss_metrics: MSE</span>",
      "text/plain": "<IPython.core.display.HTML object>"
     },
     "metadata": {},
     "output_type": "display_data"
    },
    {
     "data": {
      "text/html": "<span style=\"color:blue\"> |-tuner/bracket: 1</span>",
      "text/plain": "<IPython.core.display.HTML object>"
     },
     "metadata": {},
     "output_type": "display_data"
    },
    {
     "data": {
      "text/html": "<span style=\"color:cyan\"> |-tuner/epochs: 7</span>",
      "text/plain": "<IPython.core.display.HTML object>"
     },
     "metadata": {},
     "output_type": "display_data"
    },
    {
     "data": {
      "text/html": "<span style=\"color:blue\"> |-tuner/initial_epoch: 0</span>",
      "text/plain": "<IPython.core.display.HTML object>"
     },
     "metadata": {},
     "output_type": "display_data"
    },
    {
     "data": {
      "text/html": "<span style=\"color:cyan\"> |-tuner/round: 0</span>",
      "text/plain": "<IPython.core.display.HTML object>"
     },
     "metadata": {},
     "output_type": "display_data"
    },
    {
     "data": {
      "text/html": "<span style=\"color:blue\"> |-z_dim: 2</span>",
      "text/plain": "<IPython.core.display.HTML object>"
     },
     "metadata": {},
     "output_type": "display_data"
    },
    {
     "data": {
      "text/html": "<span style=\"color:#4527A0\"><h1 style=\"font-size:18px\">Trial complete</h1></span>",
      "text/plain": "<IPython.core.display.HTML object>"
     },
     "metadata": {},
     "output_type": "display_data"
    },
    {
     "data": {
      "text/html": "<span style=\"color:#4527A0\"><h1 style=\"font-size:18px\">Trial summary</h1></span>",
      "text/plain": "<IPython.core.display.HTML object>"
     },
     "metadata": {},
     "output_type": "display_data"
    },
    {
     "data": {
      "text/html": "<span style=\"color:cyan\"> |-Trial ID: bf03c348bc32fce569f107d64a7e8003</span>",
      "text/plain": "<IPython.core.display.HTML object>"
     },
     "metadata": {},
     "output_type": "display_data"
    },
    {
     "data": {
      "text/html": "<span style=\"color:cyan\"> |-Score: 525.8461303710938</span>",
      "text/plain": "<IPython.core.display.HTML object>"
     },
     "metadata": {},
     "output_type": "display_data"
    },
    {
     "data": {
      "text/html": "<span style=\"color:cyan\"> |-Best step: 0</span>",
      "text/plain": "<IPython.core.display.HTML object>"
     },
     "metadata": {},
     "output_type": "display_data"
    },
    {
     "data": {
      "text/html": "<span style=\"color:#7E57C2\"><h2 style=\"font-size:16px\">Hyperparameters:</h2></span>",
      "text/plain": "<IPython.core.display.HTML object>"
     },
     "metadata": {},
     "output_type": "display_data"
    },
    {
     "data": {
      "text/html": "<span style=\"color:cyan\"> |-activation: elu</span>",
      "text/plain": "<IPython.core.display.HTML object>"
     },
     "metadata": {},
     "output_type": "display_data"
    },
    {
     "data": {
      "text/html": "<span style=\"color:blue\"> |-batch_size: 1024</span>",
      "text/plain": "<IPython.core.display.HTML object>"
     },
     "metadata": {},
     "output_type": "display_data"
    },
    {
     "data": {
      "text/html": "<span style=\"color:cyan\"> |-beta: 1.0</span>",
      "text/plain": "<IPython.core.display.HTML object>"
     },
     "metadata": {},
     "output_type": "display_data"
    },
    {
     "data": {
      "text/html": "<span style=\"color:blue\"> |-epochs: 10</span>",
      "text/plain": "<IPython.core.display.HTML object>"
     },
     "metadata": {},
     "output_type": "display_data"
    },
    {
     "data": {
      "text/html": "<span style=\"color:cyan\"> |-intermediate_dim: 128</span>",
      "text/plain": "<IPython.core.display.HTML object>"
     },
     "metadata": {},
     "output_type": "display_data"
    },
    {
     "data": {
      "text/html": "<span style=\"color:blue\"> |-lr: 1.0</span>",
      "text/plain": "<IPython.core.display.HTML object>"
     },
     "metadata": {},
     "output_type": "display_data"
    },
    {
     "data": {
      "text/html": "<span style=\"color:cyan\"> |-reconstruction_loss_metrics: MSE</span>",
      "text/plain": "<IPython.core.display.HTML object>"
     },
     "metadata": {},
     "output_type": "display_data"
    },
    {
     "data": {
      "text/html": "<span style=\"color:blue\"> |-tuner/bracket: 1</span>",
      "text/plain": "<IPython.core.display.HTML object>"
     },
     "metadata": {},
     "output_type": "display_data"
    },
    {
     "data": {
      "text/html": "<span style=\"color:cyan\"> |-tuner/epochs: 7</span>",
      "text/plain": "<IPython.core.display.HTML object>"
     },
     "metadata": {},
     "output_type": "display_data"
    },
    {
     "data": {
      "text/html": "<span style=\"color:blue\"> |-tuner/initial_epoch: 0</span>",
      "text/plain": "<IPython.core.display.HTML object>"
     },
     "metadata": {},
     "output_type": "display_data"
    },
    {
     "data": {
      "text/html": "<span style=\"color:cyan\"> |-tuner/round: 0</span>",
      "text/plain": "<IPython.core.display.HTML object>"
     },
     "metadata": {},
     "output_type": "display_data"
    },
    {
     "data": {
      "text/html": "<span style=\"color:blue\"> |-z_dim: 2</span>",
      "text/plain": "<IPython.core.display.HTML object>"
     },
     "metadata": {},
     "output_type": "display_data"
    },
    {
     "data": {
      "text/html": "<span style=\"color:#4527A0\"><h1 style=\"font-size:18px\">Trial complete</h1></span>",
      "text/plain": "<IPython.core.display.HTML object>"
     },
     "metadata": {},
     "output_type": "display_data"
    },
    {
     "data": {
      "text/html": "<span style=\"color:#4527A0\"><h1 style=\"font-size:18px\">Trial summary</h1></span>",
      "text/plain": "<IPython.core.display.HTML object>"
     },
     "metadata": {},
     "output_type": "display_data"
    },
    {
     "data": {
      "text/html": "<span style=\"color:cyan\"> |-Trial ID: 097f82dd1bc94d9cba247ee60951f4d0</span>",
      "text/plain": "<IPython.core.display.HTML object>"
     },
     "metadata": {},
     "output_type": "display_data"
    },
    {
     "data": {
      "text/html": "<span style=\"color:cyan\"> |-Score: 502.0209655761719</span>",
      "text/plain": "<IPython.core.display.HTML object>"
     },
     "metadata": {},
     "output_type": "display_data"
    },
    {
     "data": {
      "text/html": "<span style=\"color:cyan\"> |-Best step: 0</span>",
      "text/plain": "<IPython.core.display.HTML object>"
     },
     "metadata": {},
     "output_type": "display_data"
    },
    {
     "data": {
      "text/html": "<span style=\"color:#7E57C2\"><h2 style=\"font-size:16px\">Hyperparameters:</h2></span>",
      "text/plain": "<IPython.core.display.HTML object>"
     },
     "metadata": {},
     "output_type": "display_data"
    },
    {
     "data": {
      "text/html": "<span style=\"color:cyan\"> |-activation: relu</span>",
      "text/plain": "<IPython.core.display.HTML object>"
     },
     "metadata": {},
     "output_type": "display_data"
    },
    {
     "data": {
      "text/html": "<span style=\"color:blue\"> |-batch_size: 2048</span>",
      "text/plain": "<IPython.core.display.HTML object>"
     },
     "metadata": {},
     "output_type": "display_data"
    },
    {
     "data": {
      "text/html": "<span style=\"color:cyan\"> |-beta: 1.0</span>",
      "text/plain": "<IPython.core.display.HTML object>"
     },
     "metadata": {},
     "output_type": "display_data"
    },
    {
     "data": {
      "text/html": "<span style=\"color:blue\"> |-epochs: 10</span>",
      "text/plain": "<IPython.core.display.HTML object>"
     },
     "metadata": {},
     "output_type": "display_data"
    },
    {
     "data": {
      "text/html": "<span style=\"color:cyan\"> |-intermediate_dim: 128</span>",
      "text/plain": "<IPython.core.display.HTML object>"
     },
     "metadata": {},
     "output_type": "display_data"
    },
    {
     "data": {
      "text/html": "<span style=\"color:blue\"> |-lr: 1.0</span>",
      "text/plain": "<IPython.core.display.HTML object>"
     },
     "metadata": {},
     "output_type": "display_data"
    },
    {
     "data": {
      "text/html": "<span style=\"color:cyan\"> |-reconstruction_loss_metrics: MSE</span>",
      "text/plain": "<IPython.core.display.HTML object>"
     },
     "metadata": {},
     "output_type": "display_data"
    },
    {
     "data": {
      "text/html": "<span style=\"color:blue\"> |-tuner/bracket: 1</span>",
      "text/plain": "<IPython.core.display.HTML object>"
     },
     "metadata": {},
     "output_type": "display_data"
    },
    {
     "data": {
      "text/html": "<span style=\"color:cyan\"> |-tuner/epochs: 7</span>",
      "text/plain": "<IPython.core.display.HTML object>"
     },
     "metadata": {},
     "output_type": "display_data"
    },
    {
     "data": {
      "text/html": "<span style=\"color:blue\"> |-tuner/initial_epoch: 0</span>",
      "text/plain": "<IPython.core.display.HTML object>"
     },
     "metadata": {},
     "output_type": "display_data"
    },
    {
     "data": {
      "text/html": "<span style=\"color:cyan\"> |-tuner/round: 0</span>",
      "text/plain": "<IPython.core.display.HTML object>"
     },
     "metadata": {},
     "output_type": "display_data"
    },
    {
     "data": {
      "text/html": "<span style=\"color:blue\"> |-z_dim: 2</span>",
      "text/plain": "<IPython.core.display.HTML object>"
     },
     "metadata": {},
     "output_type": "display_data"
    },
    {
     "data": {
      "text/html": "<span style=\"color:#4527A0\"><h1 style=\"font-size:18px\">Trial complete</h1></span>",
      "text/plain": "<IPython.core.display.HTML object>"
     },
     "metadata": {},
     "output_type": "display_data"
    },
    {
     "data": {
      "text/html": "<span style=\"color:#4527A0\"><h1 style=\"font-size:18px\">Trial summary</h1></span>",
      "text/plain": "<IPython.core.display.HTML object>"
     },
     "metadata": {},
     "output_type": "display_data"
    },
    {
     "data": {
      "text/html": "<span style=\"color:cyan\"> |-Trial ID: 761fdfef79eb6a842a8b75925d780637</span>",
      "text/plain": "<IPython.core.display.HTML object>"
     },
     "metadata": {},
     "output_type": "display_data"
    },
    {
     "data": {
      "text/html": "<span style=\"color:cyan\"> |-Score: 497.0625305175781</span>",
      "text/plain": "<IPython.core.display.HTML object>"
     },
     "metadata": {},
     "output_type": "display_data"
    },
    {
     "data": {
      "text/html": "<span style=\"color:cyan\"> |-Best step: 0</span>",
      "text/plain": "<IPython.core.display.HTML object>"
     },
     "metadata": {},
     "output_type": "display_data"
    },
    {
     "data": {
      "text/html": "<span style=\"color:#7E57C2\"><h2 style=\"font-size:16px\">Hyperparameters:</h2></span>",
      "text/plain": "<IPython.core.display.HTML object>"
     },
     "metadata": {},
     "output_type": "display_data"
    },
    {
     "data": {
      "text/html": "<span style=\"color:cyan\"> |-activation: relu</span>",
      "text/plain": "<IPython.core.display.HTML object>"
     },
     "metadata": {},
     "output_type": "display_data"
    },
    {
     "data": {
      "text/html": "<span style=\"color:blue\"> |-batch_size: 2048</span>",
      "text/plain": "<IPython.core.display.HTML object>"
     },
     "metadata": {},
     "output_type": "display_data"
    },
    {
     "data": {
      "text/html": "<span style=\"color:cyan\"> |-beta: 1.0</span>",
      "text/plain": "<IPython.core.display.HTML object>"
     },
     "metadata": {},
     "output_type": "display_data"
    },
    {
     "data": {
      "text/html": "<span style=\"color:blue\"> |-epochs: 10</span>",
      "text/plain": "<IPython.core.display.HTML object>"
     },
     "metadata": {},
     "output_type": "display_data"
    },
    {
     "data": {
      "text/html": "<span style=\"color:cyan\"> |-intermediate_dim: 256</span>",
      "text/plain": "<IPython.core.display.HTML object>"
     },
     "metadata": {},
     "output_type": "display_data"
    },
    {
     "data": {
      "text/html": "<span style=\"color:blue\"> |-lr: 1.0</span>",
      "text/plain": "<IPython.core.display.HTML object>"
     },
     "metadata": {},
     "output_type": "display_data"
    },
    {
     "data": {
      "text/html": "<span style=\"color:cyan\"> |-reconstruction_loss_metrics: MSE</span>",
      "text/plain": "<IPython.core.display.HTML object>"
     },
     "metadata": {},
     "output_type": "display_data"
    },
    {
     "data": {
      "text/html": "<span style=\"color:blue\"> |-tuner/bracket: 1</span>",
      "text/plain": "<IPython.core.display.HTML object>"
     },
     "metadata": {},
     "output_type": "display_data"
    },
    {
     "data": {
      "text/html": "<span style=\"color:cyan\"> |-tuner/epochs: 7</span>",
      "text/plain": "<IPython.core.display.HTML object>"
     },
     "metadata": {},
     "output_type": "display_data"
    },
    {
     "data": {
      "text/html": "<span style=\"color:blue\"> |-tuner/initial_epoch: 0</span>",
      "text/plain": "<IPython.core.display.HTML object>"
     },
     "metadata": {},
     "output_type": "display_data"
    },
    {
     "data": {
      "text/html": "<span style=\"color:cyan\"> |-tuner/round: 0</span>",
      "text/plain": "<IPython.core.display.HTML object>"
     },
     "metadata": {},
     "output_type": "display_data"
    },
    {
     "data": {
      "text/html": "<span style=\"color:blue\"> |-z_dim: 2</span>",
      "text/plain": "<IPython.core.display.HTML object>"
     },
     "metadata": {},
     "output_type": "display_data"
    },
    {
     "data": {
      "text/html": "<span style=\"color:#4527A0\"><h1 style=\"font-size:18px\">Trial complete</h1></span>",
      "text/plain": "<IPython.core.display.HTML object>"
     },
     "metadata": {},
     "output_type": "display_data"
    },
    {
     "data": {
      "text/html": "<span style=\"color:#4527A0\"><h1 style=\"font-size:18px\">Trial summary</h1></span>",
      "text/plain": "<IPython.core.display.HTML object>"
     },
     "metadata": {},
     "output_type": "display_data"
    },
    {
     "data": {
      "text/html": "<span style=\"color:cyan\"> |-Trial ID: 98e614488590d4968755c02cdfe72387</span>",
      "text/plain": "<IPython.core.display.HTML object>"
     },
     "metadata": {},
     "output_type": "display_data"
    },
    {
     "data": {
      "text/html": "<span style=\"color:cyan\"> |-Score: 530.238525390625</span>",
      "text/plain": "<IPython.core.display.HTML object>"
     },
     "metadata": {},
     "output_type": "display_data"
    },
    {
     "data": {
      "text/html": "<span style=\"color:cyan\"> |-Best step: 0</span>",
      "text/plain": "<IPython.core.display.HTML object>"
     },
     "metadata": {},
     "output_type": "display_data"
    },
    {
     "data": {
      "text/html": "<span style=\"color:#7E57C2\"><h2 style=\"font-size:16px\">Hyperparameters:</h2></span>",
      "text/plain": "<IPython.core.display.HTML object>"
     },
     "metadata": {},
     "output_type": "display_data"
    },
    {
     "data": {
      "text/html": "<span style=\"color:cyan\"> |-activation: relu</span>",
      "text/plain": "<IPython.core.display.HTML object>"
     },
     "metadata": {},
     "output_type": "display_data"
    },
    {
     "data": {
      "text/html": "<span style=\"color:blue\"> |-batch_size: 2048</span>",
      "text/plain": "<IPython.core.display.HTML object>"
     },
     "metadata": {},
     "output_type": "display_data"
    },
    {
     "data": {
      "text/html": "<span style=\"color:cyan\"> |-beta: 1.0</span>",
      "text/plain": "<IPython.core.display.HTML object>"
     },
     "metadata": {},
     "output_type": "display_data"
    },
    {
     "data": {
      "text/html": "<span style=\"color:blue\"> |-epochs: 20</span>",
      "text/plain": "<IPython.core.display.HTML object>"
     },
     "metadata": {},
     "output_type": "display_data"
    },
    {
     "data": {
      "text/html": "<span style=\"color:cyan\"> |-intermediate_dim: 64</span>",
      "text/plain": "<IPython.core.display.HTML object>"
     },
     "metadata": {},
     "output_type": "display_data"
    },
    {
     "data": {
      "text/html": "<span style=\"color:blue\"> |-lr: 1.0</span>",
      "text/plain": "<IPython.core.display.HTML object>"
     },
     "metadata": {},
     "output_type": "display_data"
    },
    {
     "data": {
      "text/html": "<span style=\"color:cyan\"> |-reconstruction_loss_metrics: MSE</span>",
      "text/plain": "<IPython.core.display.HTML object>"
     },
     "metadata": {},
     "output_type": "display_data"
    },
    {
     "data": {
      "text/html": "<span style=\"color:blue\"> |-tuner/bracket: 1</span>",
      "text/plain": "<IPython.core.display.HTML object>"
     },
     "metadata": {},
     "output_type": "display_data"
    },
    {
     "data": {
      "text/html": "<span style=\"color:cyan\"> |-tuner/epochs: 7</span>",
      "text/plain": "<IPython.core.display.HTML object>"
     },
     "metadata": {},
     "output_type": "display_data"
    },
    {
     "data": {
      "text/html": "<span style=\"color:blue\"> |-tuner/initial_epoch: 0</span>",
      "text/plain": "<IPython.core.display.HTML object>"
     },
     "metadata": {},
     "output_type": "display_data"
    },
    {
     "data": {
      "text/html": "<span style=\"color:cyan\"> |-tuner/round: 0</span>",
      "text/plain": "<IPython.core.display.HTML object>"
     },
     "metadata": {},
     "output_type": "display_data"
    },
    {
     "data": {
      "text/html": "<span style=\"color:blue\"> |-z_dim: 2</span>",
      "text/plain": "<IPython.core.display.HTML object>"
     },
     "metadata": {},
     "output_type": "display_data"
    },
    {
     "data": {
      "text/html": "<span style=\"color:#4527A0\"><h1 style=\"font-size:18px\">Trial complete</h1></span>",
      "text/plain": "<IPython.core.display.HTML object>"
     },
     "metadata": {},
     "output_type": "display_data"
    },
    {
     "data": {
      "text/html": "<span style=\"color:#4527A0\"><h1 style=\"font-size:18px\">Trial summary</h1></span>",
      "text/plain": "<IPython.core.display.HTML object>"
     },
     "metadata": {},
     "output_type": "display_data"
    },
    {
     "data": {
      "text/html": "<span style=\"color:cyan\"> |-Trial ID: 2123559cefc29758cd84e4239e603325</span>",
      "text/plain": "<IPython.core.display.HTML object>"
     },
     "metadata": {},
     "output_type": "display_data"
    },
    {
     "data": {
      "text/html": "<span style=\"color:cyan\"> |-Score: 517.9168090820312</span>",
      "text/plain": "<IPython.core.display.HTML object>"
     },
     "metadata": {},
     "output_type": "display_data"
    },
    {
     "data": {
      "text/html": "<span style=\"color:cyan\"> |-Best step: 0</span>",
      "text/plain": "<IPython.core.display.HTML object>"
     },
     "metadata": {},
     "output_type": "display_data"
    },
    {
     "data": {
      "text/html": "<span style=\"color:#7E57C2\"><h2 style=\"font-size:16px\">Hyperparameters:</h2></span>",
      "text/plain": "<IPython.core.display.HTML object>"
     },
     "metadata": {},
     "output_type": "display_data"
    },
    {
     "data": {
      "text/html": "<span style=\"color:cyan\"> |-activation: elu</span>",
      "text/plain": "<IPython.core.display.HTML object>"
     },
     "metadata": {},
     "output_type": "display_data"
    },
    {
     "data": {
      "text/html": "<span style=\"color:blue\"> |-batch_size: 1024</span>",
      "text/plain": "<IPython.core.display.HTML object>"
     },
     "metadata": {},
     "output_type": "display_data"
    },
    {
     "data": {
      "text/html": "<span style=\"color:cyan\"> |-beta: 0.01</span>",
      "text/plain": "<IPython.core.display.HTML object>"
     },
     "metadata": {},
     "output_type": "display_data"
    },
    {
     "data": {
      "text/html": "<span style=\"color:blue\"> |-epochs: 20</span>",
      "text/plain": "<IPython.core.display.HTML object>"
     },
     "metadata": {},
     "output_type": "display_data"
    },
    {
     "data": {
      "text/html": "<span style=\"color:cyan\"> |-intermediate_dim: 64</span>",
      "text/plain": "<IPython.core.display.HTML object>"
     },
     "metadata": {},
     "output_type": "display_data"
    },
    {
     "data": {
      "text/html": "<span style=\"color:blue\"> |-lr: 1.0</span>",
      "text/plain": "<IPython.core.display.HTML object>"
     },
     "metadata": {},
     "output_type": "display_data"
    },
    {
     "data": {
      "text/html": "<span style=\"color:cyan\"> |-reconstruction_loss_metrics: MSE</span>",
      "text/plain": "<IPython.core.display.HTML object>"
     },
     "metadata": {},
     "output_type": "display_data"
    },
    {
     "data": {
      "text/html": "<span style=\"color:blue\"> |-tuner/bracket: 1</span>",
      "text/plain": "<IPython.core.display.HTML object>"
     },
     "metadata": {},
     "output_type": "display_data"
    },
    {
     "data": {
      "text/html": "<span style=\"color:cyan\"> |-tuner/epochs: 7</span>",
      "text/plain": "<IPython.core.display.HTML object>"
     },
     "metadata": {},
     "output_type": "display_data"
    },
    {
     "data": {
      "text/html": "<span style=\"color:blue\"> |-tuner/initial_epoch: 0</span>",
      "text/plain": "<IPython.core.display.HTML object>"
     },
     "metadata": {},
     "output_type": "display_data"
    },
    {
     "data": {
      "text/html": "<span style=\"color:cyan\"> |-tuner/round: 0</span>",
      "text/plain": "<IPython.core.display.HTML object>"
     },
     "metadata": {},
     "output_type": "display_data"
    },
    {
     "data": {
      "text/html": "<span style=\"color:blue\"> |-z_dim: 2</span>",
      "text/plain": "<IPython.core.display.HTML object>"
     },
     "metadata": {},
     "output_type": "display_data"
    },
    {
     "data": {
      "text/html": "<span style=\"color:#4527A0\"><h1 style=\"font-size:18px\">Trial complete</h1></span>",
      "text/plain": "<IPython.core.display.HTML object>"
     },
     "metadata": {},
     "output_type": "display_data"
    },
    {
     "data": {
      "text/html": "<span style=\"color:#4527A0\"><h1 style=\"font-size:18px\">Trial summary</h1></span>",
      "text/plain": "<IPython.core.display.HTML object>"
     },
     "metadata": {},
     "output_type": "display_data"
    },
    {
     "data": {
      "text/html": "<span style=\"color:cyan\"> |-Trial ID: e77b3545fcf516ed8ecd68291268ec16</span>",
      "text/plain": "<IPython.core.display.HTML object>"
     },
     "metadata": {},
     "output_type": "display_data"
    },
    {
     "data": {
      "text/html": "<span style=\"color:cyan\"> |-Score: 257.93682861328125</span>",
      "text/plain": "<IPython.core.display.HTML object>"
     },
     "metadata": {},
     "output_type": "display_data"
    },
    {
     "data": {
      "text/html": "<span style=\"color:cyan\"> |-Best step: 0</span>",
      "text/plain": "<IPython.core.display.HTML object>"
     },
     "metadata": {},
     "output_type": "display_data"
    },
    {
     "data": {
      "text/html": "<span style=\"color:#7E57C2\"><h2 style=\"font-size:16px\">Hyperparameters:</h2></span>",
      "text/plain": "<IPython.core.display.HTML object>"
     },
     "metadata": {},
     "output_type": "display_data"
    },
    {
     "data": {
      "text/html": "<span style=\"color:cyan\"> |-activation: elu</span>",
      "text/plain": "<IPython.core.display.HTML object>"
     },
     "metadata": {},
     "output_type": "display_data"
    },
    {
     "data": {
      "text/html": "<span style=\"color:blue\"> |-batch_size: 1024</span>",
      "text/plain": "<IPython.core.display.HTML object>"
     },
     "metadata": {},
     "output_type": "display_data"
    },
    {
     "data": {
      "text/html": "<span style=\"color:cyan\"> |-beta: 1.0</span>",
      "text/plain": "<IPython.core.display.HTML object>"
     },
     "metadata": {},
     "output_type": "display_data"
    },
    {
     "data": {
      "text/html": "<span style=\"color:blue\"> |-epochs: 10</span>",
      "text/plain": "<IPython.core.display.HTML object>"
     },
     "metadata": {},
     "output_type": "display_data"
    },
    {
     "data": {
      "text/html": "<span style=\"color:cyan\"> |-intermediate_dim: 256</span>",
      "text/plain": "<IPython.core.display.HTML object>"
     },
     "metadata": {},
     "output_type": "display_data"
    },
    {
     "data": {
      "text/html": "<span style=\"color:blue\"> |-lr: 1.0</span>",
      "text/plain": "<IPython.core.display.HTML object>"
     },
     "metadata": {},
     "output_type": "display_data"
    },
    {
     "data": {
      "text/html": "<span style=\"color:cyan\"> |-reconstruction_loss_metrics: MSE</span>",
      "text/plain": "<IPython.core.display.HTML object>"
     },
     "metadata": {},
     "output_type": "display_data"
    },
    {
     "data": {
      "text/html": "<span style=\"color:blue\"> |-tuner/bracket: 1</span>",
      "text/plain": "<IPython.core.display.HTML object>"
     },
     "metadata": {},
     "output_type": "display_data"
    },
    {
     "data": {
      "text/html": "<span style=\"color:cyan\"> |-tuner/epochs: 20</span>",
      "text/plain": "<IPython.core.display.HTML object>"
     },
     "metadata": {},
     "output_type": "display_data"
    },
    {
     "data": {
      "text/html": "<span style=\"color:blue\"> |-tuner/initial_epoch: 7</span>",
      "text/plain": "<IPython.core.display.HTML object>"
     },
     "metadata": {},
     "output_type": "display_data"
    },
    {
     "data": {
      "text/html": "<span style=\"color:cyan\"> |-tuner/round: 1</span>",
      "text/plain": "<IPython.core.display.HTML object>"
     },
     "metadata": {},
     "output_type": "display_data"
    },
    {
     "data": {
      "text/html": "<span style=\"color:blue\"> |-tuner/trial_id: d55f68386ef49aaa3289b00e684710d2</span>",
      "text/plain": "<IPython.core.display.HTML object>"
     },
     "metadata": {},
     "output_type": "display_data"
    },
    {
     "data": {
      "text/html": "<span style=\"color:cyan\"> |-z_dim: 2</span>",
      "text/plain": "<IPython.core.display.HTML object>"
     },
     "metadata": {},
     "output_type": "display_data"
    },
    {
     "data": {
      "text/html": "<span style=\"color:#4527A0\"><h1 style=\"font-size:18px\">Trial complete</h1></span>",
      "text/plain": "<IPython.core.display.HTML object>"
     },
     "metadata": {},
     "output_type": "display_data"
    },
    {
     "data": {
      "text/html": "<span style=\"color:#4527A0\"><h1 style=\"font-size:18px\">Trial summary</h1></span>",
      "text/plain": "<IPython.core.display.HTML object>"
     },
     "metadata": {},
     "output_type": "display_data"
    },
    {
     "data": {
      "text/html": "<span style=\"color:cyan\"> |-Trial ID: d4b8c45ad794db23ac3e19bbe3347dbd</span>",
      "text/plain": "<IPython.core.display.HTML object>"
     },
     "metadata": {},
     "output_type": "display_data"
    },
    {
     "data": {
      "text/html": "<span style=\"color:cyan\"> |-Score: 295.87640380859375</span>",
      "text/plain": "<IPython.core.display.HTML object>"
     },
     "metadata": {},
     "output_type": "display_data"
    },
    {
     "data": {
      "text/html": "<span style=\"color:cyan\"> |-Best step: 0</span>",
      "text/plain": "<IPython.core.display.HTML object>"
     },
     "metadata": {},
     "output_type": "display_data"
    },
    {
     "data": {
      "text/html": "<span style=\"color:#7E57C2\"><h2 style=\"font-size:16px\">Hyperparameters:</h2></span>",
      "text/plain": "<IPython.core.display.HTML object>"
     },
     "metadata": {},
     "output_type": "display_data"
    },
    {
     "data": {
      "text/html": "<span style=\"color:cyan\"> |-activation: relu</span>",
      "text/plain": "<IPython.core.display.HTML object>"
     },
     "metadata": {},
     "output_type": "display_data"
    },
    {
     "data": {
      "text/html": "<span style=\"color:blue\"> |-batch_size: 2048</span>",
      "text/plain": "<IPython.core.display.HTML object>"
     },
     "metadata": {},
     "output_type": "display_data"
    },
    {
     "data": {
      "text/html": "<span style=\"color:cyan\"> |-beta: 1.0</span>",
      "text/plain": "<IPython.core.display.HTML object>"
     },
     "metadata": {},
     "output_type": "display_data"
    },
    {
     "data": {
      "text/html": "<span style=\"color:blue\"> |-epochs: 10</span>",
      "text/plain": "<IPython.core.display.HTML object>"
     },
     "metadata": {},
     "output_type": "display_data"
    },
    {
     "data": {
      "text/html": "<span style=\"color:cyan\"> |-intermediate_dim: 256</span>",
      "text/plain": "<IPython.core.display.HTML object>"
     },
     "metadata": {},
     "output_type": "display_data"
    },
    {
     "data": {
      "text/html": "<span style=\"color:blue\"> |-lr: 1.0</span>",
      "text/plain": "<IPython.core.display.HTML object>"
     },
     "metadata": {},
     "output_type": "display_data"
    },
    {
     "data": {
      "text/html": "<span style=\"color:cyan\"> |-reconstruction_loss_metrics: MSE</span>",
      "text/plain": "<IPython.core.display.HTML object>"
     },
     "metadata": {},
     "output_type": "display_data"
    },
    {
     "data": {
      "text/html": "<span style=\"color:blue\"> |-tuner/bracket: 1</span>",
      "text/plain": "<IPython.core.display.HTML object>"
     },
     "metadata": {},
     "output_type": "display_data"
    },
    {
     "data": {
      "text/html": "<span style=\"color:cyan\"> |-tuner/epochs: 20</span>",
      "text/plain": "<IPython.core.display.HTML object>"
     },
     "metadata": {},
     "output_type": "display_data"
    },
    {
     "data": {
      "text/html": "<span style=\"color:blue\"> |-tuner/initial_epoch: 7</span>",
      "text/plain": "<IPython.core.display.HTML object>"
     },
     "metadata": {},
     "output_type": "display_data"
    },
    {
     "data": {
      "text/html": "<span style=\"color:cyan\"> |-tuner/round: 1</span>",
      "text/plain": "<IPython.core.display.HTML object>"
     },
     "metadata": {},
     "output_type": "display_data"
    },
    {
     "data": {
      "text/html": "<span style=\"color:blue\"> |-tuner/trial_id: 761fdfef79eb6a842a8b75925d780637</span>",
      "text/plain": "<IPython.core.display.HTML object>"
     },
     "metadata": {},
     "output_type": "display_data"
    },
    {
     "data": {
      "text/html": "<span style=\"color:cyan\"> |-z_dim: 2</span>",
      "text/plain": "<IPython.core.display.HTML object>"
     },
     "metadata": {},
     "output_type": "display_data"
    },
    {
     "data": {
      "text/html": "<span style=\"color:#4527A0\"><h1 style=\"font-size:18px\">Trial complete</h1></span>",
      "text/plain": "<IPython.core.display.HTML object>"
     },
     "metadata": {},
     "output_type": "display_data"
    },
    {
     "data": {
      "text/html": "<span style=\"color:#4527A0\"><h1 style=\"font-size:18px\">Trial summary</h1></span>",
      "text/plain": "<IPython.core.display.HTML object>"
     },
     "metadata": {},
     "output_type": "display_data"
    },
    {
     "data": {
      "text/html": "<span style=\"color:cyan\"> |-Trial ID: 85905c4d525f38cb6a3c4273e453edf7</span>",
      "text/plain": "<IPython.core.display.HTML object>"
     },
     "metadata": {},
     "output_type": "display_data"
    },
    {
     "data": {
      "text/html": "<span style=\"color:cyan\"> |-Score: 217.85516357421875</span>",
      "text/plain": "<IPython.core.display.HTML object>"
     },
     "metadata": {},
     "output_type": "display_data"
    },
    {
     "data": {
      "text/html": "<span style=\"color:cyan\"> |-Best step: 0</span>",
      "text/plain": "<IPython.core.display.HTML object>"
     },
     "metadata": {},
     "output_type": "display_data"
    },
    {
     "data": {
      "text/html": "<span style=\"color:#7E57C2\"><h2 style=\"font-size:16px\">Hyperparameters:</h2></span>",
      "text/plain": "<IPython.core.display.HTML object>"
     },
     "metadata": {},
     "output_type": "display_data"
    },
    {
     "data": {
      "text/html": "<span style=\"color:cyan\"> |-activation: relu</span>",
      "text/plain": "<IPython.core.display.HTML object>"
     },
     "metadata": {},
     "output_type": "display_data"
    },
    {
     "data": {
      "text/html": "<span style=\"color:blue\"> |-batch_size: 1024</span>",
      "text/plain": "<IPython.core.display.HTML object>"
     },
     "metadata": {},
     "output_type": "display_data"
    },
    {
     "data": {
      "text/html": "<span style=\"color:cyan\"> |-beta: 1.0</span>",
      "text/plain": "<IPython.core.display.HTML object>"
     },
     "metadata": {},
     "output_type": "display_data"
    },
    {
     "data": {
      "text/html": "<span style=\"color:blue\"> |-epochs: 10</span>",
      "text/plain": "<IPython.core.display.HTML object>"
     },
     "metadata": {},
     "output_type": "display_data"
    },
    {
     "data": {
      "text/html": "<span style=\"color:cyan\"> |-intermediate_dim: 256</span>",
      "text/plain": "<IPython.core.display.HTML object>"
     },
     "metadata": {},
     "output_type": "display_data"
    },
    {
     "data": {
      "text/html": "<span style=\"color:blue\"> |-lr: 1.0</span>",
      "text/plain": "<IPython.core.display.HTML object>"
     },
     "metadata": {},
     "output_type": "display_data"
    },
    {
     "data": {
      "text/html": "<span style=\"color:cyan\"> |-reconstruction_loss_metrics: MSE</span>",
      "text/plain": "<IPython.core.display.HTML object>"
     },
     "metadata": {},
     "output_type": "display_data"
    },
    {
     "data": {
      "text/html": "<span style=\"color:blue\"> |-tuner/bracket: 0</span>",
      "text/plain": "<IPython.core.display.HTML object>"
     },
     "metadata": {},
     "output_type": "display_data"
    },
    {
     "data": {
      "text/html": "<span style=\"color:cyan\"> |-tuner/epochs: 20</span>",
      "text/plain": "<IPython.core.display.HTML object>"
     },
     "metadata": {},
     "output_type": "display_data"
    },
    {
     "data": {
      "text/html": "<span style=\"color:blue\"> |-tuner/initial_epoch: 0</span>",
      "text/plain": "<IPython.core.display.HTML object>"
     },
     "metadata": {},
     "output_type": "display_data"
    },
    {
     "data": {
      "text/html": "<span style=\"color:cyan\"> |-tuner/round: 0</span>",
      "text/plain": "<IPython.core.display.HTML object>"
     },
     "metadata": {},
     "output_type": "display_data"
    },
    {
     "data": {
      "text/html": "<span style=\"color:blue\"> |-z_dim: 2</span>",
      "text/plain": "<IPython.core.display.HTML object>"
     },
     "metadata": {},
     "output_type": "display_data"
    },
    {
     "data": {
      "text/html": "<span style=\"color:#4527A0\"><h1 style=\"font-size:18px\">Trial complete</h1></span>",
      "text/plain": "<IPython.core.display.HTML object>"
     },
     "metadata": {},
     "output_type": "display_data"
    },
    {
     "data": {
      "text/html": "<span style=\"color:#4527A0\"><h1 style=\"font-size:18px\">Trial summary</h1></span>",
      "text/plain": "<IPython.core.display.HTML object>"
     },
     "metadata": {},
     "output_type": "display_data"
    },
    {
     "data": {
      "text/html": "<span style=\"color:cyan\"> |-Trial ID: 1eb8270ea5b75da248432399625b549c</span>",
      "text/plain": "<IPython.core.display.HTML object>"
     },
     "metadata": {},
     "output_type": "display_data"
    },
    {
     "data": {
      "text/html": "<span style=\"color:cyan\"> |-Score: 207.08026123046875</span>",
      "text/plain": "<IPython.core.display.HTML object>"
     },
     "metadata": {},
     "output_type": "display_data"
    },
    {
     "data": {
      "text/html": "<span style=\"color:cyan\"> |-Best step: 0</span>",
      "text/plain": "<IPython.core.display.HTML object>"
     },
     "metadata": {},
     "output_type": "display_data"
    },
    {
     "data": {
      "text/html": "<span style=\"color:#7E57C2\"><h2 style=\"font-size:16px\">Hyperparameters:</h2></span>",
      "text/plain": "<IPython.core.display.HTML object>"
     },
     "metadata": {},
     "output_type": "display_data"
    },
    {
     "data": {
      "text/html": "<span style=\"color:cyan\"> |-activation: elu</span>",
      "text/plain": "<IPython.core.display.HTML object>"
     },
     "metadata": {},
     "output_type": "display_data"
    },
    {
     "data": {
      "text/html": "<span style=\"color:blue\"> |-batch_size: 1024</span>",
      "text/plain": "<IPython.core.display.HTML object>"
     },
     "metadata": {},
     "output_type": "display_data"
    },
    {
     "data": {
      "text/html": "<span style=\"color:cyan\"> |-beta: 1.0</span>",
      "text/plain": "<IPython.core.display.HTML object>"
     },
     "metadata": {},
     "output_type": "display_data"
    },
    {
     "data": {
      "text/html": "<span style=\"color:blue\"> |-epochs: 20</span>",
      "text/plain": "<IPython.core.display.HTML object>"
     },
     "metadata": {},
     "output_type": "display_data"
    },
    {
     "data": {
      "text/html": "<span style=\"color:cyan\"> |-intermediate_dim: 256</span>",
      "text/plain": "<IPython.core.display.HTML object>"
     },
     "metadata": {},
     "output_type": "display_data"
    },
    {
     "data": {
      "text/html": "<span style=\"color:blue\"> |-lr: 1.0</span>",
      "text/plain": "<IPython.core.display.HTML object>"
     },
     "metadata": {},
     "output_type": "display_data"
    },
    {
     "data": {
      "text/html": "<span style=\"color:cyan\"> |-reconstruction_loss_metrics: MSE</span>",
      "text/plain": "<IPython.core.display.HTML object>"
     },
     "metadata": {},
     "output_type": "display_data"
    },
    {
     "data": {
      "text/html": "<span style=\"color:blue\"> |-tuner/bracket: 0</span>",
      "text/plain": "<IPython.core.display.HTML object>"
     },
     "metadata": {},
     "output_type": "display_data"
    },
    {
     "data": {
      "text/html": "<span style=\"color:cyan\"> |-tuner/epochs: 20</span>",
      "text/plain": "<IPython.core.display.HTML object>"
     },
     "metadata": {},
     "output_type": "display_data"
    },
    {
     "data": {
      "text/html": "<span style=\"color:blue\"> |-tuner/initial_epoch: 0</span>",
      "text/plain": "<IPython.core.display.HTML object>"
     },
     "metadata": {},
     "output_type": "display_data"
    },
    {
     "data": {
      "text/html": "<span style=\"color:cyan\"> |-tuner/round: 0</span>",
      "text/plain": "<IPython.core.display.HTML object>"
     },
     "metadata": {},
     "output_type": "display_data"
    },
    {
     "data": {
      "text/html": "<span style=\"color:blue\"> |-z_dim: 2</span>",
      "text/plain": "<IPython.core.display.HTML object>"
     },
     "metadata": {},
     "output_type": "display_data"
    },
    {
     "data": {
      "text/html": "<span style=\"color:#4527A0\"><h1 style=\"font-size:18px\">Trial complete</h1></span>",
      "text/plain": "<IPython.core.display.HTML object>"
     },
     "metadata": {},
     "output_type": "display_data"
    },
    {
     "data": {
      "text/html": "<span style=\"color:#4527A0\"><h1 style=\"font-size:18px\">Trial summary</h1></span>",
      "text/plain": "<IPython.core.display.HTML object>"
     },
     "metadata": {},
     "output_type": "display_data"
    },
    {
     "data": {
      "text/html": "<span style=\"color:cyan\"> |-Trial ID: d4a7913e573467c4236b3e368888a061</span>",
      "text/plain": "<IPython.core.display.HTML object>"
     },
     "metadata": {},
     "output_type": "display_data"
    },
    {
     "data": {
      "text/html": "<span style=\"color:cyan\"> |-Score: 336.9971923828125</span>",
      "text/plain": "<IPython.core.display.HTML object>"
     },
     "metadata": {},
     "output_type": "display_data"
    },
    {
     "data": {
      "text/html": "<span style=\"color:cyan\"> |-Best step: 0</span>",
      "text/plain": "<IPython.core.display.HTML object>"
     },
     "metadata": {},
     "output_type": "display_data"
    },
    {
     "data": {
      "text/html": "<span style=\"color:#7E57C2\"><h2 style=\"font-size:16px\">Hyperparameters:</h2></span>",
      "text/plain": "<IPython.core.display.HTML object>"
     },
     "metadata": {},
     "output_type": "display_data"
    },
    {
     "data": {
      "text/html": "<span style=\"color:cyan\"> |-activation: relu</span>",
      "text/plain": "<IPython.core.display.HTML object>"
     },
     "metadata": {},
     "output_type": "display_data"
    },
    {
     "data": {
      "text/html": "<span style=\"color:blue\"> |-batch_size: 2048</span>",
      "text/plain": "<IPython.core.display.HTML object>"
     },
     "metadata": {},
     "output_type": "display_data"
    },
    {
     "data": {
      "text/html": "<span style=\"color:cyan\"> |-beta: 1.0</span>",
      "text/plain": "<IPython.core.display.HTML object>"
     },
     "metadata": {},
     "output_type": "display_data"
    },
    {
     "data": {
      "text/html": "<span style=\"color:blue\"> |-epochs: 10</span>",
      "text/plain": "<IPython.core.display.HTML object>"
     },
     "metadata": {},
     "output_type": "display_data"
    },
    {
     "data": {
      "text/html": "<span style=\"color:cyan\"> |-intermediate_dim: 64</span>",
      "text/plain": "<IPython.core.display.HTML object>"
     },
     "metadata": {},
     "output_type": "display_data"
    },
    {
     "data": {
      "text/html": "<span style=\"color:blue\"> |-lr: 1.0</span>",
      "text/plain": "<IPython.core.display.HTML object>"
     },
     "metadata": {},
     "output_type": "display_data"
    },
    {
     "data": {
      "text/html": "<span style=\"color:cyan\"> |-reconstruction_loss_metrics: MSE</span>",
      "text/plain": "<IPython.core.display.HTML object>"
     },
     "metadata": {},
     "output_type": "display_data"
    },
    {
     "data": {
      "text/html": "<span style=\"color:blue\"> |-tuner/bracket: 0</span>",
      "text/plain": "<IPython.core.display.HTML object>"
     },
     "metadata": {},
     "output_type": "display_data"
    },
    {
     "data": {
      "text/html": "<span style=\"color:cyan\"> |-tuner/epochs: 20</span>",
      "text/plain": "<IPython.core.display.HTML object>"
     },
     "metadata": {},
     "output_type": "display_data"
    },
    {
     "data": {
      "text/html": "<span style=\"color:blue\"> |-tuner/initial_epoch: 0</span>",
      "text/plain": "<IPython.core.display.HTML object>"
     },
     "metadata": {},
     "output_type": "display_data"
    },
    {
     "data": {
      "text/html": "<span style=\"color:cyan\"> |-tuner/round: 0</span>",
      "text/plain": "<IPython.core.display.HTML object>"
     },
     "metadata": {},
     "output_type": "display_data"
    },
    {
     "data": {
      "text/html": "<span style=\"color:blue\"> |-z_dim: 2</span>",
      "text/plain": "<IPython.core.display.HTML object>"
     },
     "metadata": {},
     "output_type": "display_data"
    },
    {
     "data": {
      "text/html": "<span style=\"color:#4527A0\"><h1 style=\"font-size:18px\">Trial complete</h1></span>",
      "text/plain": "<IPython.core.display.HTML object>"
     },
     "metadata": {},
     "output_type": "display_data"
    },
    {
     "data": {
      "text/html": "<span style=\"color:#4527A0\"><h1 style=\"font-size:18px\">Trial summary</h1></span>",
      "text/plain": "<IPython.core.display.HTML object>"
     },
     "metadata": {},
     "output_type": "display_data"
    },
    {
     "data": {
      "text/html": "<span style=\"color:cyan\"> |-Trial ID: b13c5782bda88945764611783090ef0c</span>",
      "text/plain": "<IPython.core.display.HTML object>"
     },
     "metadata": {},
     "output_type": "display_data"
    },
    {
     "data": {
      "text/html": "<span style=\"color:cyan\"> |-Score: 315.9505310058594</span>",
      "text/plain": "<IPython.core.display.HTML object>"
     },
     "metadata": {},
     "output_type": "display_data"
    },
    {
     "data": {
      "text/html": "<span style=\"color:cyan\"> |-Best step: 0</span>",
      "text/plain": "<IPython.core.display.HTML object>"
     },
     "metadata": {},
     "output_type": "display_data"
    },
    {
     "data": {
      "text/html": "<span style=\"color:#7E57C2\"><h2 style=\"font-size:16px\">Hyperparameters:</h2></span>",
      "text/plain": "<IPython.core.display.HTML object>"
     },
     "metadata": {},
     "output_type": "display_data"
    },
    {
     "data": {
      "text/html": "<span style=\"color:cyan\"> |-activation: elu</span>",
      "text/plain": "<IPython.core.display.HTML object>"
     },
     "metadata": {},
     "output_type": "display_data"
    },
    {
     "data": {
      "text/html": "<span style=\"color:blue\"> |-batch_size: 1024</span>",
      "text/plain": "<IPython.core.display.HTML object>"
     },
     "metadata": {},
     "output_type": "display_data"
    },
    {
     "data": {
      "text/html": "<span style=\"color:cyan\"> |-beta: 1.0</span>",
      "text/plain": "<IPython.core.display.HTML object>"
     },
     "metadata": {},
     "output_type": "display_data"
    },
    {
     "data": {
      "text/html": "<span style=\"color:blue\"> |-epochs: 20</span>",
      "text/plain": "<IPython.core.display.HTML object>"
     },
     "metadata": {},
     "output_type": "display_data"
    },
    {
     "data": {
      "text/html": "<span style=\"color:cyan\"> |-intermediate_dim: 64</span>",
      "text/plain": "<IPython.core.display.HTML object>"
     },
     "metadata": {},
     "output_type": "display_data"
    },
    {
     "data": {
      "text/html": "<span style=\"color:blue\"> |-lr: 1.0</span>",
      "text/plain": "<IPython.core.display.HTML object>"
     },
     "metadata": {},
     "output_type": "display_data"
    },
    {
     "data": {
      "text/html": "<span style=\"color:cyan\"> |-reconstruction_loss_metrics: MSE</span>",
      "text/plain": "<IPython.core.display.HTML object>"
     },
     "metadata": {},
     "output_type": "display_data"
    },
    {
     "data": {
      "text/html": "<span style=\"color:blue\"> |-tuner/bracket: 0</span>",
      "text/plain": "<IPython.core.display.HTML object>"
     },
     "metadata": {},
     "output_type": "display_data"
    },
    {
     "data": {
      "text/html": "<span style=\"color:cyan\"> |-tuner/epochs: 20</span>",
      "text/plain": "<IPython.core.display.HTML object>"
     },
     "metadata": {},
     "output_type": "display_data"
    },
    {
     "data": {
      "text/html": "<span style=\"color:blue\"> |-tuner/initial_epoch: 0</span>",
      "text/plain": "<IPython.core.display.HTML object>"
     },
     "metadata": {},
     "output_type": "display_data"
    },
    {
     "data": {
      "text/html": "<span style=\"color:cyan\"> |-tuner/round: 0</span>",
      "text/plain": "<IPython.core.display.HTML object>"
     },
     "metadata": {},
     "output_type": "display_data"
    },
    {
     "data": {
      "text/html": "<span style=\"color:blue\"> |-z_dim: 2</span>",
      "text/plain": "<IPython.core.display.HTML object>"
     },
     "metadata": {},
     "output_type": "display_data"
    }
   ],
   "source": [
    "hp = kt.HyperParameters()\n",
    "\n",
    "hypermodel = VaeHyperModel(optimizer = Adam)\n",
    "# Hyperband, RandomSearch\n",
    "tuner = Hyperband(\n",
    "    hypermodel,\n",
    "    objective='loss',\n",
    "    #max_trials=20,\n",
    "    max_epochs=20,\n",
    "    directory='my_dir',\n",
    "    project_name='helloworld')\n",
    "\n",
    "# Parameter search\n",
    "tuner.search([x_train, y_train], None,\n",
    "             epochs=2,\n",
    "             validation_data=([x_test, y_test], None))\n"
   ]
  },
  {
   "cell_type": "code",
   "execution_count": 38,
   "outputs": [
    {
     "name": "stdout",
     "output_type": "stream",
     "text": [
      "WARNING:tensorflow:Unresolved object in checkpoint: (root).optimizer.iter\n",
      "WARNING:tensorflow:Unresolved object in checkpoint: (root).optimizer.beta_1\n",
      "WARNING:tensorflow:Unresolved object in checkpoint: (root).optimizer.beta_2\n",
      "WARNING:tensorflow:Unresolved object in checkpoint: (root).optimizer.decay\n",
      "WARNING:tensorflow:Unresolved object in checkpoint: (root).optimizer.learning_rate\n",
      "WARNING:tensorflow:A checkpoint was restored (e.g. tf.train.Checkpoint.restore or tf.keras.Model.load_weights) but not all checkpointed values were used. See above for specific issues. Use expect_partial() on the load status object, e.g. tf.train.Checkpoint.restore(...).expect_partial(), to silence these warnings, or use assert_consumed() to make the check explicit. See https://www.tensorflow.org/alpha/guide/checkpoints#loading_mechanics for details.\n",
      "WARNING:tensorflow:Output loss_reconstruction_0_0 missing from loss dictionary. We assume this was done on purpose. The fit and evaluate APIs will not be expecting any data to be passed to loss_reconstruction_0_0.\n",
      "WARNING:tensorflow:Output loss_prior_0 missing from loss dictionary. We assume this was done on purpose. The fit and evaluate APIs will not be expecting any data to be passed to loss_prior_0.\n",
      "['Boolean', 'Choice', 'Fixed', 'Float', 'Int', '__class__', '__contains__', '__delattr__', '__dict__', '__dir__', '__doc__', '__eq__', '__format__', '__ge__', '__getattribute__', '__getitem__', '__gt__', '__hash__', '__init__', '__le__', '__lt__', '__module__', '__ne__', '__new__', '__reduce__', '__reduce_ex__', '__repr__', '__setattr__', '__sizeof__', '__str__', '__subclasshook__', '__weakref__', '_check_name_is_valid', '_conditions_are_active', '_get_name', '_get_name_parts', '_is_conditional_scope', '_is_name_scope', '_retrieve', '_retrieve_helper', '_scopes', '_space', 'conditional_scope', 'copy', 'from_config', 'from_proto', 'get', 'get_config', 'merge', 'name_scope', 'register', 'space', 'to_proto', 'values']\n",
      "{'z_dim': 2, 'reconstruction_loss_metrics': 'MSE', 'intermediate_dim': 256, 'tuner/initial_epoch': 0, 'tuner/round': 0, 'beta': 1.0, 'activation': 'elu', 'epochs': 20, 'lr': 1.0, 'tuner/bracket': 0, 'tuner/epochs': 20, 'batch_size': 1024}\n"
     ]
    }
   ],
   "source": [
    "#tuner.results_summary()\n",
    "best_model= tuner.get_best_models(num_models=1)\n",
    "best_hyperparameters = tuner.get_best_hyperparameters(1)[0]\n",
    "print(best_hyperparameters.values)"
   ],
   "metadata": {
    "collapsed": false,
    "pycharm": {
     "name": "#%%\n"
    }
   }
  }
 ],
 "metadata": {
  "kernelspec": {
   "display_name": "Python 3",
   "language": "python",
   "name": "python3"
  },
  "language_info": {
   "codemirror_mode": {
    "name": "ipython",
    "version": 3
   },
   "file_extension": ".py",
   "mimetype": "text/x-python",
   "name": "python",
   "nbconvert_exporter": "python",
   "pygments_lexer": "ipython3",
   "version": "3.5.2"
  },
  "varInspector": {
   "cols": {
    "lenName": 16,
    "lenType": 16,
    "lenVar": 40
   },
   "kernels_config": {
    "python": {
     "delete_cmd_postfix": "",
     "delete_cmd_prefix": "del ",
     "library": "var_list.py",
     "varRefreshCmd": "print(var_dic_list())"
    },
    "r": {
     "delete_cmd_postfix": ") ",
     "delete_cmd_prefix": "rm(",
     "library": "var_list.r",
     "varRefreshCmd": "cat(var_dic_list()) "
    }
   },
   "oldHeight": 987,
   "position": {
    "height": "40px",
    "left": "1273.52px",
    "right": "20px",
    "top": "255.75px",
    "width": "600px"
   },
   "types_to_exclude": [
    "module",
    "function",
    "builtin_function_or_method",
    "instance",
    "_Feature"
   ],
   "varInspector_section_display": "none",
   "window_display": false
  }
 },
 "nbformat": 4,
 "nbformat_minor": 2
}