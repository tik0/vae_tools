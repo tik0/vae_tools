{
 "cells": [
  {
   "cell_type": "markdown",
   "metadata": {},
   "source": [
    "# This script demonstrates how to build a variational autoencoder with vae_tools"
   ]
  },
  {
   "cell_type": "code",
   "execution_count": null,
   "metadata": {},
   "outputs": [],
   "source": [
    "import vae_tools.sanity\n",
    "import vae_tools.viz\n",
    "import vae_tools.callbacks\n",
    "from vae_tools.mmvae import MmVae, ReconstructionLoss\n",
    "vae_tools.sanity.check()\n",
    "import tensorflow as tf\n",
    "from tensorflow import keras\n",
    "from tensorflow.keras.layers import Input, Dense, Lambda, Layer\n",
    "from tensorflow.keras.datasets import mnist\n",
    "import numpy as np\n",
    "from scipy.stats import norm\n",
    "# Set the seed for reproducible results\n",
    "import vae_tools.sampling\n",
    "vae_tools.sampling.set_seed(0)\n",
    "# resize the notebook if desired\n",
    "#vae_tools.nb_tools.notebook_resize()\n",
    "import matplotlib\n",
    "import matplotlib.pyplot as plt"
   ]
  },
  {
   "cell_type": "code",
   "execution_count": null,
   "metadata": {},
   "outputs": [],
   "source": [
    "# Get the MNIST digits\n",
    "(x_train, y_train), (x_test, y_test) = mnist.load_data()\n",
    "x_train = x_train.astype('float32') / 255.\n",
    "x_test = x_test.astype('float32') / 255.\n",
    "x_train = x_train.reshape((len(x_train), np.prod(x_train.shape[1:])))\n",
    "x_test = x_test.reshape((len(x_test), np.prod(x_test.shape[1:])))"
   ]
  },
  {
   "cell_type": "code",
   "execution_count": null,
   "metadata": {
    "scrolled": true
   },
   "outputs": [],
   "source": [
    "# input image dimensions\n",
    "img_rows, img_cols, img_chns = 28, 28, 1\n",
    "batch_size = 1024\n",
    "original_dim = img_rows * img_cols * img_chns\n",
    "intermediate_dim = 256\n",
    "epochs = 50\n",
    "z_dim = 2\n",
    "beta = 1.\n",
    "\n",
    "encoder = [[\n",
    "    Input(shape=(original_dim,), name=\"input\"),                       # Input layer\n",
    "    Dense(intermediate_dim, activation='relu', name=\"enc_0\"),         # First encoder layer\n",
    "    Dense(int(intermediate_dim/2), activation='relu', name=\"enc_1\")   # Second encoder layer\n",
    "]]\n",
    "\n",
    "decoder = [[\n",
    "    Dense(int(intermediate_dim/2), activation='relu', name=\"dec_0\"),  # First decoder layer\n",
    "    Dense(intermediate_dim, activation='relu', name=\"dec_1\"),         # Second decoder layer\n",
    "    Dense(original_dim, activation='sigmoid', name=\"output\")          # Output layer\n",
    "]]\n",
    "\n",
    "vae_obj = MmVae(z_dim, encoder, decoder, [original_dim], beta, reconstruction_loss_metrics = [ReconstructionLoss.BCE], name='Vae')\n",
    "\n",
    "vae = vae_obj.get_model()\n",
    "vae.compile(optimizer='rmsprop', loss=None)\n",
    "vae_tools.viz.plot_model(vae, file = 'myVAE', print_svg = False, verbose = True)"
   ]
  },
  {
   "cell_type": "code",
   "execution_count": null,
   "metadata": {
    "scrolled": true
   },
   "outputs": [],
   "source": [
    "# Store the losses, encodings, and decodings to tensorboard\n",
    "# It is important to include the native Tensorboard callback as well besides vae_tools.callbacks.Tb*\n",
    "log_dir = './Graph/mnist_wo_conv'\n",
    "\n",
    "writer = tf.summary.FileWriter(log_dir) # Get a writer for our own callbacks\n",
    "np.savetxt(log_dir + \"y_test.tsv\", y_test, fmt=\"%d\", delimiter=\"\\t\") # Store the labels for the embedding\n",
    "tb_cb = keras.callbacks.TensorBoard(log_dir=log_dir, histogram_freq=1, write_graph=True, write_images=True, write_grads=True, embeddings_freq=1, embeddings_layer_names=[\"mean_0\"], embeddings_metadata=\"y_test.tsv\", embeddings_data=x_test, update_freq='epoch')\n",
    "tblosses_cb = vae_tools.callbacks.TbLosses(writer = writer, data = x_test, log_dir=log_dir)\n",
    "tbembedding_cb = vae_tools.callbacks.TbEmbedding(writer = writer, data = x_test, encoder_model = vae_obj.get_encoder_mean([encoder[0][0]]), labels = y_test, log_dir=log_dir)\n",
    "tbdecoding_cb = vae_tools.callbacks.TbDecoding2dGaussian(writer = writer, decoder_model = vae_obj.get_decoder(), log_dir=log_dir)\n",
    "# Store the losses to a history object for plotting\n",
    "losses_cb = vae_tools.callbacks.Losses(data = x_test)\n",
    "# Train\n",
    "vae.fit(x_train,\n",
    "            shuffle=True,\n",
    "            epochs=epochs,\n",
    "            batch_size=batch_size,\n",
    "            validation_data=(x_test, None),\n",
    "            verbose = 0,\n",
    "            callbacks=[tb_cb, tblosses_cb, tbdecoding_cb, tbembedding_cb, losses_cb])"
   ]
  },
  {
   "cell_type": "code",
   "execution_count": null,
   "metadata": {},
   "outputs": [],
   "source": [
    "# Show the losses\n",
    "f, axs = plt.subplots(len(list(losses_cb.history.values()))+1, 1, sharex=True, figsize=[10,10], dpi=96)\n",
    "for idx in range(len(axs)-1):\n",
    "    axs[idx].plot(list(losses_cb.history.values())[idx])\n",
    "    axs[idx].set_title([list(losses_cb.history.keys())[idx]])\n",
    "axs[-1].plot([sum(values) for values in zip(*list(losses_cb.history.values()))])\n",
    "axs[-1].set_title(\"ELBO\")\n",
    "plt.show()"
   ]
  },
  {
   "cell_type": "code",
   "execution_count": null,
   "metadata": {},
   "outputs": [],
   "source": [
    "# build a digit generator that can sample from the learned distribution\n",
    "generator = vae_obj.get_decoder()\n",
    "from scipy.stats import norm\n",
    "# display a 2D manifold of the digits\n",
    "n = 15  # figure with 15x15 digits\n",
    "digit_size = 28\n",
    "figure = np.zeros((digit_size * n, digit_size * n))\n",
    "# linearly spaced coordinates on the unit square were transformed through the inverse CDF (ppf) of the Gaussian\n",
    "# to produce values of the latent variables z, since the prior of the latent space is Gaussian\n",
    "grid_x = norm.ppf(np.linspace(0.05, 0.95, n))\n",
    "grid_y = norm.ppf(np.linspace(0.05, 0.95, n))\n",
    "\n",
    "for i, yi in enumerate(grid_y):\n",
    "    for j, xi in enumerate(grid_x):\n",
    "        z_sample = np.array([[xi, yi]])\n",
    "        x_decoded = generator.predict(z_sample)\n",
    "        digit = x_decoded[0].reshape(digit_size, digit_size)\n",
    "        figure[(n-1-i) * digit_size: ((n-1-i) + 1) * digit_size,\n",
    "               j * digit_size: (j + 1) * digit_size] = digit\n",
    "\n",
    "plt.figure(figsize=(10, 10))\n",
    "plt.imshow(figure, cmap='Greys_r')\n",
    "plt.show()"
   ]
  },
  {
   "cell_type": "code",
   "execution_count": null,
   "metadata": {},
   "outputs": [],
   "source": [
    "# build a model to project inputs on the latent space\n",
    "encoder_input = [encoder[0][0]]\n",
    "encoder_model = vae_obj.get_encoder_mean(encoder_input)\n",
    "# display a 2D plot of the digit classes in the latent space\n",
    "x_test_encoded = encoder_model.predict(x_test, batch_size=batch_size)\n",
    "f = plt.figure(figsize=(6, 6))\n",
    "plt.scatter(x_test_encoded[:, 0], x_test_encoded[:, 1], c=y_test, cmap='tab10')\n",
    "plt.colorbar()\n",
    "plt.axis(\"equal\")\n",
    "plt.show()"
   ]
  }
 ],
 "metadata": {
  "kernelspec": {
   "display_name": "Python 3",
   "language": "python",
   "name": "python3"
  },
  "language_info": {
   "codemirror_mode": {
    "name": "ipython",
    "version": 3
   },
   "file_extension": ".py",
   "mimetype": "text/x-python",
   "name": "python",
   "nbconvert_exporter": "python",
   "pygments_lexer": "ipython3",
   "version": "3.5.2"
  },
  "pycharm": {
   "stem_cell": {
    "cell_type": "raw",
    "source": [],
    "metadata": {
     "collapsed": false
    }
   }
  },
  "varInspector": {
   "cols": {
    "lenName": 16,
    "lenType": 16,
    "lenVar": 40
   },
   "kernels_config": {
    "python": {
     "delete_cmd_postfix": "",
     "delete_cmd_prefix": "del ",
     "library": "var_list.py",
     "varRefreshCmd": "print(var_dic_list())"
    },
    "r": {
     "delete_cmd_postfix": ") ",
     "delete_cmd_prefix": "rm(",
     "library": "var_list.r",
     "varRefreshCmd": "cat(var_dic_list()) "
    }
   },
   "oldHeight": 987,
   "position": {
    "height": "40px",
    "left": "1273.52px",
    "right": "20px",
    "top": "255.75px",
    "width": "600px"
   },
   "types_to_exclude": [
    "module",
    "function",
    "builtin_function_or_method",
    "instance",
    "_Feature"
   ],
   "varInspector_section_display": "none",
   "window_display": false
  }
 },
 "nbformat": 4,
 "nbformat_minor": 2
}